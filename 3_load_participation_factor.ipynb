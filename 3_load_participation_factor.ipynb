{
 "cells": [
  {
   "cell_type": "code",
   "execution_count": 1,
   "metadata": {},
   "outputs": [
    {
     "name": "stdout",
     "output_type": "stream",
     "text": [
      "Requirement already satisfied: tqdm in /Users/pornchaichaweewat/anaconda3/lib/python3.6/site-packages\n",
      "\u001b[33mYou are using pip version 9.0.1, however version 19.1.1 is available.\n",
      "You should consider upgrading via the 'pip install --upgrade pip' command.\u001b[0m\n"
     ]
    }
   ],
   "source": [
    "!pip install tqdm"
   ]
  },
  {
   "cell_type": "code",
   "execution_count": 1,
   "metadata": {},
   "outputs": [
    {
     "name": "stdout",
     "output_type": "stream",
     "text": [
      "2.0.1\n"
     ]
    }
   ],
   "source": [
    "import pandapower as pp\n",
    "import pandapower.networks as pn\n",
    "from pandapower.estimation import estimate, remove_bad_data, chi2_analysis\n",
    "import pandas as pd\n",
    "import numpy as np\n",
    "# from tqdm import tqdm\n",
    "\n",
    "from scipy import stats\n",
    "\n",
    "print(pp.__version__)\n",
    "\n"
   ]
  },
  {
   "cell_type": "code",
   "execution_count": 2,
   "metadata": {},
   "outputs": [],
   "source": [
    "def create_measurement_unit(df_measurement, net):\n",
    "    list_value=[]\n",
    "    list_std=[]\n",
    "#     print(net)\n",
    "    for index, row in df_measurement.iterrows():\n",
    "        if row['element_type'] =='bus':\n",
    "            if row['meas_type'] =='v':\n",
    "                mu= net.res_bus.iloc[row['element'],0]\n",
    "                sigma = (abs(mu)*1.03-abs(mu)*0.97)/4\n",
    "            elif row['meas_type'] =='p':\n",
    "                mu= net.res_bus.iloc[row['element'],2]\n",
    "                sigma = (abs(mu)*1.03-abs(mu)*0.97)/4\n",
    "            elif row['meas_type'] =='q':\n",
    "                mu= net.res_bus.iloc[row['element'],3]\n",
    "                sigma = (abs(mu)*1.03-abs(mu)*0.97)/4\n",
    "\n",
    "        elif row['element_type'] =='line':\n",
    "\n",
    "            if row['side']=='from':\n",
    "                if row['meas_type'] =='p':\n",
    "                    mu= net.res_line.iloc[row['element'],0]\n",
    "                    sigma = (abs(mu)*1.05-abs(mu)*0.95)/4\n",
    "                elif row['meas_type'] =='q':\n",
    "                    mu = net.res_line.iloc[row['element'],1]\n",
    "                    sigma = (abs(mu)*1.05-abs(mu)*0.95)/4\n",
    "                elif row['meas_type']=='i':\n",
    "                    mu=net.res_line.iloc[row['element'],6]\n",
    "                    sigma = (abs(mu)*1.05-abs(mu)*0.95)/4\n",
    "            elif row['side']=='to':\n",
    "                pass\n",
    "\n",
    "        elif row['element_type'] =='trafo':\n",
    "            'create trafo measurement'\n",
    "            if row['side']=='from':\n",
    "                pass\n",
    "            elif row['side']=='to':\n",
    "                if row['meas_type'] =='v':\n",
    "                    mu =net.res_trafo.iloc[row['element'],10]\n",
    "                    sigma = (abs(mu)*1.05-abs(mu)*0.95)/4\n",
    "        #                 print(mu)\n",
    "                elif row['meas_type'] =='p':\n",
    "                    mu =net.res_trafo.iloc[row['element'],2]\n",
    "                    sigma = (abs(mu)*1.05-abs(mu)*0.95)/4\n",
    "                elif row['meas_type'] =='q':\n",
    "                    mu =net.res_trafo.iloc[row['element'],3]\n",
    "        #                 print(mu)\n",
    "                    sigma = (abs(mu)*1.05-abs(mu)*0.95)/4\n",
    "        #     print('Mean:',mu, 'standard deviation:', sigma)\n",
    "        value = np.random.normal(mu, sigma, 1)\n",
    "        #     print('Random value:', value[0])\n",
    "        list_value.append(value[0])\n",
    "        list_std.append(sigma)\n",
    "#     print(list_value)\n",
    "    df_measurement['value']=list_value\n",
    "    df_measurement['std_dev']=list_std\n",
    "\n",
    "    for index, row in df_measurement.iterrows():\n",
    "        if row['element_type']=='bus':\n",
    "#             print('create bus measurement')\n",
    "            pp.create_measurement(net, row['meas_type'], row['element_type'], value=row['value'], \n",
    "                                  std_dev=row['std_dev'], element=row['element'])\n",
    "\n",
    "        elif row['element_type']=='line':\n",
    "#             print('create line measurement')\n",
    "            pp.create_measurement(net, row['meas_type'], row['element_type'], value=row['value'], \n",
    "                                  std_dev=row['std_dev'], element=row['element'], side=row['side'])\n",
    "\n",
    "        elif row['element_type']=='trafo':\n",
    "#             print('create trafo measurement')\n",
    "            if row['meas_type'] in ['p','q']:\n",
    "                pp.create_measurement(net, row['meas_type'], row['element_type'], value=row['value'], \n",
    "                                      std_dev=row['std_dev'], element=row['element'], side=row['side'])\n",
    "    return df_measurement, net"
   ]
  },
  {
   "cell_type": "markdown",
   "metadata": {},
   "source": [
    "# NO solar PV"
   ]
  },
  {
   "cell_type": "code",
   "execution_count": 13,
   "metadata": {},
   "outputs": [],
   "source": [
    "net1 = pn.simple_four_bus_system()\n",
    "net1.sgen['p_mw']=[0,0]\n",
    "net1.sgen['q_mvar']=[0,0]\n",
    "net1.sgen['sn_mva']=[0,0]\n",
    "pp.runpp(net1)"
   ]
  },
  {
   "cell_type": "code",
   "execution_count": 14,
   "metadata": {},
   "outputs": [],
   "source": [
    "df_measurement=pd.DataFrame()\n",
    "df_measurement['meas_type']=['v','v','v','v','p','p','q','q','i','i']\n",
    "df_measurement['element_type']=['bus','bus','bus','bus','line','line','line','line','line','line']\n",
    "df_measurement['element']=[0,1,2,3,0,1,0,1,0,1]\n",
    "df_measurement['side']=['None','None','None','None','from','from','from','from','from','from']\n",
    "df_measurement, net1 = create_measurement_unit(df_measurement, net1)\n",
    "success = estimate(net1, init=\"flat\", calculate_voltage_angles=True, zero_injection=[1])\n",
    "V_est, delta_est = net1.res_bus_est.vm_pu, net1.res_bus_est.va_degree"
   ]
  },
  {
   "cell_type": "code",
   "execution_count": 15,
   "metadata": {},
   "outputs": [],
   "source": [
    "list_slack_bus=[0]\n",
    "list_zero_inject_bus=[1]\n",
    "list_known_generation_bus=[0]\n",
    "participation_bus=list(set(list(net1.bus.index))-set(list_slack_bus+list_zero_inject_bus))"
   ]
  },
  {
   "cell_type": "code",
   "execution_count": 16,
   "metadata": {},
   "outputs": [
    {
     "name": "stdout",
     "output_type": "stream",
     "text": [
      "loss is: -8.55054064773213 %\n"
     ]
    }
   ],
   "source": [
    "df_LPF=pd.DataFrame()\n",
    "df_LPF['name']=net1.bus['name'].copy()\n",
    "df_LPF['name']=net1.bus['name'].copy()\n",
    "known_generation=-net1.res_bus_est.iloc[list_slack_bus[0],2]\n",
    "\n",
    "allocate_p_MW=[]\n",
    "allocate_q_MVAR=[]\n",
    "for index, row in df_LPF.iterrows():\n",
    "    if index in list_known_generation_bus+list_zero_inject_bus:\n",
    "        allocate_p_MW.append(0)\n",
    "        allocate_q_MVAR.append(0)\n",
    "    else:\n",
    "        allocate_p_MW.append(net1.res_bus_est.iloc[index,2])\n",
    "        allocate_q_MVAR.append(net1.res_bus_est.iloc[index,3])\n",
    "df_LPF['allocate_p_MW']=allocate_p_MW\n",
    "df_LPF['allocate_1_MVAR']=allocate_q_MVAR\n",
    "\n",
    "          \n",
    "df_LPF['LPF']=net1.res_bus_est['p_mw']/known_generation\n",
    "\n",
    "loss=sum(df_LPF.iloc[list_known_generation_bus,:]['LPF'])+sum(df_LPF.iloc[participation_bus,:]['LPF'])\n",
    "\n",
    "print('loss is:', loss*100, '%')\n",
    "line_loss=sum(net1.res_line_est['pl_mw'])\n",
    "line_loss_participation=line_loss/known_generation"
   ]
  },
  {
   "cell_type": "code",
   "execution_count": 17,
   "metadata": {},
   "outputs": [
    {
     "data": {
      "text/plain": [
       "0.016081240355399776"
      ]
     },
     "execution_count": 17,
     "metadata": {},
     "output_type": "execute_result"
    }
   ],
   "source": [
    "line_loss"
   ]
  },
  {
   "cell_type": "code",
   "execution_count": 18,
   "metadata": {},
   "outputs": [
    {
     "data": {
      "text/html": [
       "<div>\n",
       "<style scoped>\n",
       "    .dataframe tbody tr th:only-of-type {\n",
       "        vertical-align: middle;\n",
       "    }\n",
       "\n",
       "    .dataframe tbody tr th {\n",
       "        vertical-align: top;\n",
       "    }\n",
       "\n",
       "    .dataframe thead th {\n",
       "        text-align: right;\n",
       "    }\n",
       "</style>\n",
       "<table border=\"1\" class=\"dataframe\">\n",
       "  <thead>\n",
       "    <tr style=\"text-align: right;\">\n",
       "      <th></th>\n",
       "      <th>p_from_mw</th>\n",
       "      <th>q_from_mvar</th>\n",
       "      <th>p_to_mw</th>\n",
       "      <th>q_to_mvar</th>\n",
       "      <th>pl_mw</th>\n",
       "      <th>ql_mvar</th>\n",
       "      <th>i_from_ka</th>\n",
       "      <th>i_to_ka</th>\n",
       "      <th>i_ka</th>\n",
       "      <th>vm_from_pu</th>\n",
       "      <th>va_from_degree</th>\n",
       "      <th>vm_to_pu</th>\n",
       "      <th>va_to_degree</th>\n",
       "      <th>loading_percent</th>\n",
       "    </tr>\n",
       "  </thead>\n",
       "  <tbody>\n",
       "    <tr>\n",
       "      <th>0</th>\n",
       "      <td>0.074774</td>\n",
       "      <td>0.021728</td>\n",
       "      <td>-0.062258</td>\n",
       "      <td>-0.020114</td>\n",
       "      <td>0.012516</td>\n",
       "      <td>0.001614</td>\n",
       "      <td>0.114003</td>\n",
       "      <td>0.114005</td>\n",
       "      <td>0.114005</td>\n",
       "      <td>0.985858</td>\n",
       "      <td>-150.609578</td>\n",
       "      <td>0.828337</td>\n",
       "      <td>-148.911306</td>\n",
       "      <td>80.285399</td>\n",
       "    </tr>\n",
       "    <tr>\n",
       "      <th>1</th>\n",
       "      <td>0.033439</td>\n",
       "      <td>0.010054</td>\n",
       "      <td>-0.029874</td>\n",
       "      <td>-0.009596</td>\n",
       "      <td>0.003565</td>\n",
       "      <td>0.000458</td>\n",
       "      <td>0.060844</td>\n",
       "      <td>0.060846</td>\n",
       "      <td>0.060846</td>\n",
       "      <td>0.828337</td>\n",
       "      <td>-148.911306</td>\n",
       "      <td>0.744328</td>\n",
       "      <td>-147.842533</td>\n",
       "      <td>42.849282</td>\n",
       "    </tr>\n",
       "  </tbody>\n",
       "</table>\n",
       "</div>"
      ],
      "text/plain": [
       "   p_from_mw  q_from_mvar   p_to_mw  q_to_mvar     pl_mw   ql_mvar  i_from_ka  \\\n",
       "0   0.074774     0.021728 -0.062258  -0.020114  0.012516  0.001614   0.114003   \n",
       "1   0.033439     0.010054 -0.029874  -0.009596  0.003565  0.000458   0.060844   \n",
       "\n",
       "    i_to_ka      i_ka  vm_from_pu  va_from_degree  vm_to_pu  va_to_degree  \\\n",
       "0  0.114005  0.114005    0.985858     -150.609578  0.828337   -148.911306   \n",
       "1  0.060846  0.060846    0.828337     -148.911306  0.744328   -147.842533   \n",
       "\n",
       "   loading_percent  \n",
       "0        80.285399  \n",
       "1        42.849282  "
      ]
     },
     "execution_count": 18,
     "metadata": {},
     "output_type": "execute_result"
    }
   ],
   "source": [
    "net1.res_line_est"
   ]
  },
  {
   "cell_type": "code",
   "execution_count": 23,
   "metadata": {},
   "outputs": [
    {
     "data": {
      "text/plain": [
       "0.25056260679799175"
      ]
     },
     "execution_count": 23,
     "metadata": {},
     "output_type": "execute_result"
    }
   ],
   "source": [
    "line_loss_participation"
   ]
  },
  {
   "cell_type": "code",
   "execution_count": 19,
   "metadata": {},
   "outputs": [
    {
     "data": {
      "text/html": [
       "<div>\n",
       "<style scoped>\n",
       "    .dataframe tbody tr th:only-of-type {\n",
       "        vertical-align: middle;\n",
       "    }\n",
       "\n",
       "    .dataframe tbody tr th {\n",
       "        vertical-align: top;\n",
       "    }\n",
       "\n",
       "    .dataframe thead th {\n",
       "        text-align: right;\n",
       "    }\n",
       "</style>\n",
       "<table border=\"1\" class=\"dataframe\">\n",
       "  <thead>\n",
       "    <tr style=\"text-align: right;\">\n",
       "      <th></th>\n",
       "      <th>vm_pu</th>\n",
       "      <th>va_degree</th>\n",
       "      <th>p_mw</th>\n",
       "      <th>q_mvar</th>\n",
       "    </tr>\n",
       "  </thead>\n",
       "  <tbody>\n",
       "    <tr>\n",
       "      <th>0</th>\n",
       "      <td>0.986974</td>\n",
       "      <td>0.000000</td>\n",
       "      <td>-0.064181</td>\n",
       "      <td>0.012512</td>\n",
       "    </tr>\n",
       "    <tr>\n",
       "      <th>1</th>\n",
       "      <td>0.985858</td>\n",
       "      <td>-150.609578</td>\n",
       "      <td>-0.011386</td>\n",
       "      <td>-0.034904</td>\n",
       "    </tr>\n",
       "    <tr>\n",
       "      <th>2</th>\n",
       "      <td>0.828337</td>\n",
       "      <td>-148.911306</td>\n",
       "      <td>0.028819</td>\n",
       "      <td>0.010060</td>\n",
       "    </tr>\n",
       "    <tr>\n",
       "      <th>3</th>\n",
       "      <td>0.744328</td>\n",
       "      <td>-147.842533</td>\n",
       "      <td>0.029874</td>\n",
       "      <td>0.009596</td>\n",
       "    </tr>\n",
       "  </tbody>\n",
       "</table>\n",
       "</div>"
      ],
      "text/plain": [
       "      vm_pu   va_degree      p_mw    q_mvar\n",
       "0  0.986974    0.000000 -0.064181  0.012512\n",
       "1  0.985858 -150.609578 -0.011386 -0.034904\n",
       "2  0.828337 -148.911306  0.028819  0.010060\n",
       "3  0.744328 -147.842533  0.029874  0.009596"
      ]
     },
     "execution_count": 19,
     "metadata": {},
     "output_type": "execute_result"
    }
   ],
   "source": [
    "net1.res_bus_est"
   ]
  },
  {
   "cell_type": "code",
   "execution_count": 20,
   "metadata": {},
   "outputs": [
    {
     "data": {
      "text/plain": [
       "0.016081240355399776"
      ]
     },
     "execution_count": 20,
     "metadata": {},
     "output_type": "execute_result"
    }
   ],
   "source": [
    "line_loss"
   ]
  },
  {
   "cell_type": "code",
   "execution_count": 21,
   "metadata": {},
   "outputs": [
    {
     "data": {
      "text/plain": [
       "0.25056260679799175"
      ]
     },
     "execution_count": 21,
     "metadata": {},
     "output_type": "execute_result"
    }
   ],
   "source": [
    "line_loss_participation"
   ]
  },
  {
   "cell_type": "code",
   "execution_count": 22,
   "metadata": {},
   "outputs": [
    {
     "data": {
      "text/html": [
       "<div>\n",
       "<style scoped>\n",
       "    .dataframe tbody tr th:only-of-type {\n",
       "        vertical-align: middle;\n",
       "    }\n",
       "\n",
       "    .dataframe tbody tr th {\n",
       "        vertical-align: top;\n",
       "    }\n",
       "\n",
       "    .dataframe thead th {\n",
       "        text-align: right;\n",
       "    }\n",
       "</style>\n",
       "<table border=\"1\" class=\"dataframe\">\n",
       "  <thead>\n",
       "    <tr style=\"text-align: right;\">\n",
       "      <th></th>\n",
       "      <th>name</th>\n",
       "      <th>allocate_p_MW</th>\n",
       "      <th>allocate_1_MVAR</th>\n",
       "      <th>LPF</th>\n",
       "    </tr>\n",
       "  </thead>\n",
       "  <tbody>\n",
       "    <tr>\n",
       "      <th>0</th>\n",
       "      <td>bus1ref</td>\n",
       "      <td>0.000000</td>\n",
       "      <td>0.000000</td>\n",
       "      <td>-1.000000</td>\n",
       "    </tr>\n",
       "    <tr>\n",
       "      <th>1</th>\n",
       "      <td>bus2</td>\n",
       "      <td>0.000000</td>\n",
       "      <td>0.000000</td>\n",
       "      <td>-0.177408</td>\n",
       "    </tr>\n",
       "    <tr>\n",
       "      <th>2</th>\n",
       "      <td>bus3</td>\n",
       "      <td>0.028819</td>\n",
       "      <td>0.010060</td>\n",
       "      <td>0.449026</td>\n",
       "    </tr>\n",
       "    <tr>\n",
       "      <th>3</th>\n",
       "      <td>bus4</td>\n",
       "      <td>0.029874</td>\n",
       "      <td>0.009596</td>\n",
       "      <td>0.465469</td>\n",
       "    </tr>\n",
       "  </tbody>\n",
       "</table>\n",
       "</div>"
      ],
      "text/plain": [
       "      name  allocate_p_MW  allocate_1_MVAR       LPF\n",
       "0  bus1ref       0.000000         0.000000 -1.000000\n",
       "1     bus2       0.000000         0.000000 -0.177408\n",
       "2     bus3       0.028819         0.010060  0.449026\n",
       "3     bus4       0.029874         0.009596  0.465469"
      ]
     },
     "execution_count": 22,
     "metadata": {},
     "output_type": "execute_result"
    }
   ],
   "source": [
    "df_LPF"
   ]
  },
  {
   "cell_type": "code",
   "execution_count": 171,
   "metadata": {
    "scrolled": true
   },
   "outputs": [],
   "source": [
    "list_LPF_zero_injection_bus=[]\n",
    "for round in range(0,100):\n",
    "# for round in tqdm(range(0,100)):\n",
    "#     print(round)\n",
    "    net1 = pn.simple_four_bus_system()\n",
    "    net1.sgen['p_mw']=[0,0]\n",
    "    net1.sgen['q_mvar']=[0,0]\n",
    "    net1.sgen['sn_mva']=[0,0]\n",
    "    pp.runpp(net1)\n",
    "    df_measurement=pd.DataFrame()\n",
    "    df_measurement['meas_type']=['v','v','v','v','p','p','q','q','i','i']\n",
    "    df_measurement['element_type']=['bus','bus','bus','bus','line','line','line','line','line','line']\n",
    "    df_measurement['element']=[0,1,2,3,0,1,0,1,0,1]\n",
    "    df_measurement['side']=['None','None','None','None','from','from','from','from','from','from']\n",
    "    df_measurement, net1 = create_measurement_unit(df_measurement, net1)\n",
    "    success = estimate(net1, init=\"flat\", calculate_voltage_angles=True, zero_injection=[1])\n",
    "#     V_est, delta_est = net1.res_bus_est.vm_pu, net1.res_bus_est.va_degree\n",
    "    list_slack_bus=[0]\n",
    "    list_zero_inject_bus=[1]\n",
    "    list_known_generation_bus=[0]\n",
    "    participation_bus=list(set(list(net1.bus.index))-set(list_slack_bus+list_zero_inject_bus))\n",
    "    df_LPF=pd.DataFrame()\n",
    "    df_LPF['name']=net1.bus['name'].copy()\n",
    "    known_generation=-net1.res_bus_est.iloc[list_slack_bus[0],2]\n",
    "\n",
    "    allocate_p_MW=[]\n",
    "    allocate_q_MVAR=[]\n",
    "    for index, row in df_LPF.iterrows():\n",
    "        if index in list_known_generation_bus+list_zero_inject_bus:\n",
    "            allocate_p_MW.append(0)\n",
    "            allocate_q_MVAR.append(0)\n",
    "        else:\n",
    "            allocate_p_MW.append(net1.res_bus_est.iloc[index,2])\n",
    "            allocate_q_MVAR.append(net1.res_bus_est.iloc[index,3])\n",
    "    df_LPF['allocate_p_MW']=allocate_p_MW\n",
    "    df_LPF['allocate_1_MVAR']=allocate_q_MVAR\n",
    "\n",
    "\n",
    "    df_LPF['LPF']=net1.res_bus_est['p_mw']/known_generation\n",
    "\n",
    "    loss=sum(df_LPF.iloc[list_known_generation_bus,:]['LPF'])+sum(df_LPF.iloc[participation_bus,:]['LPF'])\n",
    "\n",
    "#     print('loss is:', loss*100, '%')\n",
    "    list_LPF_zero_injection_bus.append(df_LPF.LPF[1])"
   ]
  },
  {
   "cell_type": "code",
   "execution_count": 172,
   "metadata": {},
   "outputs": [
    {
     "data": {
      "text/plain": [
       "-0.09138461488661316"
      ]
     },
     "execution_count": 172,
     "metadata": {},
     "output_type": "execute_result"
    }
   ],
   "source": [
    "stats.trim_mean(np.array(list_LPF_zero_injection_bus), 0.1)"
   ]
  },
  {
   "cell_type": "code",
   "execution_count": 173,
   "metadata": {},
   "outputs": [
    {
     "data": {
      "text/plain": [
       "0.34064070238724187"
      ]
     },
     "execution_count": 173,
     "metadata": {},
     "output_type": "execute_result"
    }
   ],
   "source": [
    "np.array(list_LPF_zero_injection_bus).mean()"
   ]
  },
  {
   "cell_type": "code",
   "execution_count": null,
   "metadata": {},
   "outputs": [],
   "source": []
  },
  {
   "cell_type": "code",
   "execution_count": null,
   "metadata": {},
   "outputs": [],
   "source": []
  },
  {
   "cell_type": "code",
   "execution_count": null,
   "metadata": {},
   "outputs": [],
   "source": []
  },
  {
   "cell_type": "markdown",
   "metadata": {},
   "source": [
    "# integration solar PV"
   ]
  },
  {
   "cell_type": "code",
   "execution_count": 29,
   "metadata": {},
   "outputs": [],
   "source": [
    "net2 = pn.simple_four_bus_system()\n",
    "pp.runpp(net2)\n",
    "V, delta=net2.res_bus.vm_pu, net2.res_bus.va_degree\n",
    "# print(net)"
   ]
  },
  {
   "cell_type": "code",
   "execution_count": 30,
   "metadata": {},
   "outputs": [],
   "source": [
    "df_measurement=pd.DataFrame()\n",
    "df_measurement=pd.DataFrame()\n",
    "df_measurement['meas_type']=['v','v','v','v','p','p','q','q','i','i']\n",
    "df_measurement['element_type']=['bus','bus','bus','bus','line','line','line','line','line','line']\n",
    "df_measurement['element']=[0,1,2,3,0,1,0,1,0,1]\n",
    "df_measurement['side']=['None','None','None','None','from','from','from','from','from','from']\n",
    "\n",
    "#where bus measurement has 3%error\n",
    "#where line measurement has 5%error\n",
    "#where trafo measurement has 5%error\n",
    "\n",
    "df_measurement, net2 = create_measurement_unit(df_measurement, net2)\n",
    "\n",
    "success = estimate(net2, init=\"flat\", calculate_voltage_angles=True, zero_injection=[1])\n",
    "V_est, delta_est = net2.res_bus_est.vm_pu, net2.res_bus_est.va_degree\n"
   ]
  },
  {
   "cell_type": "code",
   "execution_count": 36,
   "metadata": {},
   "outputs": [
    {
     "data": {
      "text/html": [
       "<div>\n",
       "<style scoped>\n",
       "    .dataframe tbody tr th:only-of-type {\n",
       "        vertical-align: middle;\n",
       "    }\n",
       "\n",
       "    .dataframe tbody tr th {\n",
       "        vertical-align: top;\n",
       "    }\n",
       "\n",
       "    .dataframe thead th {\n",
       "        text-align: right;\n",
       "    }\n",
       "</style>\n",
       "<table border=\"1\" class=\"dataframe\">\n",
       "  <thead>\n",
       "    <tr style=\"text-align: right;\">\n",
       "      <th></th>\n",
       "      <th>p_from_mw</th>\n",
       "      <th>q_from_mvar</th>\n",
       "      <th>p_to_mw</th>\n",
       "      <th>q_to_mvar</th>\n",
       "      <th>pl_mw</th>\n",
       "      <th>ql_mvar</th>\n",
       "      <th>i_from_ka</th>\n",
       "      <th>i_to_ka</th>\n",
       "      <th>i_ka</th>\n",
       "      <th>vm_from_pu</th>\n",
       "      <th>va_from_degree</th>\n",
       "      <th>vm_to_pu</th>\n",
       "      <th>va_to_degree</th>\n",
       "      <th>loading_percent</th>\n",
       "    </tr>\n",
       "  </thead>\n",
       "  <tbody>\n",
       "    <tr>\n",
       "      <th>0</th>\n",
       "      <td>0.027611</td>\n",
       "      <td>0.013328</td>\n",
       "      <td>-0.025713</td>\n",
       "      <td>-0.013088</td>\n",
       "      <td>0.001899</td>\n",
       "      <td>0.000241</td>\n",
       "      <td>0.044405</td>\n",
       "      <td>0.044408</td>\n",
       "      <td>0.044408</td>\n",
       "      <td>0.996608</td>\n",
       "      <td>-0.208127</td>\n",
       "      <td>0.93776</td>\n",
       "      <td>0.992541</td>\n",
       "      <td>31.273099</td>\n",
       "    </tr>\n",
       "    <tr>\n",
       "      <th>1</th>\n",
       "      <td>0.015713</td>\n",
       "      <td>0.008088</td>\n",
       "      <td>-0.015000</td>\n",
       "      <td>-0.008000</td>\n",
       "      <td>0.000713</td>\n",
       "      <td>0.000088</td>\n",
       "      <td>0.027200</td>\n",
       "      <td>0.027203</td>\n",
       "      <td>0.027203</td>\n",
       "      <td>0.937760</td>\n",
       "      <td>0.992541</td>\n",
       "      <td>0.90200</td>\n",
       "      <td>1.815913</td>\n",
       "      <td>19.157250</td>\n",
       "    </tr>\n",
       "  </tbody>\n",
       "</table>\n",
       "</div>"
      ],
      "text/plain": [
       "   p_from_mw  q_from_mvar   p_to_mw  q_to_mvar     pl_mw   ql_mvar  i_from_ka  \\\n",
       "0   0.027611     0.013328 -0.025713  -0.013088  0.001899  0.000241   0.044405   \n",
       "1   0.015713     0.008088 -0.015000  -0.008000  0.000713  0.000088   0.027200   \n",
       "\n",
       "    i_to_ka      i_ka  vm_from_pu  va_from_degree  vm_to_pu  va_to_degree  \\\n",
       "0  0.044408  0.044408    0.996608       -0.208127   0.93776      0.992541   \n",
       "1  0.027203  0.027203    0.937760        0.992541   0.90200      1.815913   \n",
       "\n",
       "   loading_percent  \n",
       "0        31.273099  \n",
       "1        19.157250  "
      ]
     },
     "execution_count": 36,
     "metadata": {},
     "output_type": "execute_result"
    }
   ],
   "source": [
    "net2.res_line"
   ]
  },
  {
   "cell_type": "code",
   "execution_count": 31,
   "metadata": {},
   "outputs": [],
   "source": [
    "list_slack_bus=[0]\n",
    "list_zero_inject_bus=[1]\n",
    "list_known_generation_bus=list(set(list_slack_bus))\n",
    "participation_bus=list(set(list(net2.bus.index))-set(list_known_generation_bus+ list_zero_inject_bus))"
   ]
  },
  {
   "cell_type": "code",
   "execution_count": 32,
   "metadata": {},
   "outputs": [
    {
     "name": "stdout",
     "output_type": "stream",
     "text": [
      "loss is: -235.049741894619 %\n"
     ]
    }
   ],
   "source": [
    "df_LPF=pd.DataFrame()\n",
    "df_LPF['name']=net2.bus['name'].copy()\n",
    "df_LPF['name']=net2.bus['name'].copy()\n",
    "known_generation=-net2.res_bus_est.iloc[list_slack_bus[0],2]\n",
    "\n",
    "allocate_p_MW=[]\n",
    "allocate_q_MVAR=[]\n",
    "for index, row in df_LPF.iterrows():\n",
    "    if index in list_known_generation_bus+list_zero_inject_bus:\n",
    "        allocate_p_MW.append(0)\n",
    "        allocate_q_MVAR.append(0)\n",
    "    else:\n",
    "        allocate_p_MW.append(net2.res_bus_est.iloc[index,2])\n",
    "        allocate_q_MVAR.append(net2.res_bus_est.iloc[index,3])\n",
    "df_LPF['allocate_p_MW']=allocate_p_MW\n",
    "df_LPF['allocate_1_MVAR']=allocate_q_MVAR\n",
    "\n",
    "          \n",
    "df_LPF['LPF']=net2.res_bus_est['p_mw']/known_generation\n",
    "\n",
    "loss=sum(df_LPF.iloc[list_known_generation_bus,:]['LPF'])+sum(df_LPF.iloc[participation_bus,:]['LPF'])\n",
    "\n",
    "print('loss is:', loss*100, '%')\n",
    "line_loss=sum(net2.res_line_est['pl_mw'])\n",
    "line_loss_participation=line_loss/known_generation"
   ]
  },
  {
   "cell_type": "code",
   "execution_count": 38,
   "metadata": {},
   "outputs": [
    {
     "data": {
      "text/html": [
       "<div>\n",
       "<style scoped>\n",
       "    .dataframe tbody tr th:only-of-type {\n",
       "        vertical-align: middle;\n",
       "    }\n",
       "\n",
       "    .dataframe tbody tr th {\n",
       "        vertical-align: top;\n",
       "    }\n",
       "\n",
       "    .dataframe thead th {\n",
       "        text-align: right;\n",
       "    }\n",
       "</style>\n",
       "<table border=\"1\" class=\"dataframe\">\n",
       "  <thead>\n",
       "    <tr style=\"text-align: right;\">\n",
       "      <th></th>\n",
       "      <th>name</th>\n",
       "      <th>allocate_p_MW</th>\n",
       "      <th>allocate_1_MVAR</th>\n",
       "      <th>LPF</th>\n",
       "    </tr>\n",
       "  </thead>\n",
       "  <tbody>\n",
       "    <tr>\n",
       "      <th>0</th>\n",
       "      <td>bus1ref</td>\n",
       "      <td>0.000000</td>\n",
       "      <td>0.000000</td>\n",
       "      <td>-1.000000</td>\n",
       "    </tr>\n",
       "    <tr>\n",
       "      <th>1</th>\n",
       "      <td>bus2</td>\n",
       "      <td>0.000000</td>\n",
       "      <td>0.000000</td>\n",
       "      <td>2.570153</td>\n",
       "    </tr>\n",
       "    <tr>\n",
       "      <th>2</th>\n",
       "      <td>bus3</td>\n",
       "      <td>0.010767</td>\n",
       "      <td>0.005032</td>\n",
       "      <td>-0.566269</td>\n",
       "    </tr>\n",
       "    <tr>\n",
       "      <th>3</th>\n",
       "      <td>bus4</td>\n",
       "      <td>0.014911</td>\n",
       "      <td>0.007891</td>\n",
       "      <td>-0.784228</td>\n",
       "    </tr>\n",
       "  </tbody>\n",
       "</table>\n",
       "</div>"
      ],
      "text/plain": [
       "      name  allocate_p_MW  allocate_1_MVAR       LPF\n",
       "0  bus1ref       0.000000         0.000000 -1.000000\n",
       "1     bus2       0.000000         0.000000  2.570153\n",
       "2     bus3       0.010767         0.005032 -0.566269\n",
       "3     bus4       0.014911         0.007891 -0.784228"
      ]
     },
     "execution_count": 38,
     "metadata": {},
     "output_type": "execute_result"
    }
   ],
   "source": [
    "df_LPF"
   ]
  },
  {
   "cell_type": "code",
   "execution_count": 71,
   "metadata": {},
   "outputs": [
    {
     "data": {
      "text/html": [
       "<div>\n",
       "<style scoped>\n",
       "    .dataframe tbody tr th:only-of-type {\n",
       "        vertical-align: middle;\n",
       "    }\n",
       "\n",
       "    .dataframe tbody tr th {\n",
       "        vertical-align: top;\n",
       "    }\n",
       "\n",
       "    .dataframe thead th {\n",
       "        text-align: right;\n",
       "    }\n",
       "</style>\n",
       "<table border=\"1\" class=\"dataframe\">\n",
       "  <thead>\n",
       "    <tr style=\"text-align: right;\">\n",
       "      <th></th>\n",
       "      <th>p_from_mw</th>\n",
       "      <th>q_from_mvar</th>\n",
       "      <th>p_to_mw</th>\n",
       "      <th>q_to_mvar</th>\n",
       "      <th>pl_mw</th>\n",
       "      <th>ql_mvar</th>\n",
       "      <th>i_from_ka</th>\n",
       "      <th>i_to_ka</th>\n",
       "      <th>i_ka</th>\n",
       "      <th>vm_from_pu</th>\n",
       "      <th>va_from_degree</th>\n",
       "      <th>vm_to_pu</th>\n",
       "      <th>va_to_degree</th>\n",
       "      <th>loading_percent</th>\n",
       "    </tr>\n",
       "  </thead>\n",
       "  <tbody>\n",
       "    <tr>\n",
       "      <th>0</th>\n",
       "      <td>0.029256</td>\n",
       "      <td>0.013485</td>\n",
       "      <td>-0.027224</td>\n",
       "      <td>-0.013227</td>\n",
       "      <td>0.002033</td>\n",
       "      <td>0.000258</td>\n",
       "      <td>0.045940</td>\n",
       "      <td>0.045943</td>\n",
       "      <td>0.045943</td>\n",
       "      <td>1.012140</td>\n",
       "      <td>-150.215436</td>\n",
       "      <td>0.950887</td>\n",
       "      <td>-149.056207</td>\n",
       "      <td>32.354131</td>\n",
       "    </tr>\n",
       "    <tr>\n",
       "      <th>1</th>\n",
       "      <td>0.015549</td>\n",
       "      <td>0.008101</td>\n",
       "      <td>-0.014867</td>\n",
       "      <td>-0.008017</td>\n",
       "      <td>0.000682</td>\n",
       "      <td>0.000084</td>\n",
       "      <td>0.026613</td>\n",
       "      <td>0.026616</td>\n",
       "      <td>0.026616</td>\n",
       "      <td>0.950887</td>\n",
       "      <td>-149.056207</td>\n",
       "      <td>0.915961</td>\n",
       "      <td>-148.252009</td>\n",
       "      <td>18.743916</td>\n",
       "    </tr>\n",
       "  </tbody>\n",
       "</table>\n",
       "</div>"
      ],
      "text/plain": [
       "   p_from_mw  q_from_mvar   p_to_mw  q_to_mvar     pl_mw   ql_mvar  i_from_ka  \\\n",
       "0   0.029256     0.013485 -0.027224  -0.013227  0.002033  0.000258   0.045940   \n",
       "1   0.015549     0.008101 -0.014867  -0.008017  0.000682  0.000084   0.026613   \n",
       "\n",
       "    i_to_ka      i_ka  vm_from_pu  va_from_degree  vm_to_pu  va_to_degree  \\\n",
       "0  0.045943  0.045943    1.012140     -150.215436  0.950887   -149.056207   \n",
       "1  0.026616  0.026616    0.950887     -149.056207  0.915961   -148.252009   \n",
       "\n",
       "   loading_percent  \n",
       "0        32.354131  \n",
       "1        18.743916  "
      ]
     },
     "execution_count": 71,
     "metadata": {},
     "output_type": "execute_result"
    }
   ],
   "source": [
    "net2.res_line_est"
   ]
  },
  {
   "cell_type": "code",
   "execution_count": 34,
   "metadata": {},
   "outputs": [
    {
     "data": {
      "text/html": [
       "<div>\n",
       "<style scoped>\n",
       "    .dataframe tbody tr th:only-of-type {\n",
       "        vertical-align: middle;\n",
       "    }\n",
       "\n",
       "    .dataframe tbody tr th {\n",
       "        vertical-align: top;\n",
       "    }\n",
       "\n",
       "    .dataframe thead th {\n",
       "        text-align: right;\n",
       "    }\n",
       "</style>\n",
       "<table border=\"1\" class=\"dataframe\">\n",
       "  <thead>\n",
       "    <tr style=\"text-align: right;\">\n",
       "      <th></th>\n",
       "      <th>vm_pu</th>\n",
       "      <th>va_degree</th>\n",
       "      <th>p_mw</th>\n",
       "      <th>q_mvar</th>\n",
       "    </tr>\n",
       "  </thead>\n",
       "  <tbody>\n",
       "    <tr>\n",
       "      <th>0</th>\n",
       "      <td>0.982694</td>\n",
       "      <td>0.000000</td>\n",
       "      <td>0.019014</td>\n",
       "      <td>0.137131</td>\n",
       "    </tr>\n",
       "    <tr>\n",
       "      <th>1</th>\n",
       "      <td>1.004942</td>\n",
       "      <td>-150.210953</td>\n",
       "      <td>-0.048869</td>\n",
       "      <td>-0.153416</td>\n",
       "    </tr>\n",
       "    <tr>\n",
       "      <th>2</th>\n",
       "      <td>0.945200</td>\n",
       "      <td>-149.049534</td>\n",
       "      <td>0.010767</td>\n",
       "      <td>0.005032</td>\n",
       "    </tr>\n",
       "    <tr>\n",
       "      <th>3</th>\n",
       "      <td>0.909985</td>\n",
       "      <td>-148.252843</td>\n",
       "      <td>0.014911</td>\n",
       "      <td>0.007891</td>\n",
       "    </tr>\n",
       "  </tbody>\n",
       "</table>\n",
       "</div>"
      ],
      "text/plain": [
       "      vm_pu   va_degree      p_mw    q_mvar\n",
       "0  0.982694    0.000000  0.019014  0.137131\n",
       "1  1.004942 -150.210953 -0.048869 -0.153416\n",
       "2  0.945200 -149.049534  0.010767  0.005032\n",
       "3  0.909985 -148.252843  0.014911  0.007891"
      ]
     },
     "execution_count": 34,
     "metadata": {},
     "output_type": "execute_result"
    }
   ],
   "source": [
    "net2.res_bus_est"
   ]
  },
  {
   "cell_type": "code",
   "execution_count": 39,
   "metadata": {},
   "outputs": [
    {
     "data": {
      "text/plain": [
       "-0.13835085880521297"
      ]
     },
     "execution_count": 39,
     "metadata": {},
     "output_type": "execute_result"
    }
   ],
   "source": [
    "line_loss_participation"
   ]
  },
  {
   "cell_type": "code",
   "execution_count": 37,
   "metadata": {},
   "outputs": [
    {
     "data": {
      "text/plain": [
       "0.002630583809100605"
      ]
     },
     "execution_count": 37,
     "metadata": {},
     "output_type": "execute_result"
    }
   ],
   "source": [
    "\n",
    "line_loss"
   ]
  },
  {
   "cell_type": "code",
   "execution_count": null,
   "metadata": {},
   "outputs": [],
   "source": []
  },
  {
   "cell_type": "code",
   "execution_count": null,
   "metadata": {},
   "outputs": [],
   "source": []
  },
  {
   "cell_type": "code",
   "execution_count": null,
   "metadata": {},
   "outputs": [],
   "source": []
  },
  {
   "cell_type": "code",
   "execution_count": null,
   "metadata": {},
   "outputs": [],
   "source": []
  },
  {
   "cell_type": "code",
   "execution_count": 174,
   "metadata": {},
   "outputs": [],
   "source": [
    "list_LPF_zero_injection_bus=[]\n",
    "for round in range(0,100):\n",
    "# for round in tqdm(range(0,100)):\n",
    "#     print(round)\n",
    "    net2 = pn.simple_four_bus_system()\n",
    "    pp.runpp(net2)\n",
    "    V, delta=net2.res_bus.vm_pu, net2.res_bus.va_degree\n",
    "    # print(net)\n",
    "    df_measurement=pd.DataFrame()\n",
    "    df_measurement=pd.DataFrame()\n",
    "    df_measurement['meas_type']=['v','v','v','v','p','p','q','q','i','i']\n",
    "    df_measurement['element_type']=['bus','bus','bus','bus','line','line','line','line','line','line']\n",
    "    df_measurement['element']=[0,1,2,3,0,1,0,1,0,1]\n",
    "    df_measurement['side']=['None','None','None','None','from','from','from','from','from','from']\n",
    "\n",
    "    #where bus measurement has 3%error\n",
    "    #where line measurement has 5%error\n",
    "    #where trafo measurement has 5%error\n",
    "\n",
    "    df_measurement, net2 = create_measurement_unit(df_measurement, net2)\n",
    "\n",
    "    success = estimate(net2, init=\"flat\", calculate_voltage_angles=True, zero_injection=[1])\n",
    "    V_est, delta_est = net2.res_bus_est.vm_pu, net2.res_bus_est.va_degree\n",
    "\n",
    "    list_slack_bus=[0]\n",
    "    list_zero_inject_bus=[1]\n",
    "    list_known_generation_bus=list(set(list_slack_bus))\n",
    "    participation_bus=list(set(list(net2.bus.index))-set(list_known_generation_bus+ list_zero_inject_bus))\n",
    "    df_LPF=pd.DataFrame()\n",
    "    df_LPF['name']=net2.bus['name'].copy()\n",
    "    known_generation=-net2.res_bus_est.iloc[list_slack_bus[0],2]\n",
    "\n",
    "    allocate_p_MW=[]\n",
    "    allocate_q_MVAR=[]\n",
    "    for index, row in df_LPF.iterrows():\n",
    "        if index in list_known_generation_bus+list_zero_inject_bus:\n",
    "            allocate_p_MW.append(0)\n",
    "            allocate_q_MVAR.append(0)\n",
    "        else:\n",
    "            allocate_p_MW.append(net2.res_bus_est.iloc[index,2])\n",
    "            allocate_q_MVAR.append(net2.res_bus_est.iloc[index,3])\n",
    "    df_LPF['allocate_p_MW']=allocate_p_MW\n",
    "    df_LPF['allocate_q_MVAR']=allocate_q_MVAR\n",
    "\n",
    "\n",
    "    df_LPF['LPF']=net2.res_bus_est['p_mw']/known_generation\n",
    "\n",
    "    loss=sum(df_LPF.iloc[list_known_generation_bus,:]['LPF'])+sum(df_LPF.iloc[participation_bus,:]['LPF'])\n",
    "\n",
    "    # print('loss is:', loss*100, '%')\n",
    "    list_LPF_zero_injection_bus.append(df_LPF.LPF[1])"
   ]
  },
  {
   "cell_type": "code",
   "execution_count": 175,
   "metadata": {},
   "outputs": [
    {
     "data": {
      "text/plain": [
       "0.23873394210645643"
      ]
     },
     "execution_count": 175,
     "metadata": {},
     "output_type": "execute_result"
    }
   ],
   "source": [
    "stats.trim_mean(np.array(list_LPF_zero_injection_bus), 0.1)"
   ]
  },
  {
   "cell_type": "code",
   "execution_count": 176,
   "metadata": {},
   "outputs": [
    {
     "data": {
      "text/html": [
       "<div>\n",
       "<style scoped>\n",
       "    .dataframe tbody tr th:only-of-type {\n",
       "        vertical-align: middle;\n",
       "    }\n",
       "\n",
       "    .dataframe tbody tr th {\n",
       "        vertical-align: top;\n",
       "    }\n",
       "\n",
       "    .dataframe thead th {\n",
       "        text-align: right;\n",
       "    }\n",
       "</style>\n",
       "<table border=\"1\" class=\"dataframe\">\n",
       "  <thead>\n",
       "    <tr style=\"text-align: right;\">\n",
       "      <th></th>\n",
       "      <th>name</th>\n",
       "      <th>allocate_p_MW</th>\n",
       "      <th>allocate_q_MVAR</th>\n",
       "      <th>LPF</th>\n",
       "    </tr>\n",
       "  </thead>\n",
       "  <tbody>\n",
       "    <tr>\n",
       "      <th>0</th>\n",
       "      <td>bus1ref</td>\n",
       "      <td>0.000000</td>\n",
       "      <td>0.000000</td>\n",
       "      <td>-1.000000</td>\n",
       "    </tr>\n",
       "    <tr>\n",
       "      <th>1</th>\n",
       "      <td>bus2</td>\n",
       "      <td>0.000000</td>\n",
       "      <td>0.000000</td>\n",
       "      <td>6.851735</td>\n",
       "    </tr>\n",
       "    <tr>\n",
       "      <th>2</th>\n",
       "      <td>bus3</td>\n",
       "      <td>0.010696</td>\n",
       "      <td>0.005426</td>\n",
       "      <td>-2.104078</td>\n",
       "    </tr>\n",
       "    <tr>\n",
       "      <th>3</th>\n",
       "      <td>bus4</td>\n",
       "      <td>0.015251</td>\n",
       "      <td>0.008021</td>\n",
       "      <td>-2.999953</td>\n",
       "    </tr>\n",
       "  </tbody>\n",
       "</table>\n",
       "</div>"
      ],
      "text/plain": [
       "      name  allocate_p_MW  allocate_q_MVAR       LPF\n",
       "0  bus1ref       0.000000         0.000000 -1.000000\n",
       "1     bus2       0.000000         0.000000  6.851735\n",
       "2     bus3       0.010696         0.005426 -2.104078\n",
       "3     bus4       0.015251         0.008021 -2.999953"
      ]
     },
     "execution_count": 176,
     "metadata": {},
     "output_type": "execute_result"
    }
   ],
   "source": [
    "df_LPF"
   ]
  },
  {
   "cell_type": "code",
   "execution_count": null,
   "metadata": {},
   "outputs": [],
   "source": []
  },
  {
   "cell_type": "markdown",
   "metadata": {},
   "source": [
    "# Solar PV at bus 2"
   ]
  },
  {
   "cell_type": "code",
   "execution_count": 40,
   "metadata": {},
   "outputs": [],
   "source": [
    "net3 = pn.simple_four_bus_system()\n",
    "net3.sgen['p_mw']=[0.020,0]\n",
    "net3.sgen['q_mvar']=[0.005,0]\n",
    "net3.sgen['sn_mva']=[0.03,0]\n",
    "pp.runpp(net3)"
   ]
  },
  {
   "cell_type": "code",
   "execution_count": 41,
   "metadata": {},
   "outputs": [],
   "source": [
    "df_measurement=pd.DataFrame()\n",
    "df_measurement=pd.DataFrame()\n",
    "df_measurement['meas_type']=['v','v','v','v','p','p','q','q','i','i']\n",
    "df_measurement['element_type']=['bus','bus','bus','bus','line','line','line','line','line','line']\n",
    "df_measurement['element']=[0,1,2,3,0,1,0,1,0,1]\n",
    "df_measurement['side']=['None','None','None','None','from','from','from','from','from','from']\n",
    "\n",
    "#where bus measurement has 3%error\n",
    "#where line measurement has 5%error\n",
    "#where trafo measurement has 5%error\n",
    "\n",
    "df_measurement, net3 = create_measurement_unit(df_measurement, net3)\n",
    "\n",
    "success = estimate(net3, init=\"flat\", calculate_voltage_angles=True, zero_injection=[1])\n",
    "# V_est, delta_est = net2.res_bus_est.vm_pu, net2.res_bus_est.va_degree"
   ]
  },
  {
   "cell_type": "code",
   "execution_count": 42,
   "metadata": {},
   "outputs": [
    {
     "data": {
      "text/plain": [
       "True"
      ]
     },
     "execution_count": 42,
     "metadata": {},
     "output_type": "execute_result"
    }
   ],
   "source": [
    "success"
   ]
  },
  {
   "cell_type": "code",
   "execution_count": 43,
   "metadata": {},
   "outputs": [
    {
     "name": "stdout",
     "output_type": "stream",
     "text": [
      "loss is: 160.88255368162535 %\n"
     ]
    }
   ],
   "source": [
    "list_slack_bus=[0]\n",
    "list_zero_inject_bus=[1]\n",
    "list_known_generation_bus=list(set(list_slack_bus))\n",
    "participation_bus=list(set(list(net3.bus.index))-set(list_known_generation_bus+ list_zero_inject_bus))\n",
    "\n",
    "df_LPF=pd.DataFrame()\n",
    "df_LPF['name']=net3.bus['name'].copy()\n",
    "known_generation=-net3.res_bus_est.iloc[list_slack_bus[0],2]\n",
    "\n",
    "allocate_p_MW=[]\n",
    "allocate_q_MVAR=[]\n",
    "for index, row in df_LPF.iterrows():\n",
    "    if index in list_known_generation_bus+list_zero_inject_bus:\n",
    "        allocate_p_MW.append(0)\n",
    "        allocate_q_MVAR.append(0)\n",
    "    else:\n",
    "        allocate_p_MW.append(net3.res_bus_est.iloc[index,2])\n",
    "        allocate_q_MVAR.append(net3.res_bus_est.iloc[index,3])\n",
    "df_LPF['allocate_p_MW']=allocate_p_MW\n",
    "df_LPF['allocate_1_MVAR']=allocate_q_MVAR\n",
    "\n",
    "          \n",
    "df_LPF['LPF']=net3.res_bus_est['p_mw']/known_generation\n",
    "\n",
    "loss=sum(df_LPF.iloc[list_known_generation_bus,:]['LPF'])+sum(df_LPF.iloc[participation_bus,:]['LPF'])\n",
    "\n",
    "print('loss is:', loss*100, '%')\n",
    "line_loss=sum(net3.res_line_est['pl_mw'])\n",
    "line_loss_participation=line_loss/known_generation"
   ]
  },
  {
   "cell_type": "code",
   "execution_count": 44,
   "metadata": {},
   "outputs": [
    {
     "name": "stdout",
     "output_type": "stream",
     "text": [
      "      name  allocate_p_MW  allocate_1_MVAR       LPF\n",
      "0  bus1ref       0.000000         0.000000 -1.000000\n",
      "1     bus2       0.000000         0.000000 -2.196509\n",
      "2     bus3       0.012909         0.005174  0.792573\n",
      "3     bus4       0.029583         0.009670  1.816252\n"
     ]
    }
   ],
   "source": [
    "print(df_LPF)"
   ]
  },
  {
   "cell_type": "code",
   "execution_count": 45,
   "metadata": {},
   "outputs": [
    {
     "data": {
      "text/html": [
       "<div>\n",
       "<style scoped>\n",
       "    .dataframe tbody tr th:only-of-type {\n",
       "        vertical-align: middle;\n",
       "    }\n",
       "\n",
       "    .dataframe tbody tr th {\n",
       "        vertical-align: top;\n",
       "    }\n",
       "\n",
       "    .dataframe thead th {\n",
       "        text-align: right;\n",
       "    }\n",
       "</style>\n",
       "<table border=\"1\" class=\"dataframe\">\n",
       "  <thead>\n",
       "    <tr style=\"text-align: right;\">\n",
       "      <th></th>\n",
       "      <th>p_from_mw</th>\n",
       "      <th>q_from_mvar</th>\n",
       "      <th>p_to_mw</th>\n",
       "      <th>q_to_mvar</th>\n",
       "      <th>pl_mw</th>\n",
       "      <th>ql_mvar</th>\n",
       "      <th>i_from_ka</th>\n",
       "      <th>i_to_ka</th>\n",
       "      <th>i_ka</th>\n",
       "      <th>vm_from_pu</th>\n",
       "      <th>va_from_degree</th>\n",
       "      <th>vm_to_pu</th>\n",
       "      <th>va_to_degree</th>\n",
       "      <th>loading_percent</th>\n",
       "    </tr>\n",
       "  </thead>\n",
       "  <tbody>\n",
       "    <tr>\n",
       "      <th>0</th>\n",
       "      <td>0.051024</td>\n",
       "      <td>0.015938</td>\n",
       "      <td>-0.045351</td>\n",
       "      <td>-0.01521</td>\n",
       "      <td>0.005673</td>\n",
       "      <td>0.000729</td>\n",
       "      <td>0.076753</td>\n",
       "      <td>0.076755</td>\n",
       "      <td>0.076755</td>\n",
       "      <td>1.005268</td>\n",
       "      <td>-150.398857</td>\n",
       "      <td>0.899517</td>\n",
       "      <td>-149.210901</td>\n",
       "      <td>54.052681</td>\n",
       "    </tr>\n",
       "    <tr>\n",
       "      <th>1</th>\n",
       "      <td>0.032442</td>\n",
       "      <td>0.010036</td>\n",
       "      <td>-0.029583</td>\n",
       "      <td>-0.00967</td>\n",
       "      <td>0.002860</td>\n",
       "      <td>0.000366</td>\n",
       "      <td>0.054491</td>\n",
       "      <td>0.054493</td>\n",
       "      <td>0.054493</td>\n",
       "      <td>0.899517</td>\n",
       "      <td>-149.210901</td>\n",
       "      <td>0.824368</td>\n",
       "      <td>-148.304942</td>\n",
       "      <td>38.375380</td>\n",
       "    </tr>\n",
       "  </tbody>\n",
       "</table>\n",
       "</div>"
      ],
      "text/plain": [
       "   p_from_mw  q_from_mvar   p_to_mw  q_to_mvar     pl_mw   ql_mvar  i_from_ka  \\\n",
       "0   0.051024     0.015938 -0.045351   -0.01521  0.005673  0.000729   0.076753   \n",
       "1   0.032442     0.010036 -0.029583   -0.00967  0.002860  0.000366   0.054491   \n",
       "\n",
       "    i_to_ka      i_ka  vm_from_pu  va_from_degree  vm_to_pu  va_to_degree  \\\n",
       "0  0.076755  0.076755    1.005268     -150.398857  0.899517   -149.210901   \n",
       "1  0.054493  0.054493    0.899517     -149.210901  0.824368   -148.304942   \n",
       "\n",
       "   loading_percent  \n",
       "0        54.052681  \n",
       "1        38.375380  "
      ]
     },
     "execution_count": 45,
     "metadata": {},
     "output_type": "execute_result"
    }
   ],
   "source": [
    "net3.res_line_est"
   ]
  },
  {
   "cell_type": "code",
   "execution_count": 46,
   "metadata": {},
   "outputs": [
    {
     "data": {
      "text/plain": [
       "0.01628771936151705"
      ]
     },
     "execution_count": 46,
     "metadata": {},
     "output_type": "execute_result"
    }
   ],
   "source": [
    "known_generation"
   ]
  },
  {
   "cell_type": "code",
   "execution_count": 47,
   "metadata": {},
   "outputs": [
    {
     "data": {
      "text/plain": [
       "-0.01628771936151705"
      ]
     },
     "execution_count": 47,
     "metadata": {},
     "output_type": "execute_result"
    }
   ],
   "source": [
    "net3.res_bus_est.iloc[list_slack_bus[0],2]"
   ]
  },
  {
   "cell_type": "code",
   "execution_count": 48,
   "metadata": {},
   "outputs": [
    {
     "data": {
      "text/html": [
       "<div>\n",
       "<style scoped>\n",
       "    .dataframe tbody tr th:only-of-type {\n",
       "        vertical-align: middle;\n",
       "    }\n",
       "\n",
       "    .dataframe tbody tr th {\n",
       "        vertical-align: top;\n",
       "    }\n",
       "\n",
       "    .dataframe thead th {\n",
       "        text-align: right;\n",
       "    }\n",
       "</style>\n",
       "<table border=\"1\" class=\"dataframe\">\n",
       "  <thead>\n",
       "    <tr style=\"text-align: right;\">\n",
       "      <th></th>\n",
       "      <th>vm_pu</th>\n",
       "      <th>va_degree</th>\n",
       "      <th>p_mw</th>\n",
       "      <th>q_mvar</th>\n",
       "    </tr>\n",
       "  </thead>\n",
       "  <tbody>\n",
       "    <tr>\n",
       "      <th>0</th>\n",
       "      <td>0.991593</td>\n",
       "      <td>0.000000</td>\n",
       "      <td>-0.016288</td>\n",
       "      <td>0.093712</td>\n",
       "    </tr>\n",
       "    <tr>\n",
       "      <th>1</th>\n",
       "      <td>1.005268</td>\n",
       "      <td>-150.398857</td>\n",
       "      <td>-0.035776</td>\n",
       "      <td>-0.111053</td>\n",
       "    </tr>\n",
       "    <tr>\n",
       "      <th>2</th>\n",
       "      <td>0.899517</td>\n",
       "      <td>-149.210901</td>\n",
       "      <td>0.012909</td>\n",
       "      <td>0.005174</td>\n",
       "    </tr>\n",
       "    <tr>\n",
       "      <th>3</th>\n",
       "      <td>0.824368</td>\n",
       "      <td>-148.304942</td>\n",
       "      <td>0.029583</td>\n",
       "      <td>0.009670</td>\n",
       "    </tr>\n",
       "  </tbody>\n",
       "</table>\n",
       "</div>"
      ],
      "text/plain": [
       "      vm_pu   va_degree      p_mw    q_mvar\n",
       "0  0.991593    0.000000 -0.016288  0.093712\n",
       "1  1.005268 -150.398857 -0.035776 -0.111053\n",
       "2  0.899517 -149.210901  0.012909  0.005174\n",
       "3  0.824368 -148.304942  0.029583  0.009670"
      ]
     },
     "execution_count": 48,
     "metadata": {},
     "output_type": "execute_result"
    }
   ],
   "source": [
    "net3.res_bus_est"
   ]
  },
  {
   "cell_type": "code",
   "execution_count": 49,
   "metadata": {},
   "outputs": [
    {
     "data": {
      "text/plain": [
       "0.008532679038079978"
      ]
     },
     "execution_count": 49,
     "metadata": {},
     "output_type": "execute_result"
    }
   ],
   "source": [
    "sum(net3.res_line_est['pl_mw'])"
   ]
  },
  {
   "cell_type": "code",
   "execution_count": 50,
   "metadata": {},
   "outputs": [
    {
     "data": {
      "text/html": [
       "<div>\n",
       "<style scoped>\n",
       "    .dataframe tbody tr th:only-of-type {\n",
       "        vertical-align: middle;\n",
       "    }\n",
       "\n",
       "    .dataframe tbody tr th {\n",
       "        vertical-align: top;\n",
       "    }\n",
       "\n",
       "    .dataframe thead th {\n",
       "        text-align: right;\n",
       "    }\n",
       "</style>\n",
       "<table border=\"1\" class=\"dataframe\">\n",
       "  <thead>\n",
       "    <tr style=\"text-align: right;\">\n",
       "      <th></th>\n",
       "      <th>name</th>\n",
       "      <th>allocate_p_MW</th>\n",
       "      <th>allocate_1_MVAR</th>\n",
       "      <th>LPF</th>\n",
       "    </tr>\n",
       "  </thead>\n",
       "  <tbody>\n",
       "    <tr>\n",
       "      <th>0</th>\n",
       "      <td>bus1ref</td>\n",
       "      <td>0.000000</td>\n",
       "      <td>0.000000</td>\n",
       "      <td>-1.000000</td>\n",
       "    </tr>\n",
       "    <tr>\n",
       "      <th>1</th>\n",
       "      <td>bus2</td>\n",
       "      <td>0.000000</td>\n",
       "      <td>0.000000</td>\n",
       "      <td>-2.196509</td>\n",
       "    </tr>\n",
       "    <tr>\n",
       "      <th>2</th>\n",
       "      <td>bus3</td>\n",
       "      <td>0.012909</td>\n",
       "      <td>0.005174</td>\n",
       "      <td>0.792573</td>\n",
       "    </tr>\n",
       "    <tr>\n",
       "      <th>3</th>\n",
       "      <td>bus4</td>\n",
       "      <td>0.029583</td>\n",
       "      <td>0.009670</td>\n",
       "      <td>1.816252</td>\n",
       "    </tr>\n",
       "  </tbody>\n",
       "</table>\n",
       "</div>"
      ],
      "text/plain": [
       "      name  allocate_p_MW  allocate_1_MVAR       LPF\n",
       "0  bus1ref       0.000000         0.000000 -1.000000\n",
       "1     bus2       0.000000         0.000000 -2.196509\n",
       "2     bus3       0.012909         0.005174  0.792573\n",
       "3     bus4       0.029583         0.009670  1.816252"
      ]
     },
     "execution_count": 50,
     "metadata": {},
     "output_type": "execute_result"
    }
   ],
   "source": [
    "df_LPF"
   ]
  },
  {
   "cell_type": "code",
   "execution_count": 51,
   "metadata": {},
   "outputs": [
    {
     "data": {
      "text/plain": [
       "0.008532679038079978"
      ]
     },
     "execution_count": 51,
     "metadata": {},
     "output_type": "execute_result"
    }
   ],
   "source": [
    "line_loss"
   ]
  },
  {
   "cell_type": "markdown",
   "metadata": {},
   "source": [
    "# Solar PV panel at bus 3"
   ]
  },
  {
   "cell_type": "code",
   "execution_count": 66,
   "metadata": {},
   "outputs": [
    {
     "name": "stdout",
     "output_type": "stream",
     "text": [
      "  name  bus   p_mw  q_mvar  sn_mva  scaling  in_service  type  current_source\n",
      "0  pv1    2  0.000   0.000    0.00      1.0        True  None            True\n",
      "1  pv2    3  0.015   0.002    0.02      1.0        True  None            True\n"
     ]
    }
   ],
   "source": [
    "net4 = pn.simple_four_bus_system()\n",
    "# print(net4.sgen)\n",
    "net4.sgen['p_mw']=[0,0.015]\n",
    "net4.sgen['q_mvar']=[0,0.002]\n",
    "net4.sgen['sn_mva']=[0,0.02]\n",
    "print(net4.sgen)\n",
    "\n",
    "pp.runpp(net4)"
   ]
  },
  {
   "cell_type": "code",
   "execution_count": 67,
   "metadata": {},
   "outputs": [],
   "source": [
    "df_measurement=pd.DataFrame()\n",
    "df_measurement=pd.DataFrame()\n",
    "df_measurement['meas_type']=['v','v','v','v','p','p','q','q','i','i']\n",
    "df_measurement['element_type']=['bus','bus','bus','bus','line','line','line','line','line','line']\n",
    "df_measurement['element']=[0,1,2,3,0,1,0,1,0,1]\n",
    "df_measurement['side']=['None','None','None','None','from','from','from','from','from','from']\n",
    "\n",
    "#where bus measurement has 3%error\n",
    "#where line measurement has 5%error\n",
    "#where trafo measurement has 5%error\n",
    "\n",
    "df_measurement, net4 = create_measurement_unit(df_measurement, net4)\n",
    "\n",
    "success = estimate(net4, init=\"flat\", calculate_voltage_angles=True, zero_injection=[1])\n",
    "# V_est, delta_est = net2.res_bus_est.vm_pu, net2.res_bus_est.va_degree"
   ]
  },
  {
   "cell_type": "code",
   "execution_count": 68,
   "metadata": {},
   "outputs": [
    {
     "name": "stdout",
     "output_type": "stream",
     "text": [
      "loss is: -57.99910022887445 %\n"
     ]
    }
   ],
   "source": [
    "list_slack_bus=[0]\n",
    "list_zero_inject_bus=[1]\n",
    "list_known_generation_bus=list(set(list_slack_bus))\n",
    "participation_bus=list(set(list(net3.bus.index))-set(list_known_generation_bus+ list_zero_inject_bus))\n",
    "\n",
    "df_LPF=pd.DataFrame()\n",
    "df_LPF['name']=net4.bus['name'].copy()\n",
    "known_generation=-net4.res_bus_est.iloc[list_slack_bus[0],2]\n",
    "\n",
    "allocate_p_MW=[]\n",
    "allocate_q_MVAR=[]\n",
    "for index, row in df_LPF.iterrows():\n",
    "    if index in list_known_generation_bus+list_zero_inject_bus:\n",
    "        allocate_p_MW.append(0)\n",
    "        allocate_q_MVAR.append(0)\n",
    "    else:\n",
    "        allocate_p_MW.append(net4.res_bus_est.iloc[index,2])\n",
    "        allocate_q_MVAR.append(net4.res_bus_est.iloc[index,3])\n",
    "df_LPF['allocate_p_MW']=allocate_p_MW\n",
    "df_LPF['allocate_1_MVAR']=allocate_q_MVAR\n",
    "\n",
    "          \n",
    "df_LPF['LPF']=net4.res_bus_est['p_mw']/known_generation\n",
    "\n",
    "loss=sum(df_LPF.iloc[list_known_generation_bus,:]['LPF'])+sum(df_LPF.iloc[participation_bus,:]['LPF'])\n",
    "\n",
    "print('loss is:', loss*100, '%')\n",
    "line_loss=sum(net4.res_line_est['pl_mw'])\n",
    "line_loss_participation=line_loss/known_generation"
   ]
  },
  {
   "cell_type": "code",
   "execution_count": 69,
   "metadata": {},
   "outputs": [
    {
     "data": {
      "text/html": [
       "<div>\n",
       "<style scoped>\n",
       "    .dataframe tbody tr th:only-of-type {\n",
       "        vertical-align: middle;\n",
       "    }\n",
       "\n",
       "    .dataframe tbody tr th {\n",
       "        vertical-align: top;\n",
       "    }\n",
       "\n",
       "    .dataframe thead th {\n",
       "        text-align: right;\n",
       "    }\n",
       "</style>\n",
       "<table border=\"1\" class=\"dataframe\">\n",
       "  <thead>\n",
       "    <tr style=\"text-align: right;\">\n",
       "      <th></th>\n",
       "      <th>name</th>\n",
       "      <th>allocate_p_MW</th>\n",
       "      <th>allocate_1_MVAR</th>\n",
       "      <th>LPF</th>\n",
       "    </tr>\n",
       "  </thead>\n",
       "  <tbody>\n",
       "    <tr>\n",
       "      <th>0</th>\n",
       "      <td>bus1ref</td>\n",
       "      <td>0.000000</td>\n",
       "      <td>0.000000</td>\n",
       "      <td>-1.000000</td>\n",
       "    </tr>\n",
       "    <tr>\n",
       "      <th>1</th>\n",
       "      <td>bus2</td>\n",
       "      <td>0.000000</td>\n",
       "      <td>0.000000</td>\n",
       "      <td>0.488974</td>\n",
       "    </tr>\n",
       "    <tr>\n",
       "      <th>2</th>\n",
       "      <td>bus3</td>\n",
       "      <td>0.028485</td>\n",
       "      <td>0.009404</td>\n",
       "      <td>0.272815</td>\n",
       "    </tr>\n",
       "    <tr>\n",
       "      <th>3</th>\n",
       "      <td>bus4</td>\n",
       "      <td>0.015368</td>\n",
       "      <td>0.008006</td>\n",
       "      <td>0.147194</td>\n",
       "    </tr>\n",
       "  </tbody>\n",
       "</table>\n",
       "</div>"
      ],
      "text/plain": [
       "      name  allocate_p_MW  allocate_1_MVAR       LPF\n",
       "0  bus1ref       0.000000         0.000000 -1.000000\n",
       "1     bus2       0.000000         0.000000  0.488974\n",
       "2     bus3       0.028485         0.009404  0.272815\n",
       "3     bus4       0.015368         0.008006  0.147194"
      ]
     },
     "execution_count": 69,
     "metadata": {},
     "output_type": "execute_result"
    }
   ],
   "source": [
    "df_LPF"
   ]
  },
  {
   "cell_type": "code",
   "execution_count": 70,
   "metadata": {},
   "outputs": [
    {
     "data": {
      "text/html": [
       "<div>\n",
       "<style scoped>\n",
       "    .dataframe tbody tr th:only-of-type {\n",
       "        vertical-align: middle;\n",
       "    }\n",
       "\n",
       "    .dataframe tbody tr th {\n",
       "        vertical-align: top;\n",
       "    }\n",
       "\n",
       "    .dataframe thead th {\n",
       "        text-align: right;\n",
       "    }\n",
       "</style>\n",
       "<table border=\"1\" class=\"dataframe\">\n",
       "  <thead>\n",
       "    <tr style=\"text-align: right;\">\n",
       "      <th></th>\n",
       "      <th>p_from_mw</th>\n",
       "      <th>q_from_mvar</th>\n",
       "      <th>p_to_mw</th>\n",
       "      <th>q_to_mvar</th>\n",
       "      <th>pl_mw</th>\n",
       "      <th>ql_mvar</th>\n",
       "      <th>i_from_ka</th>\n",
       "      <th>i_to_ka</th>\n",
       "      <th>i_ka</th>\n",
       "      <th>vm_from_pu</th>\n",
       "      <th>va_from_degree</th>\n",
       "      <th>vm_to_pu</th>\n",
       "      <th>va_to_degree</th>\n",
       "      <th>loading_percent</th>\n",
       "    </tr>\n",
       "  </thead>\n",
       "  <tbody>\n",
       "    <tr>\n",
       "      <th>0</th>\n",
       "      <td>0.050699</td>\n",
       "      <td>0.018287</td>\n",
       "      <td>-0.044708</td>\n",
       "      <td>-0.017517</td>\n",
       "      <td>0.005990</td>\n",
       "      <td>0.000770</td>\n",
       "      <td>0.078870</td>\n",
       "      <td>0.078872</td>\n",
       "      <td>0.078872</td>\n",
       "      <td>0.986332</td>\n",
       "      <td>-150.404479</td>\n",
       "      <td>0.878723</td>\n",
       "      <td>-148.847941</td>\n",
       "      <td>55.543822</td>\n",
       "    </tr>\n",
       "    <tr>\n",
       "      <th>1</th>\n",
       "      <td>0.016223</td>\n",
       "      <td>0.008113</td>\n",
       "      <td>-0.015368</td>\n",
       "      <td>-0.008006</td>\n",
       "      <td>0.000855</td>\n",
       "      <td>0.000107</td>\n",
       "      <td>0.029794</td>\n",
       "      <td>0.029797</td>\n",
       "      <td>0.029797</td>\n",
       "      <td>0.878723</td>\n",
       "      <td>-148.847941</td>\n",
       "      <td>0.839400</td>\n",
       "      <td>-147.910162</td>\n",
       "      <td>20.984075</td>\n",
       "    </tr>\n",
       "  </tbody>\n",
       "</table>\n",
       "</div>"
      ],
      "text/plain": [
       "   p_from_mw  q_from_mvar   p_to_mw  q_to_mvar     pl_mw   ql_mvar  i_from_ka  \\\n",
       "0   0.050699     0.018287 -0.044708  -0.017517  0.005990  0.000770   0.078870   \n",
       "1   0.016223     0.008113 -0.015368  -0.008006  0.000855  0.000107   0.029794   \n",
       "\n",
       "    i_to_ka      i_ka  vm_from_pu  va_from_degree  vm_to_pu  va_to_degree  \\\n",
       "0  0.078872  0.078872    0.986332     -150.404479  0.878723   -148.847941   \n",
       "1  0.029797  0.029797    0.878723     -148.847941  0.839400   -147.910162   \n",
       "\n",
       "   loading_percent  \n",
       "0        55.543822  \n",
       "1        20.984075  "
      ]
     },
     "execution_count": 70,
     "metadata": {},
     "output_type": "execute_result"
    }
   ],
   "source": [
    "net4.res_line_est"
   ]
  },
  {
   "cell_type": "code",
   "execution_count": 71,
   "metadata": {},
   "outputs": [
    {
     "data": {
      "text/html": [
       "<div>\n",
       "<style scoped>\n",
       "    .dataframe tbody tr th:only-of-type {\n",
       "        vertical-align: middle;\n",
       "    }\n",
       "\n",
       "    .dataframe tbody tr th {\n",
       "        vertical-align: top;\n",
       "    }\n",
       "\n",
       "    .dataframe thead th {\n",
       "        text-align: right;\n",
       "    }\n",
       "</style>\n",
       "<table border=\"1\" class=\"dataframe\">\n",
       "  <thead>\n",
       "    <tr style=\"text-align: right;\">\n",
       "      <th></th>\n",
       "      <th>vm_pu</th>\n",
       "      <th>va_degree</th>\n",
       "      <th>p_mw</th>\n",
       "      <th>q_mvar</th>\n",
       "    </tr>\n",
       "  </thead>\n",
       "  <tbody>\n",
       "    <tr>\n",
       "      <th>0</th>\n",
       "      <td>1.018668</td>\n",
       "      <td>0.000000</td>\n",
       "      <td>-0.104410</td>\n",
       "      <td>-0.183243</td>\n",
       "    </tr>\n",
       "    <tr>\n",
       "      <th>1</th>\n",
       "      <td>0.986332</td>\n",
       "      <td>-150.404479</td>\n",
       "      <td>0.051054</td>\n",
       "      <td>0.158424</td>\n",
       "    </tr>\n",
       "    <tr>\n",
       "      <th>2</th>\n",
       "      <td>0.878723</td>\n",
       "      <td>-148.847941</td>\n",
       "      <td>0.028485</td>\n",
       "      <td>0.009404</td>\n",
       "    </tr>\n",
       "    <tr>\n",
       "      <th>3</th>\n",
       "      <td>0.839400</td>\n",
       "      <td>-147.910162</td>\n",
       "      <td>0.015368</td>\n",
       "      <td>0.008006</td>\n",
       "    </tr>\n",
       "  </tbody>\n",
       "</table>\n",
       "</div>"
      ],
      "text/plain": [
       "      vm_pu   va_degree      p_mw    q_mvar\n",
       "0  1.018668    0.000000 -0.104410 -0.183243\n",
       "1  0.986332 -150.404479  0.051054  0.158424\n",
       "2  0.878723 -148.847941  0.028485  0.009404\n",
       "3  0.839400 -147.910162  0.015368  0.008006"
      ]
     },
     "execution_count": 71,
     "metadata": {},
     "output_type": "execute_result"
    }
   ],
   "source": [
    "net4.res_bus_est"
   ]
  },
  {
   "cell_type": "code",
   "execution_count": null,
   "metadata": {},
   "outputs": [],
   "source": []
  },
  {
   "cell_type": "code",
   "execution_count": null,
   "metadata": {},
   "outputs": [],
   "source": []
  },
  {
   "cell_type": "code",
   "execution_count": null,
   "metadata": {},
   "outputs": [],
   "source": []
  }
 ],
 "metadata": {
  "kernelspec": {
   "display_name": "Python 3",
   "language": "python",
   "name": "python3"
  },
  "language_info": {
   "codemirror_mode": {
    "name": "ipython",
    "version": 3
   },
   "file_extension": ".py",
   "mimetype": "text/x-python",
   "name": "python",
   "nbconvert_exporter": "python",
   "pygments_lexer": "ipython3",
   "version": "3.6.8"
  }
 },
 "nbformat": 4,
 "nbformat_minor": 2
}
