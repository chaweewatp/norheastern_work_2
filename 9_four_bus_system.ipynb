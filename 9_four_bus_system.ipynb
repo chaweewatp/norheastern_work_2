{
 "cells": [
  {
   "cell_type": "code",
   "execution_count": 1,
   "metadata": {},
   "outputs": [
    {
     "name": "stdout",
     "output_type": "stream",
     "text": [
      "2.0.1\n"
     ]
    }
   ],
   "source": [
    "import pandapower as pp\n",
    "import pandapower.networks as pn\n",
    "from pandapower.estimation import estimate, remove_bad_data, chi2_analysis\n",
    "import pandas as pd\n",
    "import numpy as np\n",
    "# from tqdm import tqdm\n",
    "print(pp.__version__)\n",
    "import matplotlib.pyplot as plt\n",
    "import ruptures as rpt\n",
    "from tqdm import tqdm\n",
    "# from julia.PowerModels import run_ac_opf\n",
    "# from julia.PowerModels import run_ac_opf"
   ]
  },
  {
   "cell_type": "code",
   "execution_count": 2,
   "metadata": {
    "collapsed": true
   },
   "outputs": [],
   "source": [
    "def create_measurement_unit(df_measurement, net):\n",
    "    list_value=[]\n",
    "    list_std=[]\n",
    "    for index, row in df_measurement.iterrows():\n",
    "        if row['element_type'] =='bus':\n",
    "            if row['meas_type'] =='v':\n",
    "                mu= net.res_bus.iloc[row['element'],0]\n",
    "                sigma = (abs(mu)*upper_bus_accuracy-abs(mu)*lower_bus_accuracy)/4\n",
    "            elif row['meas_type'] =='p':\n",
    "                mu= net.res_bus.iloc[row['element'],2]\n",
    "                sigma = (abs(mu)*upper_bus_accuracy-abs(mu)*lower_bus_accuracy)/4\n",
    "            elif row['meas_type'] =='q':\n",
    "                mu= net.res_bus.iloc[row['element'],3]\n",
    "                sigma = (abs(mu)*upper_bus_accuracy-abs(mu)*lower_bus_accuracy)/4\n",
    "                \n",
    "        elif row['element_type'] =='line':\n",
    "            if row['side']=='from':\n",
    "                if row['meas_type'] =='p':\n",
    "                    mu= net.res_line.iloc[row['element'],0]\n",
    "                    sigma = (abs(mu)*upper_line_accuracy-abs(mu)*lower_line_accuracy)/4\n",
    "                elif row['meas_type'] =='q':\n",
    "                    mu = net.res_line.iloc[row['element'],1]\n",
    "                    sigma = (abs(mu)*upper_line_accuracy-abs(mu)*lower_line_accuracy)/4\n",
    "                elif row['meas_type']=='i':\n",
    "                    mu=net.res_line.iloc[row['element'],6]\n",
    "                    sigma = (abs(mu)*upper_line_accuracy-abs(mu)*lower_line_accuracy)/4\n",
    "            elif row['side']=='to':\n",
    "                if row['meas_type'] =='p':\n",
    "                    mu= net.res_line.iloc[row['element'],2]\n",
    "                    sigma = (abs(mu)*upper_line_accuracy-abs(mu)*lower_line_accuracy)/4\n",
    "                elif row['meas_type'] =='q':\n",
    "                    mu = net.res_line.iloc[row['element'],3]\n",
    "                    sigma = (abs(mu)*upper_line_accuracy-abs(mu)*lower_line_accuracy)/4\n",
    "                elif row['meas_type']=='i':\n",
    "                    mu=net.res_line.iloc[row['element'],7]\n",
    "                    sigma = (abs(mu)*upper_line_accuracy-abs(mu)*lower_line_accuracy)/4\n",
    "                    \n",
    "                    \n",
    "        elif row['element_type'] =='trafo':\n",
    "            if row['side']=='from':\n",
    "                if row['meas_type'] == 'i':\n",
    "                    mu =net.res_trafo.iloc[row['element'],6]\n",
    "                    sigma = (abs(mu)*upper_trafo_accuracy-abs(mu)*lower_trafo_accuracy)/4\n",
    "                elif row['meas_type'] == 'p':\n",
    "                    mu =net.res_trafo.iloc[row['element'],0]\n",
    "                    sigma = (abs(mu)*upper_trafo_accuracy-abs(mu)*lower_trafo_accuracy)/4\n",
    "                elif row['meas_type'] == 'q':\n",
    "                    mu =net.res_trafo.iloc[row['element'],1]\n",
    "                    sigma = (abs(mu)*upper_trafo_accuracy-abs(mu)*lower_trafo_accuracy)/4\n",
    "            elif row['side']=='to':\n",
    "                if row['meas_type'] =='i':\n",
    "                    mu =net.res_trafo.iloc[row['element'],7]\n",
    "                    sigma = (abs(mu)*upper_trafo_accuracy-abs(mu)*lower_trafo_accuracy)/4\n",
    "                elif row['meas_type'] =='p':\n",
    "                    mu =net.res_trafo.iloc[row['element'],2]\n",
    "                    sigma = (abs(mu)*upper_trafo_accuracy-abs(mu)*lower_trafo_accuracy)/4\n",
    "                elif row['meas_type'] =='q':\n",
    "                    mu =net.res_trafo.iloc[row['element'],3]\n",
    "                    sigma = (abs(mu)*upper_trafo_accuracy-abs(mu)*lower_trafo_accuracy)/4\n",
    "#         print(mu)  \n",
    "        value = np.random.normal(mu, sigma, 1)\n",
    "        list_value.append(value[0])\n",
    "        list_std.append(sigma)\n",
    "    df_measurement['value']=list_value\n",
    "    df_measurement['std_dev']=list_std\n",
    "\n",
    "    for index, row in df_measurement.iterrows():\n",
    "        if row['element_type']=='bus':\n",
    "            pp.create_measurement(net, row['meas_type'], row['element_type'], value=row['value'], \n",
    "                                  std_dev=row['std_dev'], element=row['element'])\n",
    "        elif row['element_type']=='line':\n",
    "            pp.create_measurement(net, row['meas_type'], row['element_type'], value=row['value'], \n",
    "                                  std_dev=row['std_dev'], element=row['element'], side=row['side'])\n",
    "        elif row['element_type']=='trafo':\n",
    "            if row['meas_type'] in ['p','q']:\n",
    "                pp.create_measurement(net, row['meas_type'], row['element_type'], value=row['value'], \n",
    "                                      std_dev=row['std_dev'], element=row['element'], side=row['side'])\n",
    "    return df_measurement, net"
   ]
  },
  {
   "cell_type": "code",
   "execution_count": 3,
   "metadata": {
    "collapsed": true
   },
   "outputs": [],
   "source": [
    "global upper_bus_accuracy, lower_bus_accuracy, upper_line_accuracy, lower_line_accuracy, upper_trafo_accuracy, lower_trafo_accuracy\n",
    "upper_bus_accuracy=1.01\n",
    "lower_bus_accuracy=0.99\n",
    "upper_line_accuracy=1.03\n",
    "lower_line_accuracy=0.97\n",
    "upper_trafo_accuracy=1.03\n",
    "lower_trafo_accuracy=0.97"
   ]
  },
  {
   "cell_type": "code",
   "execution_count": 4,
   "metadata": {
    "collapsed": true
   },
   "outputs": [],
   "source": [
    "#modelling duck curve pattern for solar PV generation\n",
    "scaling_for_solar=np.array([0,0,0,0,0,0,0.02,0.1,0.3,0.5,0.7,0.8,0.8,1.0,1.0,0.8,0.7,0.4,0.2,0,0,0,0,0,0])\n",
    "# scaling_for_solar=np.array([np.random.normal(item, 0.01, 60) if item !=0 else np.zeros(60) for item in scaling_for_solar])\n",
    "scaling_for_solar=np.array([np.random.normal(item, 0.05, 1)[0] if item !=0 else np.zeros(1)[0] for ind in range(len(scaling_for_solar)-1) for item in np.linspace(scaling_for_solar[ind], scaling_for_solar[ind+1],60)])\n",
    "scaling_for_solar=np.array([value if value >0 else np.zeros(1)[0] for value in scaling_for_solar])\n",
    "scaling_for_solar.shape=(1,24*60)\n",
    "scaling_for_load=np.array([0.3,0.2,0.15,0.15, 0.2,0.25,\n",
    "                          0.4,0.5,0.6,0.7,0.4,0.5,0.6,\n",
    "                          0.7,0.65,0.55,0.55,0.6,0.7,\n",
    "                          0.8,0.86,0.9,0.5,0.3])\n",
    "scaling_for_load=np.array([[np.random.normal(item, 0.1, 15),\n",
    "                            np.random.normal(item, 0.1, 15),\n",
    "                            np.random.normal(item, 0.1, 15),\n",
    "                            np.random.normal(item, 0.1, 15)] for item in scaling_for_load])\n",
    "scaling_for_load.shape=(1,24*60)"
   ]
  },
  {
   "cell_type": "code",
   "execution_count": 5,
   "metadata": {
    "collapsed": true
   },
   "outputs": [],
   "source": [
    "scaling_for_solar[0][800:805]=0.1\n",
    "scaling_for_solar[0][705:710]=0.1\n",
    "scaling_for_solar[0][677:682]=0.1"
   ]
  },
  {
   "cell_type": "code",
   "execution_count": 6,
   "metadata": {},
   "outputs": [
    {
     "data": {
      "image/png": "[encoded data removed]",
      "text/plain": [
       "<matplotlib.figure.Figure at 0x1198a3c18>"
      ]
     },
     "metadata": {},
     "output_type": "display_data"
    }
   ],
   "source": [
    "fig, ax = plt.subplots()\n",
    "\n",
    "ax.plot(range(len(scaling_for_solar[0])), scaling_for_solar[0])\n",
    "plt.show()"
   ]
  },
  {
   "cell_type": "code",
   "execution_count": null,
   "metadata": {
    "collapsed": true
   },
   "outputs": [],
   "source": []
  },
  {
   "cell_type": "code",
   "execution_count": 15,
   "metadata": {
    "scrolled": false
   },
   "outputs": [
    {
     "name": "stderr",
     "output_type": "stream",
     "text": [
      "\r",
      "round:   0%|          | 0/3 [00:00<?, ?it/s]"
     ]
    },
    {
     "name": "stdout",
     "output_type": "stream",
     "text": [
      "[1 1]\n",
      "0    0.004\n",
      "1    0.006\n",
      "Name: p_mw, dtype: float64\n"
     ]
    },
    {
     "name": "stderr",
     "output_type": "stream",
     "text": [
      "\r",
      "round:  33%|███▎      | 1/3 [03:45<07:30, 225.50s/it]"
     ]
    },
    {
     "name": "stdout",
     "output_type": "stream",
     "text": [
      "bus : 2 has solar PV size:  [-0.0022609207847724623]\n",
      "bus : 2 has solar PV size:  [0.007678958591832143]\n",
      "bus : 3 has solar PV size:  [-0.0022609207847724623, -0.003795946457208968]\n",
      "bus : 3 has solar PV size:  [0.007678958591832143, 0.009056781276113542]\n",
      "[1 0]\n",
      "0    0.003\n",
      "1    0.033\n",
      "Name: p_mw, dtype: float64\n"
     ]
    },
    {
     "name": "stderr",
     "output_type": "stream",
     "text": [
      "\r",
      "round:  67%|██████▋   | 2/3 [07:39<03:48, 228.19s/it]"
     ]
    },
    {
     "name": "stdout",
     "output_type": "stream",
     "text": [
      "bus : 2 has solar PV size:  [-0.0028241118041066222]\n",
      "bus : 2 has solar PV size:  [0.01220035095586556]\n",
      "[1 1]\n",
      "0    0.047\n",
      "1    0.021\n",
      "Name: p_mw, dtype: float64\n"
     ]
    },
    {
     "name": "stderr",
     "output_type": "stream",
     "text": [
      "\r",
      "round: 100%|██████████| 3/3 [11:33<00:00, 229.81s/it]"
     ]
    },
    {
     "name": "stdout",
     "output_type": "stream",
     "text": [
      "bus : 2 has solar PV size:  [0.03099095822563988]\n",
      "bus : 2 has solar PV size:  [-0.03225962817269023]\n",
      "bus : 3 has solar PV size:  [0.03099095822563988, 0.00542110445078304]\n",
      "bus : 3 has solar PV size:  [-0.03225962817269023, -0.006431999445011484]\n"
     ]
    },
    {
     "name": "stderr",
     "output_type": "stream",
     "text": [
      "\n"
     ]
    }
   ],
   "source": [
    "list_PV_loc=[]\n",
    "list_PV_value=[]\n",
    "list_PV_detected_loc=[]\n",
    "list_PV_detected_value_1=[]\n",
    "list_PV_detected_value_2=[]\n",
    "list_PV_detected_value_3=[]\n",
    "\n",
    "\n",
    "for round in tqdm(range(3), desc='round: '):\n",
    "    p_mw=np.array([[0,0,0,0]])\n",
    "    \n",
    "    pv_location=np.zeros(2, dtype='int')\n",
    "    while sum(pv_location) == 0:\n",
    "        pv_location=np.random.randint(2, size=2) \n",
    "#     pv_location=np.array([1,1])\n",
    "    print(pv_location)#     \n",
    "    list_PV_loc.append(pv_location)\n",
    "    net = pn.simple_four_bus_system()\n",
    "    net.sgen.p_mw=np.random.randint(50, size=2)/1000\n",
    "    list_PV_value.append(np.array(net.sgen.p_mw[:]))\n",
    "    print(net.sgen.p_mw)\n",
    "    net.sgen.q_mvar[:]=0\n",
    "    for scaling_solar, load_scaling in zip(scaling_for_solar[0],scaling_for_load[0]):\n",
    "        net.sgen.scaling=[scaling_solar*pv_location[0], scaling_solar*pv_location[1]]\n",
    "        net.load.scaling=[load_scaling, load_scaling]\n",
    "        pp.runpp(net)\n",
    "        df_measurement=pd.DataFrame()\n",
    "        df_measurement['meas_type']=['v','v','p','p','q','q','i','i']\n",
    "        df_measurement['element_type']=['bus','bus','line','line','line','line','line','line']\n",
    "        df_measurement['element']=[2,3,0,1,0,1,0,1]\n",
    "        df_measurement['side']=['None','None','from','from','from','from','from','from']\n",
    "        df_measurement, net = create_measurement_unit(df_measurement, net)\n",
    "        success = estimate(net, init=\"slack\", calculate_voltage_angles=True, zero_injection=[1])\n",
    "        new_mw=np.array([[item for item in net.res_bus_est.p_mw[:]]])\n",
    "        p_mw=np.concatenate((p_mw, new_mw), axis=0)\n",
    "\n",
    "    df=pd.DataFrame()\n",
    "    df['solar_irradiation']=scaling_for_solar[0][7*60:-5*60]\n",
    "    bus_has_solar_PV=[]\n",
    "    list_corr=[]\n",
    "    for bus in range(0,len(p_mw[0])):\n",
    "        df['bus{}'.format(bus)]=p_mw[:,bus][1:][7*60:-5*60]\n",
    "        corr=df['solar_irradiation'].corr(df['bus{}'.format(bus)])\n",
    "        list_corr.append(corr)\n",
    "#         print('correlation at bus {} is: {}'.format(bus, corr))\n",
    "        if corr <-0.2:\n",
    "            bus_has_solar_PV.append(bus)\n",
    "    list_PV_detected_loc.append(bus_has_solar_PV)\n",
    "    #combine solar scaling and p_mw at solar located bus\n",
    "    new_p_mw=p_mw.copy()\n",
    "    new_p_mw=new_p_mw.transpose()\n",
    "    my_array=np.array([scaling_for_solar[0]]).T.copy()\n",
    "    for located_bus in bus_has_solar_PV:\n",
    "        my_array=np.concatenate((my_array, np.array([[x] for x in new_p_mw[located_bus][1:]])), axis=1)\n",
    "\n",
    "    algo = rpt.Pelt(model='rbf', min_size=1, jump=1).fit(my_array[:])\n",
    "    my_bkps = algo.predict(pen=1)\n",
    "    ## display\n",
    "#     rpt.display(my_array, my_bkps)\n",
    "#     plt.show()\n",
    "    size_pv_1=[]\n",
    "    size_pv_2=[]\n",
    "    for bus in bus_has_solar_PV:\n",
    "        sum_value=np.array([])\n",
    "        for period in my_bkps[:-1]:\n",
    "            value=(p_mw[1:][:,bus][period-1]-p_mw[1:][:,bus][period])/(scaling_for_solar[0][period-1]-scaling_for_solar[0][period])\n",
    "            if scaling_for_solar[0][period-1]-scaling_for_solar[0][period] !=0:\n",
    "                sum_value = np.append(sum_value, value)\n",
    "\n",
    "        mean = np.mean(sum_value, axis=0)\n",
    "        sd = np.std(sum_value, axis=0)\n",
    "        final_list = [x for x in sum_value if (x > mean - 2 * sd)]\n",
    "        final_list = [x for x in final_list if (x < mean + 2 * sd)]\n",
    "        size_pv_1.append(np.array(final_list).mean()*list_corr[bus])\n",
    "        size_pv_2.append(np.array(final_list).mean())\n",
    "        print('bus :', bus, 'has solar PV size: ', size_pv_1)\n",
    "        print('bus :', bus, 'has solar PV size: ', size_pv_2)\n",
    "        \n",
    "    list_PV_detected_value_1.append(size_pv_1)\n",
    "    list_PV_detected_value_2.append(size_pv_2)\n",
    "\n",
    " "
   ]
  },
  {
   "cell_type": "code",
   "execution_count": 8,
   "metadata": {},
   "outputs": [
    {
     "data": {
      "text/plain": [
       "[array([0, 1]), array([1, 0]), array([1, 1])]"
      ]
     },
     "execution_count": 8,
     "metadata": {},
     "output_type": "execute_result"
    }
   ],
   "source": [
    "list_PV_loc"
   ]
  },
  {
   "cell_type": "code",
   "execution_count": 9,
   "metadata": {},
   "outputs": [
    {
     "data": {
      "text/plain": [
       "[array([0.034, 0.007]), array([0.048, 0.018]), array([0.017, 0.049])]"
      ]
     },
     "execution_count": 9,
     "metadata": {},
     "output_type": "execute_result"
    }
   ],
   "source": [
    "list_PV_value"
   ]
  },
  {
   "cell_type": "code",
   "execution_count": 10,
   "metadata": {},
   "outputs": [
    {
     "data": {
      "text/plain": [
       "[[3], [2], [2, 3]]"
      ]
     },
     "execution_count": 10,
     "metadata": {},
     "output_type": "execute_result"
    }
   ],
   "source": [
    "list_PV_detected_loc"
   ]
  },
  {
   "cell_type": "code",
   "execution_count": 11,
   "metadata": {},
   "outputs": [
    {
     "data": {
      "text/plain": [
       "[[-0.003594307912844514],\n",
       " [0.03133562649749799],\n",
       " [0.0022921944671171067, 0.031223880498110614]]"
      ]
     },
     "execution_count": 11,
     "metadata": {},
     "output_type": "execute_result"
    }
   ],
   "source": [
    "list_PV_detected_value_3"
   ]
  },
  {
   "cell_type": "code",
   "execution_count": 12,
   "metadata": {},
   "outputs": [
    {
     "ename": "ValueError",
     "evalue": "operands could not be broadcast together with shapes (3,2) (3,) ",
     "output_type": "error",
     "traceback": [
      "\u001b[0;31m---------------------------------------------------------------------------\u001b[0m",
      "\u001b[0;31mValueError\u001b[0m                                Traceback (most recent call last)",
      "\u001b[0;32m<ipython-input-12-390a91aea2c3>\u001b[0m in \u001b[0;36m<module>\u001b[0;34m()\u001b[0m\n\u001b[0;32m----> 1\u001b[0;31m \u001b[0;34m(\u001b[0m\u001b[0mlist_PV_value\u001b[0m\u001b[0;34m-\u001b[0m\u001b[0mnp\u001b[0m\u001b[0;34m.\u001b[0m\u001b[0marray\u001b[0m\u001b[0;34m(\u001b[0m\u001b[0mlist_PV_detected_value_3\u001b[0m\u001b[0;34m)\u001b[0m\u001b[0;34m)\u001b[0m\u001b[0;34m/\u001b[0m\u001b[0mlist_PV_value\u001b[0m\u001b[0;34m*\u001b[0m\u001b[0;36m100\u001b[0m\u001b[0;34m\u001b[0m\u001b[0;34m\u001b[0m\u001b[0m\n\u001b[0m",
      "\u001b[0;31mValueError\u001b[0m: operands could not be broadcast together with shapes (3,2) (3,) "
     ]
    }
   ],
   "source": [
    "(list_PV_value-np.array(list_PV_detected_value_3))/list_PV_value*100"
   ]
  },
  {
   "cell_type": "code",
   "execution_count": 14,
   "metadata": {},
   "outputs": [
    {
     "data": {
      "text/plain": [
       "[0.8692463739570855,\n",
       " 0.041876476978472965,\n",
       " -0.01614060270015922,\n",
       " -0.9637712031513741]"
      ]
     },
     "execution_count": 14,
     "metadata": {},
     "output_type": "execute_result"
    }
   ],
   "source": [
    "list_corr"
   ]
  },
  {
   "cell_type": "code",
   "execution_count": 16,
   "metadata": {
    "collapsed": true
   },
   "outputs": [],
   "source": [
    "#Analysis results\n"
   ]
  },
  {
   "cell_type": "code",
   "execution_count": 23,
   "metadata": {
    "collapsed": true
   },
   "outputs": [],
   "source": [
    "# samples\n",
    "res_1=np.array([[0.044,0.024,0.020,0.011,0.043,0.014,0.027,0.047,0.010,0.012,0.031,0.034,0.030,0.006,0.004,0.041,\n",
    "           0.026,0.006,0.047,0.027,0.047,0.018,0.038,0.031,0.045,0.007,0.037,0.039,0.008,0.048,0.040,0.036,\n",
    "           0.024, 0.009,0.033,0.027,0.005,0.013,0.030,0.043,0.036,0.021,0.031,0.019,0.045,0.026,0.041,0.016,\n",
    "           0.004,0.003,0.042,0.042,0.024,0.043,0.046],\n",
    "          [0.047,0.036,0.034,0.021,0.048,0.026,0.035,0.054,0.019,0.022,0.039,0.044,0.039,0.013,0.009,0.047,\n",
    "           0.038,0.012,0.051,0.037,0.051,0.018,0.044,0.043,0.046,0.014,0.046,0.045,0.015,0.053,0.045,0.045,\n",
    "           0.033, 0.017,0.042,0.039,0.010,0.024,0.041,0.047,0.044,0.032,0.036,0.032,0.054,0.040,0.046,0.028,\n",
    "           0.009,0.005,0.049,0.042,0.039,0.047,0.052]])\n",
    "res_2=np.array([[0.002,0.001,0.001,0.002]])"
   ]
  },
  {
   "cell_type": "code",
   "execution_count": 28,
   "metadata": {},
   "outputs": [
    {
     "data": {
      "text/plain": [
       "0.007690909090909092"
      ]
     },
     "execution_count": 28,
     "metadata": {},
     "output_type": "execute_result"
    }
   ],
   "source": [
    "abs(res_1[0]-res_1[1]).mean()"
   ]
  },
  {
   "cell_type": "code",
   "execution_count": 30,
   "metadata": {},
   "outputs": [
    {
     "data": {
      "text/plain": [
       "0.003531019565727967"
      ]
     },
     "execution_count": 30,
     "metadata": {},
     "output_type": "execute_result"
    }
   ],
   "source": [
    "abs(res_1[0]-res_1[1]).std()"
   ]
  },
  {
   "cell_type": "code",
   "execution_count": 34,
   "metadata": {},
   "outputs": [
    {
     "data": {
      "text/plain": [
       "44.51942407550503"
      ]
     },
     "execution_count": 34,
     "metadata": {},
     "output_type": "execute_result"
    }
   ],
   "source": [
    "abs((res_1[0]-res_1[1])/res_1[0]).mean()*100"
   ]
  },
  {
   "cell_type": "code",
   "execution_count": 54,
   "metadata": {
    "collapsed": true
   },
   "outputs": [],
   "source": [
    "res_1_to_10_kw=np.array([[],[]])\n",
    "res_10_to_20_kw=np.array([[],[]])\n",
    "res_20_to_30_kw=np.array([[],[]])\n",
    "res_30_to_40_kw=np.array([[],[]])\n",
    "res_40_to_50_kw=np.array([[],[]])\n",
    "for ind in range(len(res_1[0])):\n",
    "    if (res_1[0][ind] <=0.01):\n",
    "        res_1_to_10_kw=np.append(res_1_to_10_kw, np.array([[res_1[0][ind]], [res_1[1][ind]]]), axis=1)\n",
    "    elif (res_1[0][ind] <=0.02):\n",
    "        res_10_to_20_kw=np.append(res_10_to_20_kw, np.array([[res_1[0][ind]], [res_1[1][ind]]]), axis=1)\n",
    "    elif (res_1[0][ind] <=0.03):\n",
    "        res_20_to_30_kw=np.append(res_20_to_30_kw, np.array([[res_1[0][ind]], [res_1[1][ind]]]), axis=1)\n",
    "    elif (res_1[0][ind] <=0.04):\n",
    "        res_30_to_40_kw=np.append(res_30_to_40_kw, np.array([[res_1[0][ind]], [res_1[1][ind]]]), axis=1)\n",
    "    elif (res_1[0][ind] <=0.05):\n",
    "        res_40_to_50_kw=np.append(res_40_to_50_kw, np.array([[res_1[0][ind]], [res_1[1][ind]]]), axis=1)\n",
    "\n"
   ]
  },
  {
   "cell_type": "code",
   "execution_count": null,
   "metadata": {
    "collapsed": true
   },
   "outputs": [],
   "source": []
  },
  {
   "cell_type": "code",
   "execution_count": null,
   "metadata": {
    "collapsed": true
   },
   "outputs": [],
   "source": []
  },
  {
   "cell_type": "code",
   "execution_count": null,
   "metadata": {
    "collapsed": true
   },
   "outputs": [],
   "source": []
  },
  {
   "cell_type": "code",
   "execution_count": 58,
   "metadata": {},
   "outputs": [
    {
     "data": {
      "text/plain": [
       "99.97222222222221"
      ]
     },
     "execution_count": 58,
     "metadata": {},
     "output_type": "execute_result"
    }
   ],
   "source": [
    "abs((res_1_to_10_kw[0]-res_1_to_10_kw[1])/res_1_to_10_kw[0]).mean()*100"
   ]
  },
  {
   "cell_type": "code",
   "execution_count": 59,
   "metadata": {},
   "outputs": [
    {
     "data": {
      "text/plain": [
       "69.74914340045919"
      ]
     },
     "execution_count": 59,
     "metadata": {},
     "output_type": "execute_result"
    }
   ],
   "source": [
    "abs((res_10_to_20_kw[0]-res_10_to_20_kw[1])/res_10_to_20_kw[0]).mean()*100"
   ]
  },
  {
   "cell_type": "code",
   "execution_count": 60,
   "metadata": {},
   "outputs": [
    {
     "data": {
      "text/plain": [
       "43.65079365079365"
      ]
     },
     "execution_count": 60,
     "metadata": {},
     "output_type": "execute_result"
    }
   ],
   "source": [
    "abs((res_20_to_30_kw[0]-res_20_to_30_kw[1])/res_20_to_30_kw[0]).mean()*100"
   ]
  },
  {
   "cell_type": "code",
   "execution_count": 61,
   "metadata": {},
   "outputs": [
    {
     "data": {
      "text/plain": [
       "22.959117171300424"
      ]
     },
     "execution_count": 61,
     "metadata": {},
     "output_type": "execute_result"
    }
   ],
   "source": [
    "abs((res_30_to_40_kw[0]-res_30_to_40_kw[1])/res_30_to_40_kw[0]).mean()*100"
   ]
  },
  {
   "cell_type": "code",
   "execution_count": 62,
   "metadata": {},
   "outputs": [
    {
     "data": {
      "text/plain": [
       "10.542929045589736"
      ]
     },
     "execution_count": 62,
     "metadata": {},
     "output_type": "execute_result"
    }
   ],
   "source": [
    "abs((res_40_to_50_kw[0]-res_40_to_50_kw[1])/res_40_to_50_kw[0]).mean()*100"
   ]
  },
  {
   "cell_type": "code",
   "execution_count": 63,
   "metadata": {},
   "outputs": [
    {
     "data": {
      "text/plain": [
       "0.0060999999999999995"
      ]
     },
     "execution_count": 63,
     "metadata": {},
     "output_type": "execute_result"
    }
   ],
   "source": [
    "abs(res_1_to_10_kw[0]-res_1_to_10_kw[1]).mean()"
   ]
  },
  {
   "cell_type": "code",
   "execution_count": 65,
   "metadata": {},
   "outputs": [
    {
     "data": {
      "text/plain": [
       "0.01025"
      ]
     },
     "execution_count": 65,
     "metadata": {},
     "output_type": "execute_result"
    }
   ],
   "source": [
    "abs(res_10_to_20_kw[0]-res_10_to_20_kw[1]).mean()"
   ]
  },
  {
   "cell_type": "code",
   "execution_count": 66,
   "metadata": {},
   "outputs": [
    {
     "data": {
      "text/plain": [
       "0.011181818181818182"
      ]
     },
     "execution_count": 66,
     "metadata": {},
     "output_type": "execute_result"
    }
   ],
   "source": [
    "abs(res_20_to_30_kw[0]-res_20_to_30_kw[1]).mean()"
   ]
  },
  {
   "cell_type": "code",
   "execution_count": 68,
   "metadata": {},
   "outputs": [
    {
     "data": {
      "text/plain": [
       "0.007909090909090909"
      ]
     },
     "execution_count": 68,
     "metadata": {},
     "output_type": "execute_result"
    }
   ],
   "source": [
    "abs(res_30_to_40_kw[0]-res_30_to_40_kw[1]).mean()"
   ]
  },
  {
   "cell_type": "code",
   "execution_count": 69,
   "metadata": {},
   "outputs": [
    {
     "data": {
      "text/plain": [
       "0.004666666666666667"
      ]
     },
     "execution_count": 69,
     "metadata": {},
     "output_type": "execute_result"
    }
   ],
   "source": [
    "abs(res_40_to_50_kw[0]-res_40_to_50_kw[1]).mean()"
   ]
  },
  {
   "cell_type": "code",
   "execution_count": null,
   "metadata": {
    "collapsed": true
   },
   "outputs": [],
   "source": []
  },
  {
   "cell_type": "code",
   "execution_count": 2,
   "metadata": {},
   "outputs": [],
   "source": [
    "import numpy as np"
   ]
  },
  {
   "cell_type": "code",
   "execution_count": 3,
   "metadata": {},
   "outputs": [],
   "source": [
    "\n",
    "# samples\n",
    "res_1=np.array([[7,36,6,30,3,22,47,16,9,11,11,25,46,14,44,13,5,33,41,16,48,36,3,     17,46,32,3,  20,11,\n",
    "                 11,29,47,39,39,32,23,36,48,30,49,6,44,8,24,24,15,31,23,10,37,9,26,4,5,36,8,9,  7,10, \n",
    "                 33,42,9, 48,18,11,12,25,18,11,12,25,37,24,20,17,18,49,20,34,15,23,25,44,15,8,39,26,19,\n",
    "                 21,15,6,7,10,49,5,17,11,27,12,38,28,30,39,43,14,4,29,28,29,30,39,30,7,48,42,30,36,28,\n",
    "                 41,9,3,21,18,43,18,44,],\n",
    "                [7,41,6,34,1.8,25,48,18,13,22,12,28,49,11,47,11,5,31,44,18,54,42,2.5,25,50,35,2.5,22,12,\n",
    "                 13,33,51,42,51,39,26,41,53,35,55,6,50,8,27,28,13,35,27,10,42,9,34,3,5,40,8,6.9,8.6,10,\n",
    "                 35,45,10,54,21,10,13,29,21,10,13,29,38,25,22,19,20,53,20,39,20,26,29,42,16,7,45,32,21,\n",
    "                 24,18,7,6,10,54,5,18,12,33,13,43,32,34,34,47,15,1,33,21,30,32,42,32,6,50,45,37,37,30,\n",
    "                 42,10,2,21,18,46,28,51]])\n",
    "res_2=np.array([1,2,2,1,2,2,2,2,1])\n",
    "res_3=np.array([])\n",
    "res_4=np.zeros(60)"
   ]
  },
  {
   "cell_type": "code",
   "execution_count": 4,
   "metadata": {},
   "outputs": [],
   "source": [
    "TP=len(res_1[1])\n",
    "TN=len(res_4)\n",
    "FP=len(res_3)\n",
    "FN=len(res_2)\n",
    "ACC=(TP+TN)/(TP+TN+FP+FN)\n",
    "F_1=(2*TP)/(2*TP+FP+FN)\n",
    "MCC=(TP*TN-FP*FN)/(np.sqrt((TP+FP)*(TP+FN)*(TN+FP)*(TN+FN)))"
   ]
  },
  {
   "cell_type": "code",
   "execution_count": 5,
   "metadata": {},
   "outputs": [
    {
     "name": "stdout",
     "output_type": "stream",
     "text": [
      "ACC:  0.9538461538461539\n",
      "F1:  0.9655172413793104\n",
      "MCC:  0.9008852329229017\n"
     ]
    }
   ],
   "source": [
    "print('ACC: ', ACC)\n",
    "print('F1: ', F_1)\n",
    "print('MCC: ', MCC)"
   ]
  },
  {
   "cell_type": "code",
   "execution_count": 6,
   "metadata": {},
   "outputs": [
    {
     "name": "stdout",
     "output_type": "stream",
     "text": [
      "Total sample is: 195\n",
      "Actual=True & Prediction=True : 126\n",
      "Actual=True & Prediction=False: 9\n",
      "Actual=False & Prediction=True : 0\n",
      "Actual=False & Prediction=False: 60\n"
     ]
    }
   ],
   "source": [
    "\n",
    "total_len=len(res_1[0])+len(res_2)+len(res_3)+len(res_4)\n",
    "print('Total sample is:', total_len)\n",
    "print('Actual=True & Prediction=True :', len(res_1[1]))\n",
    "print('Actual=True & Prediction=False:', len(res_2))\n",
    "print('Actual=False & Prediction=True :', len(res_3))\n",
    "print('Actual=False & Prediction=False:', len(res_4))"
   ]
  },
  {
   "cell_type": "code",
   "execution_count": null,
   "metadata": {},
   "outputs": [],
   "source": []
  },
  {
   "cell_type": "code",
   "execution_count": 7,
   "metadata": {},
   "outputs": [
    {
     "name": "stdout",
     "output_type": "stream",
     "text": [
      "Actual=True & Prediction=True : 64.61538461538461\n"
     ]
    }
   ],
   "source": [
    "print('Actual=True & Prediction=True :', len(res_1[1])/total_len*100)"
   ]
  },
  {
   "cell_type": "code",
   "execution_count": null,
   "metadata": {},
   "outputs": [],
   "source": []
  },
  {
   "cell_type": "code",
   "execution_count": 9,
   "metadata": {},
   "outputs": [],
   "source": [
    "res_1_to_10_kw=np.array([[],[]])\n",
    "res_10_to_20_kw=np.array([[],[]])\n",
    "res_20_to_30_kw=np.array([[],[]])\n",
    "res_30_to_40_kw=np.array([[],[]])\n",
    "res_40_to_50_kw=np.array([[],[]])\n",
    "for ind in range(len(res_1[0])):\n",
    "    if (res_1[0][ind] <=10):\n",
    "        res_1_to_10_kw=np.append(res_1_to_10_kw, np.array([[res_1[0][ind]], [res_1[1][ind]]]), axis=1)\n",
    "    elif (res_1[0][ind] <=20):\n",
    "        res_10_to_20_kw=np.append(res_10_to_20_kw, np.array([[res_1[0][ind]], [res_1[1][ind]]]), axis=1)\n",
    "    elif (res_1[0][ind] <=30):\n",
    "        res_20_to_30_kw=np.append(res_20_to_30_kw, np.array([[res_1[0][ind]], [res_1[1][ind]]]), axis=1)\n",
    "    elif (res_1[0][ind] <=40):\n",
    "        res_30_to_40_kw=np.append(res_30_to_40_kw, np.array([[res_1[0][ind]], [res_1[1][ind]]]), axis=1)\n",
    "    elif (res_1[0][ind] <=50):\n",
    "        res_40_to_50_kw=np.append(res_40_to_50_kw, np.array([[res_1[0][ind]], [res_1[1][ind]]]), axis=1)"
   ]
  },
  {
   "cell_type": "code",
   "execution_count": 10,
   "metadata": {},
   "outputs": [
    {
     "data": {
      "text/plain": [
       "13.972663139329805"
      ]
     },
     "execution_count": 10,
     "metadata": {},
     "output_type": "execute_result"
    }
   ],
   "source": [
    "abs((res_1_to_10_kw[0]-res_1_to_10_kw[1])/res_1_to_10_kw[0]).mean()*100"
   ]
  },
  {
   "cell_type": "code",
   "execution_count": 11,
   "metadata": {},
   "outputs": [
    {
     "data": {
      "text/plain": [
       "16.972836744134053"
      ]
     },
     "execution_count": 11,
     "metadata": {},
     "output_type": "execute_result"
    }
   ],
   "source": [
    "abs((res_10_to_20_kw[0]-res_10_to_20_kw[1])/res_10_to_20_kw[0]).mean()*100"
   ]
  },
  {
   "cell_type": "code",
   "execution_count": 12,
   "metadata": {},
   "outputs": [
    {
     "data": {
      "text/plain": [
       "14.223753656448027"
      ]
     },
     "execution_count": 12,
     "metadata": {},
     "output_type": "execute_result"
    }
   ],
   "source": [
    "abs((res_20_to_30_kw[0]-res_20_to_30_kw[1])/res_20_to_30_kw[0]).mean()*100"
   ]
  },
  {
   "cell_type": "code",
   "execution_count": 13,
   "metadata": {},
   "outputs": [
    {
     "data": {
      "text/plain": [
       "12.265617838208998"
      ]
     },
     "execution_count": 13,
     "metadata": {},
     "output_type": "execute_result"
    }
   ],
   "source": [
    "abs((res_30_to_40_kw[0]-res_30_to_40_kw[1])/res_30_to_40_kw[0]).mean()*100"
   ]
  },
  {
   "cell_type": "code",
   "execution_count": 14,
   "metadata": {},
   "outputs": [
    {
     "data": {
      "text/plain": [
       "8.441963806247783"
      ]
     },
     "execution_count": 14,
     "metadata": {},
     "output_type": "execute_result"
    }
   ],
   "source": [
    "abs((res_40_to_50_kw[0]-res_40_to_50_kw[1])/res_40_to_50_kw[0]).mean()*100"
   ]
  },
  {
   "cell_type": "code",
   "execution_count": 15,
   "metadata": {},
   "outputs": [
    {
     "data": {
      "text/plain": [
       "0.774074074074074"
      ]
     },
     "execution_count": 15,
     "metadata": {},
     "output_type": "execute_result"
    }
   ],
   "source": [
    "abs(res_1_to_10_kw[0]-res_1_to_10_kw[1]).mean()"
   ]
  },
  {
   "cell_type": "code",
   "execution_count": 16,
   "metadata": {},
   "outputs": [
    {
     "data": {
      "text/plain": [
       "2.4838709677419355"
      ]
     },
     "execution_count": 16,
     "metadata": {},
     "output_type": "execute_result"
    }
   ],
   "source": [
    "abs(res_10_to_20_kw[0]-res_10_to_20_kw[1]).mean()"
   ]
  },
  {
   "cell_type": "code",
   "execution_count": 17,
   "metadata": {},
   "outputs": [
    {
     "data": {
      "text/plain": [
       "3.75"
      ]
     },
     "execution_count": 17,
     "metadata": {},
     "output_type": "execute_result"
    }
   ],
   "source": [
    "abs(res_20_to_30_kw[0]-res_20_to_30_kw[1]).mean()"
   ]
  },
  {
   "cell_type": "code",
   "execution_count": 18,
   "metadata": {},
   "outputs": [
    {
     "data": {
      "text/plain": [
       "4.421052631578948"
      ]
     },
     "execution_count": 18,
     "metadata": {},
     "output_type": "execute_result"
    }
   ],
   "source": [
    "abs(res_30_to_40_kw[0]-res_30_to_40_kw[1]).mean()"
   ]
  },
  {
   "cell_type": "code",
   "execution_count": 19,
   "metadata": {},
   "outputs": [
    {
     "data": {
      "text/plain": [
       "3.857142857142857"
      ]
     },
     "execution_count": 19,
     "metadata": {},
     "output_type": "execute_result"
    }
   ],
   "source": [
    "abs(res_40_to_50_kw[0]-res_40_to_50_kw[1]).mean()"
   ]
  },
  {
   "cell_type": "code",
   "execution_count": null,
   "metadata": {},
   "outputs": [],
   "source": []
  },
  {
   "cell_type": "code",
   "execution_count": null,
   "metadata": {},
   "outputs": [],
   "source": []
  },
  {
   "cell_type": "code",
   "execution_count": 20,
   "metadata": {},
   "outputs": [
    {
     "data": {
      "text/plain": [
       "13.5874041672046"
      ]
     },
     "execution_count": 20,
     "metadata": {},
     "output_type": "execute_result"
    }
   ],
   "source": [
    "abs((res_1[0]-res_1[1])/res_1[0]).mean()*100"
   ]
  },
  {
   "cell_type": "code",
   "execution_count": 21,
   "metadata": {},
   "outputs": [
    {
     "data": {
      "text/plain": [
       "2.9198412698412697"
      ]
     },
     "execution_count": 21,
     "metadata": {},
     "output_type": "execute_result"
    }
   ],
   "source": [
    "abs(res_1[0]-res_1[1]).mean()"
   ]
  },
  {
   "cell_type": "code",
   "execution_count": 22,
   "metadata": {},
   "outputs": [
    {
     "data": {
      "text/plain": [
       "2.3682764425079417"
      ]
     },
     "execution_count": 22,
     "metadata": {},
     "output_type": "execute_result"
    }
   ],
   "source": [
    "abs(res_1[0]-res_1[1]).std()"
   ]
  },
  {
   "cell_type": "code",
   "execution_count": null,
   "metadata": {
    "collapsed": true
   },
   "outputs": [],
   "source": []
  },
  {
   "cell_type": "code",
   "execution_count": null,
   "metadata": {},
   "outputs": [],
   "source": []
  },
  {
   "cell_type": "code",
   "execution_count": null,
   "metadata": {},
   "outputs": [],
   "source": []
  },
  {
   "cell_type": "code",
   "execution_count": null,
   "metadata": {},
   "outputs": [],
   "source": []
  },
  {
   "cell_type": "code",
   "execution_count": null,
   "metadata": {},
   "outputs": [],
   "source": []
  },
  {
   "cell_type": "code",
   "execution_count": null,
   "metadata": {},
   "outputs": [],
   "source": []
  },
  {
   "cell_type": "code",
   "execution_count": null,
   "metadata": {},
   "outputs": [],
   "source": []
  },
  {
   "cell_type": "code",
   "execution_count": null,
   "metadata": {},
   "outputs": [],
   "source": []
  },
  {
   "cell_type": "code",
   "execution_count": null,
   "metadata": {
    "collapsed": true
   },
   "outputs": [],
   "source": []
  }
 ],
 "metadata": {
  "kernelspec": {
   "display_name": "Python 3",
   "language": "python",
   "name": "python3"
  },
  "language_info": {
   "codemirror_mode": {
    "name": "ipython",
    "version": 3
   },
   "file_extension": ".py",
   "mimetype": "text/x-python",
   "name": "python",
   "nbconvert_exporter": "python",
   "pygments_lexer": "ipython3",
   "version": "3.6.8"
  }
 },
 "nbformat": 4,
 "nbformat_minor": 2
}
