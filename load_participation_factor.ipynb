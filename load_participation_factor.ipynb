{
 "cells": [
  {
   "cell_type": "code",
   "execution_count": 1,
   "metadata": {},
   "outputs": [
    {
     "name": "stdout",
     "output_type": "stream",
     "text": [
      "Requirement already satisfied: tqdm in /Users/pornchaichaweewat/anaconda3/lib/python3.6/site-packages\n",
      "\u001b[33mYou are using pip version 9.0.1, however version 19.1.1 is available.\n",
      "You should consider upgrading via the 'pip install --upgrade pip' command.\u001b[0m\n"
     ]
    }
   ],
   "source": [
    "!pip install tqdm"
   ]
  },
  {
   "cell_type": "code",
   "execution_count": 2,
   "metadata": {},
   "outputs": [
    {
     "name": "stdout",
     "output_type": "stream",
     "text": [
      "2.0.1\n"
     ]
    }
   ],
   "source": [
    "import pandapower as pp\n",
    "import pandapower.networks as pn\n",
    "from pandapower.estimation import estimate, remove_bad_data, chi2_analysis\n",
    "import pandas as pd\n",
    "import numpy as np\n",
    "# from tqdm import tqdm\n",
    "\n",
    "from scipy import stats\n",
    "\n",
    "print(pp.__version__)\n",
    "\n"
   ]
  },
  {
   "cell_type": "code",
   "execution_count": 3,
   "metadata": {},
   "outputs": [],
   "source": [
    "def create_measurement_unit(df_measurement, net):\n",
    "    list_value=[]\n",
    "    list_std=[]\n",
    "#     print(net)\n",
    "    for index, row in df_measurement.iterrows():\n",
    "        if row['element_type'] =='bus':\n",
    "            if row['meas_type'] =='v':\n",
    "                mu= net.res_bus.iloc[row['element'],0]\n",
    "                sigma = (abs(mu)*1.03-abs(mu)*0.97)/4\n",
    "            elif row['meas_type'] =='p':\n",
    "                mu= net.res_bus.iloc[row['element'],2]\n",
    "                sigma = (abs(mu)*1.03-abs(mu)*0.97)/4\n",
    "            elif row['meas_type'] =='q':\n",
    "                mu= net.res_bus.iloc[row['element'],3]\n",
    "                sigma = (abs(mu)*1.03-abs(mu)*0.97)/4\n",
    "\n",
    "        elif row['element_type'] =='line':\n",
    "\n",
    "            if row['side']=='from':\n",
    "                if row['meas_type'] =='p':\n",
    "                    mu= net.res_line.iloc[row['element'],0]\n",
    "                    sigma = (abs(mu)*1.05-abs(mu)*0.95)/4\n",
    "                elif row['meas_type'] =='q':\n",
    "                    mu = net.res_line.iloc[row['element'],1]\n",
    "                    sigma = (abs(mu)*1.05-abs(mu)*0.95)/4\n",
    "                elif row['meas_type']=='i':\n",
    "                    mu=net.res_line.iloc[row['element'],6]\n",
    "                    sigma = (abs(mu)*1.05-abs(mu)*0.95)/4\n",
    "            elif row['side']=='to':\n",
    "                pass\n",
    "\n",
    "        elif row['element_type'] =='trafo':\n",
    "            'create trafo measurement'\n",
    "            if row['side']=='from':\n",
    "                pass\n",
    "            elif row['side']=='to':\n",
    "                if row['meas_type'] =='v':\n",
    "                    mu =net.res_trafo.iloc[row['element'],10]\n",
    "                    sigma = (abs(mu)*1.05-abs(mu)*0.95)/4\n",
    "        #                 print(mu)\n",
    "                elif row['meas_type'] =='p':\n",
    "                    mu =net.res_trafo.iloc[row['element'],2]\n",
    "                    sigma = (abs(mu)*1.05-abs(mu)*0.95)/4\n",
    "                elif row['meas_type'] =='q':\n",
    "                    mu =net.res_trafo.iloc[row['element'],3]\n",
    "        #                 print(mu)\n",
    "                    sigma = (abs(mu)*1.05-abs(mu)*0.95)/4\n",
    "        #     print('Mean:',mu, 'standard deviation:', sigma)\n",
    "        value = np.random.normal(mu, sigma, 1)\n",
    "        #     print('Random value:', value[0])\n",
    "        list_value.append(value[0])\n",
    "        list_std.append(sigma)\n",
    "#     print(list_value)\n",
    "    df_measurement['value']=list_value\n",
    "    df_measurement['std_dev']=list_std\n",
    "\n",
    "    for index, row in df_measurement.iterrows():\n",
    "        if row['element_type']=='bus':\n",
    "#             print('create bus measurement')\n",
    "            pp.create_measurement(net, row['meas_type'], row['element_type'], value=row['value'], \n",
    "                                  std_dev=row['std_dev'], element=row['element'])\n",
    "\n",
    "        elif row['element_type']=='line':\n",
    "#             print('create line measurement')\n",
    "            pp.create_measurement(net, row['meas_type'], row['element_type'], value=row['value'], \n",
    "                                  std_dev=row['std_dev'], element=row['element'], side=row['side'])\n",
    "\n",
    "        elif row['element_type']=='trafo':\n",
    "#             print('create trafo measurement')\n",
    "            if row['meas_type'] in ['p','q']:\n",
    "                pp.create_measurement(net, row['meas_type'], row['element_type'], value=row['value'], \n",
    "                                      std_dev=row['std_dev'], element=row['element'], side=row['side'])\n",
    "    return df_measurement, net"
   ]
  },
  {
   "cell_type": "markdown",
   "metadata": {},
   "source": [
    "# NO solar PV"
   ]
  },
  {
   "cell_type": "code",
   "execution_count": 73,
   "metadata": {},
   "outputs": [],
   "source": [
    "net1 = pn.simple_four_bus_system()\n",
    "net1.sgen['p_mw']=[0,0]\n",
    "net1.sgen['q_mvar']=[0,0]\n",
    "net1.sgen['sn_mva']=[0,0]\n",
    "pp.runpp(net1)"
   ]
  },
  {
   "cell_type": "code",
   "execution_count": 74,
   "metadata": {},
   "outputs": [],
   "source": [
    "df_measurement=pd.DataFrame()\n",
    "df_measurement['meas_type']=['v','v','v','v','p','p','q','q','i','i']\n",
    "df_measurement['element_type']=['bus','bus','bus','bus','line','line','line','line','line','line']\n",
    "df_measurement['element']=[0,1,2,3,0,1,0,1,0,1]\n",
    "df_measurement['side']=['None','None','None','None','from','from','from','from','from','from']\n",
    "df_measurement, net1 = create_measurement_unit(df_measurement, net1)\n",
    "success = estimate(net1, init=\"flat\", calculate_voltage_angles=True, zero_injection=[1])\n",
    "V_est, delta_est = net1.res_bus_est.vm_pu, net1.res_bus_est.va_degree"
   ]
  },
  {
   "cell_type": "code",
   "execution_count": 75,
   "metadata": {},
   "outputs": [],
   "source": [
    "list_slack_bus=[0]\n",
    "list_zero_inject_bus=[1]\n",
    "list_known_generation_bus=[0]\n",
    "participation_bus=list(set(list(net1.bus.index))-set(list_slack_bus+list_zero_inject_bus))"
   ]
  },
  {
   "cell_type": "code",
   "execution_count": 76,
   "metadata": {},
   "outputs": [
    {
     "name": "stdout",
     "output_type": "stream",
     "text": [
      "loss is: 10.569592562200846 %\n"
     ]
    }
   ],
   "source": [
    "df_LPF=pd.DataFrame()\n",
    "df_LPF['name']=net1.bus['name'].copy()\n",
    "df_LPF['name']=net1.bus['name'].copy()\n",
    "known_generation=-net1.res_bus_est.iloc[list_slack_bus[0],2]\n",
    "\n",
    "allocate_p_MW=[]\n",
    "allocate_q_MVAR=[]\n",
    "for index, row in df_LPF.iterrows():\n",
    "    if index in list_known_generation_bus+list_zero_inject_bus:\n",
    "        allocate_p_MW.append(0)\n",
    "        allocate_q_MVAR.append(0)\n",
    "    else:\n",
    "        allocate_p_MW.append(net1.res_bus_est.iloc[index,2])\n",
    "        allocate_q_MVAR.append(net1.res_bus_est.iloc[index,3])\n",
    "df_LPF['allocate_p_MW']=allocate_p_MW\n",
    "df_LPF['allocate_1_MVAR']=allocate_q_MVAR\n",
    "\n",
    "          \n",
    "df_LPF['LPF']=net1.res_bus_est['p_mw']/known_generation\n",
    "\n",
    "loss=sum(df_LPF.iloc[list_known_generation_bus,:]['LPF'])+sum(df_LPF.iloc[participation_bus,:]['LPF'])\n",
    "\n",
    "print('loss is:', loss*100, '%')\n",
    "line_loss=sum(net1.res_line_est['pl_mw'])\n",
    "line_loss_participation=line_loss/known_generation"
   ]
  },
  {
   "cell_type": "code",
   "execution_count": 77,
   "metadata": {},
   "outputs": [
    {
     "data": {
      "text/plain": [
       "This pandapower network includes the following parameter tables:\n",
       "   - bus (4 elements)\n",
       "   - load (2 elements)\n",
       "   - sgen (2 elements)\n",
       "   - ext_grid (1 element)\n",
       "   - line (2 elements)\n",
       "   - trafo (1 element)\n",
       "   - measurement (10 elements)\n",
       "   - bus_geodata (4 elements)\n",
       " and the following results tables:\n",
       "   - res_bus (4 elements)\n",
       "   - res_line (2 elements)\n",
       "   - res_trafo (1 element)\n",
       "   - res_ext_grid (1 element)\n",
       "   - res_load (2 elements)\n",
       "   - res_sgen (2 elements)\n",
       "   - res_bus_power_flow (4 elements)\n",
       "   - res_ext_grid_power_flow (1 element)\n",
       "   - res_line_power_flow (2 elements)\n",
       "   - res_load_power_flow (2 elements)\n",
       "   - res_sgen_power_flow (2 elements)\n",
       "   - res_trafo_power_flow (1 element)\n",
       "   - res_bus_est (4 elements)\n",
       "   - res_line_est (2 elements)\n",
       "   - res_trafo_est (1 element)"
      ]
     },
     "execution_count": 77,
     "metadata": {},
     "output_type": "execute_result"
    }
   ],
   "source": [
    "net1"
   ]
  },
  {
   "cell_type": "code",
   "execution_count": 78,
   "metadata": {},
   "outputs": [
    {
     "data": {
      "text/html": [
       "<div>\n",
       "<style scoped>\n",
       "    .dataframe tbody tr th:only-of-type {\n",
       "        vertical-align: middle;\n",
       "    }\n",
       "\n",
       "    .dataframe tbody tr th {\n",
       "        vertical-align: top;\n",
       "    }\n",
       "\n",
       "    .dataframe thead th {\n",
       "        text-align: right;\n",
       "    }\n",
       "</style>\n",
       "<table border=\"1\" class=\"dataframe\">\n",
       "  <thead>\n",
       "    <tr style=\"text-align: right;\">\n",
       "      <th></th>\n",
       "      <th>p_from_mw</th>\n",
       "      <th>q_from_mvar</th>\n",
       "      <th>p_to_mw</th>\n",
       "      <th>q_to_mvar</th>\n",
       "      <th>pl_mw</th>\n",
       "      <th>ql_mvar</th>\n",
       "      <th>i_from_ka</th>\n",
       "      <th>i_to_ka</th>\n",
       "      <th>i_ka</th>\n",
       "      <th>vm_from_pu</th>\n",
       "      <th>va_from_degree</th>\n",
       "      <th>vm_to_pu</th>\n",
       "      <th>va_to_degree</th>\n",
       "      <th>loading_percent</th>\n",
       "    </tr>\n",
       "  </thead>\n",
       "  <tbody>\n",
       "    <tr>\n",
       "      <th>0</th>\n",
       "      <td>0.078473</td>\n",
       "      <td>0.021935</td>\n",
       "      <td>-0.065420</td>\n",
       "      <td>-0.020252</td>\n",
       "      <td>0.013053</td>\n",
       "      <td>0.001683</td>\n",
       "      <td>0.116424</td>\n",
       "      <td>0.116426</td>\n",
       "      <td>0.116426</td>\n",
       "      <td>1.010171</td>\n",
       "      <td>-150.611715</td>\n",
       "      <td>0.849008</td>\n",
       "      <td>-149.030927</td>\n",
       "      <td>81.990442</td>\n",
       "    </tr>\n",
       "    <tr>\n",
       "      <th>1</th>\n",
       "      <td>0.033864</td>\n",
       "      <td>0.010297</td>\n",
       "      <td>-0.030377</td>\n",
       "      <td>-0.009850</td>\n",
       "      <td>0.003487</td>\n",
       "      <td>0.000447</td>\n",
       "      <td>0.060174</td>\n",
       "      <td>0.060176</td>\n",
       "      <td>0.060176</td>\n",
       "      <td>0.849008</td>\n",
       "      <td>-149.030927</td>\n",
       "      <td>0.765967</td>\n",
       "      <td>-147.984220</td>\n",
       "      <td>42.377638</td>\n",
       "    </tr>\n",
       "  </tbody>\n",
       "</table>\n",
       "</div>"
      ],
      "text/plain": [
       "   p_from_mw  q_from_mvar   p_to_mw  q_to_mvar     pl_mw   ql_mvar  i_from_ka  \\\n",
       "0   0.078473     0.021935 -0.065420  -0.020252  0.013053  0.001683   0.116424   \n",
       "1   0.033864     0.010297 -0.030377  -0.009850  0.003487  0.000447   0.060174   \n",
       "\n",
       "    i_to_ka      i_ka  vm_from_pu  va_from_degree  vm_to_pu  va_to_degree  \\\n",
       "0  0.116426  0.116426    1.010171     -150.611715  0.849008   -149.030927   \n",
       "1  0.060176  0.060176    0.849008     -149.030927  0.765967   -147.984220   \n",
       "\n",
       "   loading_percent  \n",
       "0        81.990442  \n",
       "1        42.377638  "
      ]
     },
     "execution_count": 78,
     "metadata": {},
     "output_type": "execute_result"
    }
   ],
   "source": [
    "net1.res_line_est"
   ]
  },
  {
   "cell_type": "code",
   "execution_count": null,
   "metadata": {},
   "outputs": [],
   "source": []
  },
  {
   "cell_type": "code",
   "execution_count": 80,
   "metadata": {},
   "outputs": [
    {
     "data": {
      "text/html": [
       "<div>\n",
       "<style scoped>\n",
       "    .dataframe tbody tr th:only-of-type {\n",
       "        vertical-align: middle;\n",
       "    }\n",
       "\n",
       "    .dataframe tbody tr th {\n",
       "        vertical-align: top;\n",
       "    }\n",
       "\n",
       "    .dataframe thead th {\n",
       "        text-align: right;\n",
       "    }\n",
       "</style>\n",
       "<table border=\"1\" class=\"dataframe\">\n",
       "  <thead>\n",
       "    <tr style=\"text-align: right;\">\n",
       "      <th></th>\n",
       "      <th>vm_pu</th>\n",
       "      <th>va_degree</th>\n",
       "      <th>p_mw</th>\n",
       "      <th>q_mvar</th>\n",
       "    </tr>\n",
       "  </thead>\n",
       "  <tbody>\n",
       "    <tr>\n",
       "      <th>0</th>\n",
       "      <td>1.005372</td>\n",
       "      <td>0.000000</td>\n",
       "      <td>-0.056013</td>\n",
       "      <td>0.048746</td>\n",
       "    </tr>\n",
       "    <tr>\n",
       "      <th>1</th>\n",
       "      <td>1.010171</td>\n",
       "      <td>-150.611715</td>\n",
       "      <td>-0.023330</td>\n",
       "      <td>-0.071509</td>\n",
       "    </tr>\n",
       "    <tr>\n",
       "      <th>2</th>\n",
       "      <td>0.849008</td>\n",
       "      <td>-149.030927</td>\n",
       "      <td>0.031556</td>\n",
       "      <td>0.009955</td>\n",
       "    </tr>\n",
       "    <tr>\n",
       "      <th>3</th>\n",
       "      <td>0.765967</td>\n",
       "      <td>-147.984220</td>\n",
       "      <td>0.030377</td>\n",
       "      <td>0.009850</td>\n",
       "    </tr>\n",
       "  </tbody>\n",
       "</table>\n",
       "</div>"
      ],
      "text/plain": [
       "      vm_pu   va_degree      p_mw    q_mvar\n",
       "0  1.005372    0.000000 -0.056013  0.048746\n",
       "1  1.010171 -150.611715 -0.023330 -0.071509\n",
       "2  0.849008 -149.030927  0.031556  0.009955\n",
       "3  0.765967 -147.984220  0.030377  0.009850"
      ]
     },
     "execution_count": 80,
     "metadata": {},
     "output_type": "execute_result"
    }
   ],
   "source": [
    "net1.res_bus_est"
   ]
  },
  {
   "cell_type": "code",
   "execution_count": 81,
   "metadata": {},
   "outputs": [
    {
     "data": {
      "text/plain": [
       "0.016540452159173366"
      ]
     },
     "execution_count": 81,
     "metadata": {},
     "output_type": "execute_result"
    }
   ],
   "source": [
    "line_loss"
   ]
  },
  {
   "cell_type": "code",
   "execution_count": 82,
   "metadata": {},
   "outputs": [
    {
     "data": {
      "text/plain": [
       "0.29529826360477"
      ]
     },
     "execution_count": 82,
     "metadata": {},
     "output_type": "execute_result"
    }
   ],
   "source": [
    "line_loss_participation"
   ]
  },
  {
   "cell_type": "code",
   "execution_count": 83,
   "metadata": {},
   "outputs": [
    {
     "data": {
      "text/html": [
       "<div>\n",
       "<style scoped>\n",
       "    .dataframe tbody tr th:only-of-type {\n",
       "        vertical-align: middle;\n",
       "    }\n",
       "\n",
       "    .dataframe tbody tr th {\n",
       "        vertical-align: top;\n",
       "    }\n",
       "\n",
       "    .dataframe thead th {\n",
       "        text-align: right;\n",
       "    }\n",
       "</style>\n",
       "<table border=\"1\" class=\"dataframe\">\n",
       "  <thead>\n",
       "    <tr style=\"text-align: right;\">\n",
       "      <th></th>\n",
       "      <th>name</th>\n",
       "      <th>allocate_p_MW</th>\n",
       "      <th>allocate_1_MVAR</th>\n",
       "      <th>LPF</th>\n",
       "    </tr>\n",
       "  </thead>\n",
       "  <tbody>\n",
       "    <tr>\n",
       "      <th>0</th>\n",
       "      <td>bus1ref</td>\n",
       "      <td>0.000000</td>\n",
       "      <td>0.000000</td>\n",
       "      <td>-1.000000</td>\n",
       "    </tr>\n",
       "    <tr>\n",
       "      <th>1</th>\n",
       "      <td>bus2</td>\n",
       "      <td>0.000000</td>\n",
       "      <td>0.000000</td>\n",
       "      <td>-0.416519</td>\n",
       "    </tr>\n",
       "    <tr>\n",
       "      <th>2</th>\n",
       "      <td>bus3</td>\n",
       "      <td>0.031556</td>\n",
       "      <td>0.009955</td>\n",
       "      <td>0.563371</td>\n",
       "    </tr>\n",
       "    <tr>\n",
       "      <th>3</th>\n",
       "      <td>bus4</td>\n",
       "      <td>0.030377</td>\n",
       "      <td>0.009850</td>\n",
       "      <td>0.542325</td>\n",
       "    </tr>\n",
       "  </tbody>\n",
       "</table>\n",
       "</div>"
      ],
      "text/plain": [
       "      name  allocate_p_MW  allocate_1_MVAR       LPF\n",
       "0  bus1ref       0.000000         0.000000 -1.000000\n",
       "1     bus2       0.000000         0.000000 -0.416519\n",
       "2     bus3       0.031556         0.009955  0.563371\n",
       "3     bus4       0.030377         0.009850  0.542325"
      ]
     },
     "execution_count": 83,
     "metadata": {},
     "output_type": "execute_result"
    }
   ],
   "source": [
    "df_LPF"
   ]
  },
  {
   "cell_type": "code",
   "execution_count": 171,
   "metadata": {
    "scrolled": true
   },
   "outputs": [],
   "source": [
    "list_LPF_zero_injection_bus=[]\n",
    "for round in range(0,100):\n",
    "# for round in tqdm(range(0,100)):\n",
    "#     print(round)\n",
    "    net1 = pn.simple_four_bus_system()\n",
    "    net1.sgen['p_mw']=[0,0]\n",
    "    net1.sgen['q_mvar']=[0,0]\n",
    "    net1.sgen['sn_mva']=[0,0]\n",
    "    pp.runpp(net1)\n",
    "    df_measurement=pd.DataFrame()\n",
    "    df_measurement['meas_type']=['v','v','v','v','p','p','q','q','i','i']\n",
    "    df_measurement['element_type']=['bus','bus','bus','bus','line','line','line','line','line','line']\n",
    "    df_measurement['element']=[0,1,2,3,0,1,0,1,0,1]\n",
    "    df_measurement['side']=['None','None','None','None','from','from','from','from','from','from']\n",
    "    df_measurement, net1 = create_measurement_unit(df_measurement, net1)\n",
    "    success = estimate(net1, init=\"flat\", calculate_voltage_angles=True, zero_injection=[1])\n",
    "#     V_est, delta_est = net1.res_bus_est.vm_pu, net1.res_bus_est.va_degree\n",
    "    list_slack_bus=[0]\n",
    "    list_zero_inject_bus=[1]\n",
    "    list_known_generation_bus=[0]\n",
    "    participation_bus=list(set(list(net1.bus.index))-set(list_slack_bus+list_zero_inject_bus))\n",
    "    df_LPF=pd.DataFrame()\n",
    "    df_LPF['name']=net1.bus['name'].copy()\n",
    "    known_generation=-net1.res_bus_est.iloc[list_slack_bus[0],2]\n",
    "\n",
    "    allocate_p_MW=[]\n",
    "    allocate_q_MVAR=[]\n",
    "    for index, row in df_LPF.iterrows():\n",
    "        if index in list_known_generation_bus+list_zero_inject_bus:\n",
    "            allocate_p_MW.append(0)\n",
    "            allocate_q_MVAR.append(0)\n",
    "        else:\n",
    "            allocate_p_MW.append(net1.res_bus_est.iloc[index,2])\n",
    "            allocate_q_MVAR.append(net1.res_bus_est.iloc[index,3])\n",
    "    df_LPF['allocate_p_MW']=allocate_p_MW\n",
    "    df_LPF['allocate_1_MVAR']=allocate_q_MVAR\n",
    "\n",
    "\n",
    "    df_LPF['LPF']=net1.res_bus_est['p_mw']/known_generation\n",
    "\n",
    "    loss=sum(df_LPF.iloc[list_known_generation_bus,:]['LPF'])+sum(df_LPF.iloc[participation_bus,:]['LPF'])\n",
    "\n",
    "#     print('loss is:', loss*100, '%')\n",
    "    list_LPF_zero_injection_bus.append(df_LPF.LPF[1])"
   ]
  },
  {
   "cell_type": "code",
   "execution_count": 172,
   "metadata": {},
   "outputs": [
    {
     "data": {
      "text/plain": [
       "-0.09138461488661316"
      ]
     },
     "execution_count": 172,
     "metadata": {},
     "output_type": "execute_result"
    }
   ],
   "source": [
    "stats.trim_mean(np.array(list_LPF_zero_injection_bus), 0.1)"
   ]
  },
  {
   "cell_type": "code",
   "execution_count": 173,
   "metadata": {},
   "outputs": [
    {
     "data": {
      "text/plain": [
       "0.34064070238724187"
      ]
     },
     "execution_count": 173,
     "metadata": {},
     "output_type": "execute_result"
    }
   ],
   "source": [
    "np.array(list_LPF_zero_injection_bus).mean()"
   ]
  },
  {
   "cell_type": "code",
   "execution_count": null,
   "metadata": {},
   "outputs": [],
   "source": []
  },
  {
   "cell_type": "code",
   "execution_count": null,
   "metadata": {},
   "outputs": [],
   "source": []
  },
  {
   "cell_type": "code",
   "execution_count": null,
   "metadata": {},
   "outputs": [],
   "source": []
  },
  {
   "cell_type": "markdown",
   "metadata": {},
   "source": [
    "# integration solar PV"
   ]
  },
  {
   "cell_type": "code",
   "execution_count": 66,
   "metadata": {},
   "outputs": [],
   "source": [
    "net2 = pn.simple_four_bus_system()\n",
    "pp.runpp(net2)\n",
    "V, delta=net2.res_bus.vm_pu, net2.res_bus.va_degree\n",
    "# print(net)"
   ]
  },
  {
   "cell_type": "code",
   "execution_count": 67,
   "metadata": {},
   "outputs": [],
   "source": [
    "df_measurement=pd.DataFrame()\n",
    "df_measurement=pd.DataFrame()\n",
    "df_measurement['meas_type']=['v','v','v','v','p','p','q','q','i','i']\n",
    "df_measurement['element_type']=['bus','bus','bus','bus','line','line','line','line','line','line']\n",
    "df_measurement['element']=[0,1,2,3,0,1,0,1,0,1]\n",
    "df_measurement['side']=['None','None','None','None','from','from','from','from','from','from']\n",
    "\n",
    "#where bus measurement has 3%error\n",
    "#where line measurement has 5%error\n",
    "#where trafo measurement has 5%error\n",
    "\n",
    "df_measurement, net2 = create_measurement_unit(df_measurement, net2)\n",
    "\n",
    "success = estimate(net2, init=\"flat\", calculate_voltage_angles=True, zero_injection=[1])\n",
    "V_est, delta_est = net2.res_bus_est.vm_pu, net2.res_bus_est.va_degree\n"
   ]
  },
  {
   "cell_type": "code",
   "execution_count": 68,
   "metadata": {},
   "outputs": [],
   "source": [
    "list_slack_bus=[0]\n",
    "list_zero_inject_bus=[1]\n",
    "list_known_generation_bus=list(set(list_slack_bus))\n",
    "participation_bus=list(set(list(net2.bus.index))-set(list_known_generation_bus+ list_zero_inject_bus))"
   ]
  },
  {
   "cell_type": "code",
   "execution_count": 69,
   "metadata": {},
   "outputs": [
    {
     "name": "stdout",
     "output_type": "stream",
     "text": [
      "loss is: -342.5323174233025 %\n"
     ]
    }
   ],
   "source": [
    "df_LPF=pd.DataFrame()\n",
    "df_LPF['name']=net2.bus['name'].copy()\n",
    "df_LPF['name']=net2.bus['name'].copy()\n",
    "known_generation=-net2.res_bus_est.iloc[list_slack_bus[0],2]\n",
    "\n",
    "allocate_p_MW=[]\n",
    "allocate_q_MVAR=[]\n",
    "for index, row in df_LPF.iterrows():\n",
    "    if index in list_known_generation_bus+list_zero_inject_bus:\n",
    "        allocate_p_MW.append(0)\n",
    "        allocate_q_MVAR.append(0)\n",
    "    else:\n",
    "        allocate_p_MW.append(net2.res_bus_est.iloc[index,2])\n",
    "        allocate_q_MVAR.append(net2.res_bus_est.iloc[index,3])\n",
    "df_LPF['allocate_p_MW']=allocate_p_MW\n",
    "df_LPF['allocate_1_MVAR']=allocate_q_MVAR\n",
    "\n",
    "          \n",
    "df_LPF['LPF']=net2.res_bus_est['p_mw']/known_generation\n",
    "\n",
    "loss=sum(df_LPF.iloc[list_known_generation_bus,:]['LPF'])+sum(df_LPF.iloc[participation_bus,:]['LPF'])\n",
    "\n",
    "print('loss is:', loss*100, '%')\n",
    "line_loss=sum(net2.res_line_est['pl_mw'])\n",
    "line_loss_participation=line_loss/known_generation"
   ]
  },
  {
   "cell_type": "code",
   "execution_count": 70,
   "metadata": {},
   "outputs": [
    {
     "data": {
      "text/html": [
       "<div>\n",
       "<style scoped>\n",
       "    .dataframe tbody tr th:only-of-type {\n",
       "        vertical-align: middle;\n",
       "    }\n",
       "\n",
       "    .dataframe tbody tr th {\n",
       "        vertical-align: top;\n",
       "    }\n",
       "\n",
       "    .dataframe thead th {\n",
       "        text-align: right;\n",
       "    }\n",
       "</style>\n",
       "<table border=\"1\" class=\"dataframe\">\n",
       "  <thead>\n",
       "    <tr style=\"text-align: right;\">\n",
       "      <th></th>\n",
       "      <th>name</th>\n",
       "      <th>allocate_p_MW</th>\n",
       "      <th>allocate_1_MVAR</th>\n",
       "      <th>LPF</th>\n",
       "    </tr>\n",
       "  </thead>\n",
       "  <tbody>\n",
       "    <tr>\n",
       "      <th>0</th>\n",
       "      <td>bus1ref</td>\n",
       "      <td>0.000000</td>\n",
       "      <td>0.000000</td>\n",
       "      <td>-1.000000</td>\n",
       "    </tr>\n",
       "    <tr>\n",
       "      <th>1</th>\n",
       "      <td>bus2</td>\n",
       "      <td>0.000000</td>\n",
       "      <td>0.000000</td>\n",
       "      <td>3.787364</td>\n",
       "    </tr>\n",
       "    <tr>\n",
       "      <th>2</th>\n",
       "      <td>bus3</td>\n",
       "      <td>0.011675</td>\n",
       "      <td>0.005126</td>\n",
       "      <td>-1.066840</td>\n",
       "    </tr>\n",
       "    <tr>\n",
       "      <th>3</th>\n",
       "      <td>bus4</td>\n",
       "      <td>0.014867</td>\n",
       "      <td>0.008017</td>\n",
       "      <td>-1.358483</td>\n",
       "    </tr>\n",
       "  </tbody>\n",
       "</table>\n",
       "</div>"
      ],
      "text/plain": [
       "      name  allocate_p_MW  allocate_1_MVAR       LPF\n",
       "0  bus1ref       0.000000         0.000000 -1.000000\n",
       "1     bus2       0.000000         0.000000  3.787364\n",
       "2     bus3       0.011675         0.005126 -1.066840\n",
       "3     bus4       0.014867         0.008017 -1.358483"
      ]
     },
     "execution_count": 70,
     "metadata": {},
     "output_type": "execute_result"
    }
   ],
   "source": [
    "df_LPF"
   ]
  },
  {
   "cell_type": "code",
   "execution_count": 71,
   "metadata": {},
   "outputs": [
    {
     "data": {
      "text/html": [
       "<div>\n",
       "<style scoped>\n",
       "    .dataframe tbody tr th:only-of-type {\n",
       "        vertical-align: middle;\n",
       "    }\n",
       "\n",
       "    .dataframe tbody tr th {\n",
       "        vertical-align: top;\n",
       "    }\n",
       "\n",
       "    .dataframe thead th {\n",
       "        text-align: right;\n",
       "    }\n",
       "</style>\n",
       "<table border=\"1\" class=\"dataframe\">\n",
       "  <thead>\n",
       "    <tr style=\"text-align: right;\">\n",
       "      <th></th>\n",
       "      <th>p_from_mw</th>\n",
       "      <th>q_from_mvar</th>\n",
       "      <th>p_to_mw</th>\n",
       "      <th>q_to_mvar</th>\n",
       "      <th>pl_mw</th>\n",
       "      <th>ql_mvar</th>\n",
       "      <th>i_from_ka</th>\n",
       "      <th>i_to_ka</th>\n",
       "      <th>i_ka</th>\n",
       "      <th>vm_from_pu</th>\n",
       "      <th>va_from_degree</th>\n",
       "      <th>vm_to_pu</th>\n",
       "      <th>va_to_degree</th>\n",
       "      <th>loading_percent</th>\n",
       "    </tr>\n",
       "  </thead>\n",
       "  <tbody>\n",
       "    <tr>\n",
       "      <th>0</th>\n",
       "      <td>0.029256</td>\n",
       "      <td>0.013485</td>\n",
       "      <td>-0.027224</td>\n",
       "      <td>-0.013227</td>\n",
       "      <td>0.002033</td>\n",
       "      <td>0.000258</td>\n",
       "      <td>0.045940</td>\n",
       "      <td>0.045943</td>\n",
       "      <td>0.045943</td>\n",
       "      <td>1.012140</td>\n",
       "      <td>-150.215436</td>\n",
       "      <td>0.950887</td>\n",
       "      <td>-149.056207</td>\n",
       "      <td>32.354131</td>\n",
       "    </tr>\n",
       "    <tr>\n",
       "      <th>1</th>\n",
       "      <td>0.015549</td>\n",
       "      <td>0.008101</td>\n",
       "      <td>-0.014867</td>\n",
       "      <td>-0.008017</td>\n",
       "      <td>0.000682</td>\n",
       "      <td>0.000084</td>\n",
       "      <td>0.026613</td>\n",
       "      <td>0.026616</td>\n",
       "      <td>0.026616</td>\n",
       "      <td>0.950887</td>\n",
       "      <td>-149.056207</td>\n",
       "      <td>0.915961</td>\n",
       "      <td>-148.252009</td>\n",
       "      <td>18.743916</td>\n",
       "    </tr>\n",
       "  </tbody>\n",
       "</table>\n",
       "</div>"
      ],
      "text/plain": [
       "   p_from_mw  q_from_mvar   p_to_mw  q_to_mvar     pl_mw   ql_mvar  i_from_ka  \\\n",
       "0   0.029256     0.013485 -0.027224  -0.013227  0.002033  0.000258   0.045940   \n",
       "1   0.015549     0.008101 -0.014867  -0.008017  0.000682  0.000084   0.026613   \n",
       "\n",
       "    i_to_ka      i_ka  vm_from_pu  va_from_degree  vm_to_pu  va_to_degree  \\\n",
       "0  0.045943  0.045943    1.012140     -150.215436  0.950887   -149.056207   \n",
       "1  0.026616  0.026616    0.950887     -149.056207  0.915961   -148.252009   \n",
       "\n",
       "   loading_percent  \n",
       "0        32.354131  \n",
       "1        18.743916  "
      ]
     },
     "execution_count": 71,
     "metadata": {},
     "output_type": "execute_result"
    }
   ],
   "source": [
    "net2.res_line_est"
   ]
  },
  {
   "cell_type": "code",
   "execution_count": 72,
   "metadata": {},
   "outputs": [
    {
     "data": {
      "text/html": [
       "<div>\n",
       "<style scoped>\n",
       "    .dataframe tbody tr th:only-of-type {\n",
       "        vertical-align: middle;\n",
       "    }\n",
       "\n",
       "    .dataframe tbody tr th {\n",
       "        vertical-align: top;\n",
       "    }\n",
       "\n",
       "    .dataframe thead th {\n",
       "        text-align: right;\n",
       "    }\n",
       "</style>\n",
       "<table border=\"1\" class=\"dataframe\">\n",
       "  <thead>\n",
       "    <tr style=\"text-align: right;\">\n",
       "      <th></th>\n",
       "      <th>vm_pu</th>\n",
       "      <th>va_degree</th>\n",
       "      <th>p_mw</th>\n",
       "      <th>q_mvar</th>\n",
       "    </tr>\n",
       "  </thead>\n",
       "  <tbody>\n",
       "    <tr>\n",
       "      <th>0</th>\n",
       "      <td>0.994000</td>\n",
       "      <td>0.000000</td>\n",
       "      <td>0.010944</td>\n",
       "      <td>0.114551</td>\n",
       "    </tr>\n",
       "    <tr>\n",
       "      <th>1</th>\n",
       "      <td>1.012140</td>\n",
       "      <td>-150.215436</td>\n",
       "      <td>-0.041447</td>\n",
       "      <td>-0.130082</td>\n",
       "    </tr>\n",
       "    <tr>\n",
       "      <th>2</th>\n",
       "      <td>0.950887</td>\n",
       "      <td>-149.056207</td>\n",
       "      <td>0.011675</td>\n",
       "      <td>0.005126</td>\n",
       "    </tr>\n",
       "    <tr>\n",
       "      <th>3</th>\n",
       "      <td>0.915961</td>\n",
       "      <td>-148.252009</td>\n",
       "      <td>0.014867</td>\n",
       "      <td>0.008017</td>\n",
       "    </tr>\n",
       "  </tbody>\n",
       "</table>\n",
       "</div>"
      ],
      "text/plain": [
       "      vm_pu   va_degree      p_mw    q_mvar\n",
       "0  0.994000    0.000000  0.010944  0.114551\n",
       "1  1.012140 -150.215436 -0.041447 -0.130082\n",
       "2  0.950887 -149.056207  0.011675  0.005126\n",
       "3  0.915961 -148.252009  0.014867  0.008017"
      ]
     },
     "execution_count": 72,
     "metadata": {},
     "output_type": "execute_result"
    }
   ],
   "source": [
    "net2.res_bus_est"
   ]
  },
  {
   "cell_type": "code",
   "execution_count": 52,
   "metadata": {},
   "outputs": [
    {
     "data": {
      "text/plain": [
       "0.0992062083797662"
      ]
     },
     "execution_count": 52,
     "metadata": {},
     "output_type": "execute_result"
    }
   ],
   "source": [
    "line_loss_participation"
   ]
  },
  {
   "cell_type": "code",
   "execution_count": null,
   "metadata": {},
   "outputs": [],
   "source": []
  },
  {
   "cell_type": "code",
   "execution_count": 174,
   "metadata": {},
   "outputs": [],
   "source": [
    "list_LPF_zero_injection_bus=[]\n",
    "for round in range(0,100):\n",
    "# for round in tqdm(range(0,100)):\n",
    "#     print(round)\n",
    "    net2 = pn.simple_four_bus_system()\n",
    "    pp.runpp(net2)\n",
    "    V, delta=net2.res_bus.vm_pu, net2.res_bus.va_degree\n",
    "    # print(net)\n",
    "    df_measurement=pd.DataFrame()\n",
    "    df_measurement=pd.DataFrame()\n",
    "    df_measurement['meas_type']=['v','v','v','v','p','p','q','q','i','i']\n",
    "    df_measurement['element_type']=['bus','bus','bus','bus','line','line','line','line','line','line']\n",
    "    df_measurement['element']=[0,1,2,3,0,1,0,1,0,1]\n",
    "    df_measurement['side']=['None','None','None','None','from','from','from','from','from','from']\n",
    "\n",
    "    #where bus measurement has 3%error\n",
    "    #where line measurement has 5%error\n",
    "    #where trafo measurement has 5%error\n",
    "\n",
    "    df_measurement, net2 = create_measurement_unit(df_measurement, net2)\n",
    "\n",
    "    success = estimate(net2, init=\"flat\", calculate_voltage_angles=True, zero_injection=[1])\n",
    "    V_est, delta_est = net2.res_bus_est.vm_pu, net2.res_bus_est.va_degree\n",
    "\n",
    "    list_slack_bus=[0]\n",
    "    list_zero_inject_bus=[1]\n",
    "    list_known_generation_bus=list(set(list_slack_bus))\n",
    "    participation_bus=list(set(list(net2.bus.index))-set(list_known_generation_bus+ list_zero_inject_bus))\n",
    "    df_LPF=pd.DataFrame()\n",
    "    df_LPF['name']=net2.bus['name'].copy()\n",
    "    known_generation=-net2.res_bus_est.iloc[list_slack_bus[0],2]\n",
    "\n",
    "    allocate_p_MW=[]\n",
    "    allocate_q_MVAR=[]\n",
    "    for index, row in df_LPF.iterrows():\n",
    "        if index in list_known_generation_bus+list_zero_inject_bus:\n",
    "            allocate_p_MW.append(0)\n",
    "            allocate_q_MVAR.append(0)\n",
    "        else:\n",
    "            allocate_p_MW.append(net2.res_bus_est.iloc[index,2])\n",
    "            allocate_q_MVAR.append(net2.res_bus_est.iloc[index,3])\n",
    "    df_LPF['allocate_p_MW']=allocate_p_MW\n",
    "    df_LPF['allocate_q_MVAR']=allocate_q_MVAR\n",
    "\n",
    "\n",
    "    df_LPF['LPF']=net2.res_bus_est['p_mw']/known_generation\n",
    "\n",
    "    loss=sum(df_LPF.iloc[list_known_generation_bus,:]['LPF'])+sum(df_LPF.iloc[participation_bus,:]['LPF'])\n",
    "\n",
    "    # print('loss is:', loss*100, '%')\n",
    "    list_LPF_zero_injection_bus.append(df_LPF.LPF[1])"
   ]
  },
  {
   "cell_type": "code",
   "execution_count": 175,
   "metadata": {},
   "outputs": [
    {
     "data": {
      "text/plain": [
       "0.23873394210645643"
      ]
     },
     "execution_count": 175,
     "metadata": {},
     "output_type": "execute_result"
    }
   ],
   "source": [
    "stats.trim_mean(np.array(list_LPF_zero_injection_bus), 0.1)"
   ]
  },
  {
   "cell_type": "code",
   "execution_count": 176,
   "metadata": {},
   "outputs": [
    {
     "data": {
      "text/html": [
       "<div>\n",
       "<style scoped>\n",
       "    .dataframe tbody tr th:only-of-type {\n",
       "        vertical-align: middle;\n",
       "    }\n",
       "\n",
       "    .dataframe tbody tr th {\n",
       "        vertical-align: top;\n",
       "    }\n",
       "\n",
       "    .dataframe thead th {\n",
       "        text-align: right;\n",
       "    }\n",
       "</style>\n",
       "<table border=\"1\" class=\"dataframe\">\n",
       "  <thead>\n",
       "    <tr style=\"text-align: right;\">\n",
       "      <th></th>\n",
       "      <th>name</th>\n",
       "      <th>allocate_p_MW</th>\n",
       "      <th>allocate_q_MVAR</th>\n",
       "      <th>LPF</th>\n",
       "    </tr>\n",
       "  </thead>\n",
       "  <tbody>\n",
       "    <tr>\n",
       "      <th>0</th>\n",
       "      <td>bus1ref</td>\n",
       "      <td>0.000000</td>\n",
       "      <td>0.000000</td>\n",
       "      <td>-1.000000</td>\n",
       "    </tr>\n",
       "    <tr>\n",
       "      <th>1</th>\n",
       "      <td>bus2</td>\n",
       "      <td>0.000000</td>\n",
       "      <td>0.000000</td>\n",
       "      <td>6.851735</td>\n",
       "    </tr>\n",
       "    <tr>\n",
       "      <th>2</th>\n",
       "      <td>bus3</td>\n",
       "      <td>0.010696</td>\n",
       "      <td>0.005426</td>\n",
       "      <td>-2.104078</td>\n",
       "    </tr>\n",
       "    <tr>\n",
       "      <th>3</th>\n",
       "      <td>bus4</td>\n",
       "      <td>0.015251</td>\n",
       "      <td>0.008021</td>\n",
       "      <td>-2.999953</td>\n",
       "    </tr>\n",
       "  </tbody>\n",
       "</table>\n",
       "</div>"
      ],
      "text/plain": [
       "      name  allocate_p_MW  allocate_q_MVAR       LPF\n",
       "0  bus1ref       0.000000         0.000000 -1.000000\n",
       "1     bus2       0.000000         0.000000  6.851735\n",
       "2     bus3       0.010696         0.005426 -2.104078\n",
       "3     bus4       0.015251         0.008021 -2.999953"
      ]
     },
     "execution_count": 176,
     "metadata": {},
     "output_type": "execute_result"
    }
   ],
   "source": [
    "df_LPF"
   ]
  },
  {
   "cell_type": "code",
   "execution_count": null,
   "metadata": {},
   "outputs": [],
   "source": []
  },
  {
   "cell_type": "markdown",
   "metadata": {},
   "source": [
    "# Solar PV at bus 2"
   ]
  },
  {
   "cell_type": "code",
   "execution_count": 100,
   "metadata": {},
   "outputs": [],
   "source": [
    "net3 = pn.simple_four_bus_system()\n",
    "net3.sgen['p_mw']=[0.020,0]\n",
    "net3.sgen['q_mvar']=[0.005,0]\n",
    "net3.sgen['sn_mva']=[0.03,0]\n",
    "pp.runpp(net3)"
   ]
  },
  {
   "cell_type": "code",
   "execution_count": 101,
   "metadata": {},
   "outputs": [],
   "source": [
    "df_measurement=pd.DataFrame()\n",
    "df_measurement=pd.DataFrame()\n",
    "df_measurement['meas_type']=['v','v','v','v','p','p','q','q','i','i']\n",
    "df_measurement['element_type']=['bus','bus','bus','bus','line','line','line','line','line','line']\n",
    "df_measurement['element']=[0,1,2,3,0,1,0,1,0,1]\n",
    "df_measurement['side']=['None','None','None','None','from','from','from','from','from','from']\n",
    "\n",
    "#where bus measurement has 3%error\n",
    "#where line measurement has 5%error\n",
    "#where trafo measurement has 5%error\n",
    "\n",
    "df_measurement, net3 = create_measurement_unit(df_measurement, net3)\n",
    "\n",
    "success = estimate(net3, init=\"flat\", calculate_voltage_angles=True, zero_injection=[1])\n",
    "# V_est, delta_est = net2.res_bus_est.vm_pu, net2.res_bus_est.va_degree"
   ]
  },
  {
   "cell_type": "code",
   "execution_count": 102,
   "metadata": {},
   "outputs": [
    {
     "data": {
      "text/plain": [
       "True"
      ]
     },
     "execution_count": 102,
     "metadata": {},
     "output_type": "execute_result"
    }
   ],
   "source": [
    "success"
   ]
  },
  {
   "cell_type": "code",
   "execution_count": 103,
   "metadata": {},
   "outputs": [
    {
     "name": "stdout",
     "output_type": "stream",
     "text": [
      "loss is: -58.64858392198169 %\n"
     ]
    }
   ],
   "source": [
    "list_slack_bus=[0]\n",
    "list_zero_inject_bus=[1]\n",
    "list_known_generation_bus=list(set(list_slack_bus))\n",
    "participation_bus=list(set(list(net3.bus.index))-set(list_known_generation_bus+ list_zero_inject_bus))\n",
    "\n",
    "df_LPF=pd.DataFrame()\n",
    "df_LPF['name']=net3.bus['name'].copy()\n",
    "known_generation=-net3.res_bus_est.iloc[list_slack_bus[0],2]\n",
    "\n",
    "allocate_p_MW=[]\n",
    "allocate_q_MVAR=[]\n",
    "for index, row in df_LPF.iterrows():\n",
    "    if index in list_known_generation_bus+list_zero_inject_bus:\n",
    "        allocate_p_MW.append(0)\n",
    "        allocate_q_MVAR.append(0)\n",
    "    else:\n",
    "        allocate_p_MW.append(net3.res_bus_est.iloc[index,2])\n",
    "        allocate_q_MVAR.append(net3.res_bus_est.iloc[index,3])\n",
    "df_LPF['allocate_p_MW']=allocate_p_MW\n",
    "df_LPF['allocate_1_MVAR']=allocate_q_MVAR\n",
    "\n",
    "          \n",
    "df_LPF['LPF']=net3.res_bus_est['p_mw']/known_generation\n",
    "\n",
    "loss=sum(df_LPF.iloc[list_known_generation_bus,:]['LPF'])+sum(df_LPF.iloc[participation_bus,:]['LPF'])\n",
    "\n",
    "print('loss is:', loss*100, '%')\n",
    "line_loss=sum(net3.res_line_est['pl_mw'])\n",
    "line_loss_participation=line_loss/known_generation"
   ]
  },
  {
   "cell_type": "code",
   "execution_count": 104,
   "metadata": {},
   "outputs": [
    {
     "name": "stdout",
     "output_type": "stream",
     "text": [
      "      name  allocate_p_MW  allocate_1_MVAR       LPF\n",
      "0  bus1ref       0.000000         0.000000 -1.000000\n",
      "1     bus2       0.000000         0.000000  0.476582\n",
      "2     bus3       0.012648         0.005001  0.124887\n",
      "3     bus4       0.029230         0.010303  0.288627\n"
     ]
    }
   ],
   "source": [
    "print(df_LPF)"
   ]
  },
  {
   "cell_type": "code",
   "execution_count": 105,
   "metadata": {},
   "outputs": [
    {
     "data": {
      "text/html": [
       "<div>\n",
       "<style scoped>\n",
       "    .dataframe tbody tr th:only-of-type {\n",
       "        vertical-align: middle;\n",
       "    }\n",
       "\n",
       "    .dataframe tbody tr th {\n",
       "        vertical-align: top;\n",
       "    }\n",
       "\n",
       "    .dataframe thead th {\n",
       "        text-align: right;\n",
       "    }\n",
       "</style>\n",
       "<table border=\"1\" class=\"dataframe\">\n",
       "  <thead>\n",
       "    <tr style=\"text-align: right;\">\n",
       "      <th></th>\n",
       "      <th>p_from_mw</th>\n",
       "      <th>q_from_mvar</th>\n",
       "      <th>p_to_mw</th>\n",
       "      <th>q_to_mvar</th>\n",
       "      <th>pl_mw</th>\n",
       "      <th>ql_mvar</th>\n",
       "      <th>i_from_ka</th>\n",
       "      <th>i_to_ka</th>\n",
       "      <th>i_ka</th>\n",
       "      <th>vm_from_pu</th>\n",
       "      <th>va_from_degree</th>\n",
       "      <th>vm_to_pu</th>\n",
       "      <th>va_to_degree</th>\n",
       "      <th>loading_percent</th>\n",
       "    </tr>\n",
       "  </thead>\n",
       "  <tbody>\n",
       "    <tr>\n",
       "      <th>0</th>\n",
       "      <td>0.050573</td>\n",
       "      <td>0.016420</td>\n",
       "      <td>-0.044813</td>\n",
       "      <td>-0.015680</td>\n",
       "      <td>0.005760</td>\n",
       "      <td>0.000740</td>\n",
       "      <td>0.077339</td>\n",
       "      <td>0.077341</td>\n",
       "      <td>0.077341</td>\n",
       "      <td>0.992350</td>\n",
       "      <td>-150.403840</td>\n",
       "      <td>0.886039</td>\n",
       "      <td>-149.111462</td>\n",
       "      <td>54.465588</td>\n",
       "    </tr>\n",
       "    <tr>\n",
       "      <th>1</th>\n",
       "      <td>0.032165</td>\n",
       "      <td>0.010679</td>\n",
       "      <td>-0.029230</td>\n",
       "      <td>-0.010303</td>\n",
       "      <td>0.002936</td>\n",
       "      <td>0.000376</td>\n",
       "      <td>0.055210</td>\n",
       "      <td>0.055213</td>\n",
       "      <td>0.055213</td>\n",
       "      <td>0.886039</td>\n",
       "      <td>-149.111462</td>\n",
       "      <td>0.810215</td>\n",
       "      <td>-148.066953</td>\n",
       "      <td>38.882058</td>\n",
       "    </tr>\n",
       "  </tbody>\n",
       "</table>\n",
       "</div>"
      ],
      "text/plain": [
       "   p_from_mw  q_from_mvar   p_to_mw  q_to_mvar     pl_mw   ql_mvar  i_from_ka  \\\n",
       "0   0.050573     0.016420 -0.044813  -0.015680  0.005760  0.000740   0.077339   \n",
       "1   0.032165     0.010679 -0.029230  -0.010303  0.002936  0.000376   0.055210   \n",
       "\n",
       "    i_to_ka      i_ka  vm_from_pu  va_from_degree  vm_to_pu  va_to_degree  \\\n",
       "0  0.077341  0.077341    0.992350     -150.403840  0.886039   -149.111462   \n",
       "1  0.055213  0.055213    0.886039     -149.111462  0.810215   -148.066953   \n",
       "\n",
       "   loading_percent  \n",
       "0        54.465588  \n",
       "1        38.882058  "
      ]
     },
     "execution_count": 105,
     "metadata": {},
     "output_type": "execute_result"
    }
   ],
   "source": [
    "net3.res_line_est"
   ]
  },
  {
   "cell_type": "code",
   "execution_count": 106,
   "metadata": {},
   "outputs": [
    {
     "data": {
      "text/plain": [
       "0.1012720125134151"
      ]
     },
     "execution_count": 106,
     "metadata": {},
     "output_type": "execute_result"
    }
   ],
   "source": [
    "known_generation"
   ]
  },
  {
   "cell_type": "code",
   "execution_count": 107,
   "metadata": {},
   "outputs": [
    {
     "data": {
      "text/plain": [
       "-0.1012720125134151"
      ]
     },
     "execution_count": 107,
     "metadata": {},
     "output_type": "execute_result"
    }
   ],
   "source": [
    "net3.res_bus_est.iloc[list_slack_bus[0],2]"
   ]
  },
  {
   "cell_type": "code",
   "execution_count": 108,
   "metadata": {},
   "outputs": [
    {
     "data": {
      "text/html": [
       "<div>\n",
       "<style scoped>\n",
       "    .dataframe tbody tr th:only-of-type {\n",
       "        vertical-align: middle;\n",
       "    }\n",
       "\n",
       "    .dataframe tbody tr th {\n",
       "        vertical-align: top;\n",
       "    }\n",
       "\n",
       "    .dataframe thead th {\n",
       "        text-align: right;\n",
       "    }\n",
       "</style>\n",
       "<table border=\"1\" class=\"dataframe\">\n",
       "  <thead>\n",
       "    <tr style=\"text-align: right;\">\n",
       "      <th></th>\n",
       "      <th>vm_pu</th>\n",
       "      <th>va_degree</th>\n",
       "      <th>p_mw</th>\n",
       "      <th>q_mvar</th>\n",
       "    </tr>\n",
       "  </thead>\n",
       "  <tbody>\n",
       "    <tr>\n",
       "      <th>0</th>\n",
       "      <td>1.022733</td>\n",
       "      <td>0.000000</td>\n",
       "      <td>-0.101272</td>\n",
       "      <td>-0.171998</td>\n",
       "    </tr>\n",
       "    <tr>\n",
       "      <th>1</th>\n",
       "      <td>0.992350</td>\n",
       "      <td>-150.403840</td>\n",
       "      <td>0.048264</td>\n",
       "      <td>0.149774</td>\n",
       "    </tr>\n",
       "    <tr>\n",
       "      <th>2</th>\n",
       "      <td>0.886039</td>\n",
       "      <td>-149.111462</td>\n",
       "      <td>0.012648</td>\n",
       "      <td>0.005001</td>\n",
       "    </tr>\n",
       "    <tr>\n",
       "      <th>3</th>\n",
       "      <td>0.810215</td>\n",
       "      <td>-148.066953</td>\n",
       "      <td>0.029230</td>\n",
       "      <td>0.010303</td>\n",
       "    </tr>\n",
       "  </tbody>\n",
       "</table>\n",
       "</div>"
      ],
      "text/plain": [
       "      vm_pu   va_degree      p_mw    q_mvar\n",
       "0  1.022733    0.000000 -0.101272 -0.171998\n",
       "1  0.992350 -150.403840  0.048264  0.149774\n",
       "2  0.886039 -149.111462  0.012648  0.005001\n",
       "3  0.810215 -148.066953  0.029230  0.010303"
      ]
     },
     "execution_count": 108,
     "metadata": {},
     "output_type": "execute_result"
    }
   ],
   "source": [
    "net3.res_bus_est"
   ]
  },
  {
   "cell_type": "code",
   "execution_count": 109,
   "metadata": {},
   "outputs": [
    {
     "data": {
      "text/plain": [
       "0.008695686058934258"
      ]
     },
     "execution_count": 109,
     "metadata": {},
     "output_type": "execute_result"
    }
   ],
   "source": [
    "sum(net3.res_line_est['pl_mw'])"
   ]
  },
  {
   "cell_type": "code",
   "execution_count": 110,
   "metadata": {},
   "outputs": [
    {
     "data": {
      "text/html": [
       "<div>\n",
       "<style scoped>\n",
       "    .dataframe tbody tr th:only-of-type {\n",
       "        vertical-align: middle;\n",
       "    }\n",
       "\n",
       "    .dataframe tbody tr th {\n",
       "        vertical-align: top;\n",
       "    }\n",
       "\n",
       "    .dataframe thead th {\n",
       "        text-align: right;\n",
       "    }\n",
       "</style>\n",
       "<table border=\"1\" class=\"dataframe\">\n",
       "  <thead>\n",
       "    <tr style=\"text-align: right;\">\n",
       "      <th></th>\n",
       "      <th>name</th>\n",
       "      <th>allocate_p_MW</th>\n",
       "      <th>allocate_1_MVAR</th>\n",
       "      <th>LPF</th>\n",
       "    </tr>\n",
       "  </thead>\n",
       "  <tbody>\n",
       "    <tr>\n",
       "      <th>0</th>\n",
       "      <td>bus1ref</td>\n",
       "      <td>0.000000</td>\n",
       "      <td>0.000000</td>\n",
       "      <td>-1.000000</td>\n",
       "    </tr>\n",
       "    <tr>\n",
       "      <th>1</th>\n",
       "      <td>bus2</td>\n",
       "      <td>0.000000</td>\n",
       "      <td>0.000000</td>\n",
       "      <td>0.476582</td>\n",
       "    </tr>\n",
       "    <tr>\n",
       "      <th>2</th>\n",
       "      <td>bus3</td>\n",
       "      <td>0.012648</td>\n",
       "      <td>0.005001</td>\n",
       "      <td>0.124887</td>\n",
       "    </tr>\n",
       "    <tr>\n",
       "      <th>3</th>\n",
       "      <td>bus4</td>\n",
       "      <td>0.029230</td>\n",
       "      <td>0.010303</td>\n",
       "      <td>0.288627</td>\n",
       "    </tr>\n",
       "  </tbody>\n",
       "</table>\n",
       "</div>"
      ],
      "text/plain": [
       "      name  allocate_p_MW  allocate_1_MVAR       LPF\n",
       "0  bus1ref       0.000000         0.000000 -1.000000\n",
       "1     bus2       0.000000         0.000000  0.476582\n",
       "2     bus3       0.012648         0.005001  0.124887\n",
       "3     bus4       0.029230         0.010303  0.288627"
      ]
     },
     "execution_count": 110,
     "metadata": {},
     "output_type": "execute_result"
    }
   ],
   "source": [
    "df_LPF"
   ]
  },
  {
   "cell_type": "markdown",
   "metadata": {},
   "source": [
    "# Solar PV panel at bus 3"
   ]
  },
  {
   "cell_type": "code",
   "execution_count": 127,
   "metadata": {},
   "outputs": [
    {
     "name": "stdout",
     "output_type": "stream",
     "text": [
      "  name  bus   p_mw  q_mvar  sn_mva  scaling  in_service  type  current_source\n",
      "0  pv1    2  0.000   0.000    0.00      1.0        True  None            True\n",
      "1  pv2    3  0.015   0.002    0.02      1.0        True  None            True\n"
     ]
    }
   ],
   "source": [
    "net4 = pn.simple_four_bus_system()\n",
    "# print(net4.sgen)\n",
    "net4.sgen['p_mw']=[0,0.015]\n",
    "net4.sgen['q_mvar']=[0,0.002]\n",
    "net4.sgen['sn_mva']=[0,0.02]\n",
    "print(net4.sgen)\n",
    "\n",
    "pp.runpp(net4)"
   ]
  },
  {
   "cell_type": "code",
   "execution_count": 128,
   "metadata": {},
   "outputs": [],
   "source": [
    "df_measurement=pd.DataFrame()\n",
    "df_measurement=pd.DataFrame()\n",
    "df_measurement['meas_type']=['v','v','v','v','p','p','q','q','i','i']\n",
    "df_measurement['element_type']=['bus','bus','bus','bus','line','line','line','line','line','line']\n",
    "df_measurement['element']=[0,1,2,3,0,1,0,1,0,1]\n",
    "df_measurement['side']=['None','None','None','None','from','from','from','from','from','from']\n",
    "\n",
    "#where bus measurement has 3%error\n",
    "#where line measurement has 5%error\n",
    "#where trafo measurement has 5%error\n",
    "\n",
    "df_measurement, net4 = create_measurement_unit(df_measurement, net4)\n",
    "\n",
    "success = estimate(net4, init=\"flat\", calculate_voltage_angles=True, zero_injection=[1])\n",
    "# V_est, delta_est = net2.res_bus_est.vm_pu, net2.res_bus_est.va_degree"
   ]
  },
  {
   "cell_type": "code",
   "execution_count": 129,
   "metadata": {},
   "outputs": [
    {
     "name": "stdout",
     "output_type": "stream",
     "text": [
      "loss is: -35.83392490812809 %\n"
     ]
    }
   ],
   "source": [
    "list_slack_bus=[0]\n",
    "list_zero_inject_bus=[1]\n",
    "list_known_generation_bus=list(set(list_slack_bus))\n",
    "participation_bus=list(set(list(net3.bus.index))-set(list_known_generation_bus+ list_zero_inject_bus))\n",
    "\n",
    "df_LPF=pd.DataFrame()\n",
    "df_LPF['name']=net4.bus['name'].copy()\n",
    "known_generation=-net4.res_bus_est.iloc[list_slack_bus[0],2]\n",
    "\n",
    "allocate_p_MW=[]\n",
    "allocate_q_MVAR=[]\n",
    "for index, row in df_LPF.iterrows():\n",
    "    if index in list_known_generation_bus+list_zero_inject_bus:\n",
    "        allocate_p_MW.append(0)\n",
    "        allocate_q_MVAR.append(0)\n",
    "    else:\n",
    "        allocate_p_MW.append(net4.res_bus_est.iloc[index,2])\n",
    "        allocate_q_MVAR.append(net4.res_bus_est.iloc[index,3])\n",
    "df_LPF['allocate_p_MW']=allocate_p_MW\n",
    "df_LPF['allocate_1_MVAR']=allocate_q_MVAR\n",
    "\n",
    "          \n",
    "df_LPF['LPF']=net4.res_bus_est['p_mw']/known_generation\n",
    "\n",
    "loss=sum(df_LPF.iloc[list_known_generation_bus,:]['LPF'])+sum(df_LPF.iloc[participation_bus,:]['LPF'])\n",
    "\n",
    "print('loss is:', loss*100, '%')\n",
    "line_loss=sum(net4.res_line_est['pl_mw'])\n",
    "line_loss_participation=line_loss/known_generation"
   ]
  },
  {
   "cell_type": "code",
   "execution_count": 130,
   "metadata": {},
   "outputs": [
    {
     "data": {
      "text/html": [
       "<div>\n",
       "<style scoped>\n",
       "    .dataframe tbody tr th:only-of-type {\n",
       "        vertical-align: middle;\n",
       "    }\n",
       "\n",
       "    .dataframe tbody tr th {\n",
       "        vertical-align: top;\n",
       "    }\n",
       "\n",
       "    .dataframe thead th {\n",
       "        text-align: right;\n",
       "    }\n",
       "</style>\n",
       "<table border=\"1\" class=\"dataframe\">\n",
       "  <thead>\n",
       "    <tr style=\"text-align: right;\">\n",
       "      <th></th>\n",
       "      <th>name</th>\n",
       "      <th>allocate_p_MW</th>\n",
       "      <th>allocate_1_MVAR</th>\n",
       "      <th>LPF</th>\n",
       "    </tr>\n",
       "  </thead>\n",
       "  <tbody>\n",
       "    <tr>\n",
       "      <th>0</th>\n",
       "      <td>bus1ref</td>\n",
       "      <td>0.000000</td>\n",
       "      <td>0.000000</td>\n",
       "      <td>-1.000000</td>\n",
       "    </tr>\n",
       "    <tr>\n",
       "      <th>1</th>\n",
       "      <td>bus2</td>\n",
       "      <td>0.000000</td>\n",
       "      <td>0.000000</td>\n",
       "      <td>0.243407</td>\n",
       "    </tr>\n",
       "    <tr>\n",
       "      <th>2</th>\n",
       "      <td>bus3</td>\n",
       "      <td>0.030431</td>\n",
       "      <td>0.009766</td>\n",
       "      <td>0.428705</td>\n",
       "    </tr>\n",
       "    <tr>\n",
       "      <th>3</th>\n",
       "      <td>bus4</td>\n",
       "      <td>0.015116</td>\n",
       "      <td>0.007486</td>\n",
       "      <td>0.212956</td>\n",
       "    </tr>\n",
       "  </tbody>\n",
       "</table>\n",
       "</div>"
      ],
      "text/plain": [
       "      name  allocate_p_MW  allocate_1_MVAR       LPF\n",
       "0  bus1ref       0.000000         0.000000 -1.000000\n",
       "1     bus2       0.000000         0.000000  0.243407\n",
       "2     bus3       0.030431         0.009766  0.428705\n",
       "3     bus4       0.015116         0.007486  0.212956"
      ]
     },
     "execution_count": 130,
     "metadata": {},
     "output_type": "execute_result"
    }
   ],
   "source": [
    "df_LPF"
   ]
  },
  {
   "cell_type": "code",
   "execution_count": 132,
   "metadata": {},
   "outputs": [
    {
     "data": {
      "text/html": [
       "<div>\n",
       "<style scoped>\n",
       "    .dataframe tbody tr th:only-of-type {\n",
       "        vertical-align: middle;\n",
       "    }\n",
       "\n",
       "    .dataframe tbody tr th {\n",
       "        vertical-align: top;\n",
       "    }\n",
       "\n",
       "    .dataframe thead th {\n",
       "        text-align: right;\n",
       "    }\n",
       "</style>\n",
       "<table border=\"1\" class=\"dataframe\">\n",
       "  <thead>\n",
       "    <tr style=\"text-align: right;\">\n",
       "      <th></th>\n",
       "      <th>p_from_mw</th>\n",
       "      <th>q_from_mvar</th>\n",
       "      <th>p_to_mw</th>\n",
       "      <th>q_to_mvar</th>\n",
       "      <th>pl_mw</th>\n",
       "      <th>ql_mvar</th>\n",
       "      <th>i_from_ka</th>\n",
       "      <th>i_to_ka</th>\n",
       "      <th>i_ka</th>\n",
       "      <th>vm_from_pu</th>\n",
       "      <th>va_from_degree</th>\n",
       "      <th>vm_to_pu</th>\n",
       "      <th>va_to_degree</th>\n",
       "      <th>loading_percent</th>\n",
       "    </tr>\n",
       "  </thead>\n",
       "  <tbody>\n",
       "    <tr>\n",
       "      <th>0</th>\n",
       "      <td>0.052614</td>\n",
       "      <td>0.018157</td>\n",
       "      <td>-0.046343</td>\n",
       "      <td>-0.017351</td>\n",
       "      <td>0.006271</td>\n",
       "      <td>0.000806</td>\n",
       "      <td>0.080696</td>\n",
       "      <td>0.080699</td>\n",
       "      <td>0.080699</td>\n",
       "      <td>0.995544</td>\n",
       "      <td>-150.414255</td>\n",
       "      <td>0.885079</td>\n",
       "      <td>-148.932422</td>\n",
       "      <td>56.830152</td>\n",
       "    </tr>\n",
       "    <tr>\n",
       "      <th>1</th>\n",
       "      <td>0.015912</td>\n",
       "      <td>0.007585</td>\n",
       "      <td>-0.015116</td>\n",
       "      <td>-0.007486</td>\n",
       "      <td>0.000796</td>\n",
       "      <td>0.000099</td>\n",
       "      <td>0.028747</td>\n",
       "      <td>0.028750</td>\n",
       "      <td>0.028750</td>\n",
       "      <td>0.885079</td>\n",
       "      <td>-148.932422</td>\n",
       "      <td>0.846880</td>\n",
       "      <td>-148.084316</td>\n",
       "      <td>20.246275</td>\n",
       "    </tr>\n",
       "  </tbody>\n",
       "</table>\n",
       "</div>"
      ],
      "text/plain": [
       "   p_from_mw  q_from_mvar   p_to_mw  q_to_mvar     pl_mw   ql_mvar  i_from_ka  \\\n",
       "0   0.052614     0.018157 -0.046343  -0.017351  0.006271  0.000806   0.080696   \n",
       "1   0.015912     0.007585 -0.015116  -0.007486  0.000796  0.000099   0.028747   \n",
       "\n",
       "    i_to_ka      i_ka  vm_from_pu  va_from_degree  vm_to_pu  va_to_degree  \\\n",
       "0  0.080699  0.080699    0.995544     -150.414255  0.885079   -148.932422   \n",
       "1  0.028750  0.028750    0.885079     -148.932422  0.846880   -148.084316   \n",
       "\n",
       "   loading_percent  \n",
       "0        56.830152  \n",
       "1        20.246275  "
      ]
     },
     "execution_count": 132,
     "metadata": {},
     "output_type": "execute_result"
    }
   ],
   "source": [
    "net4.res_line_est\n"
   ]
  },
  {
   "cell_type": "code",
   "execution_count": null,
   "metadata": {},
   "outputs": [],
   "source": []
  }
 ],
 "metadata": {
  "kernelspec": {
   "display_name": "Python 3",
   "language": "python",
   "name": "python3"
  },
  "language_info": {
   "codemirror_mode": {
    "name": "ipython",
    "version": 3
   },
   "file_extension": ".py",
   "mimetype": "text/x-python",
   "name": "python",
   "nbconvert_exporter": "python",
   "pygments_lexer": "ipython3",
   "version": "3.6.8"
  }
 },
 "nbformat": 4,
 "nbformat_minor": 2
}
