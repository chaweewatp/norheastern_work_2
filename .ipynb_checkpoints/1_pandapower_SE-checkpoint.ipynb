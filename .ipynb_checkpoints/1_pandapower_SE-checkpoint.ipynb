{
 "cells": [
  {
   "cell_type": "code",
   "execution_count": 1,
   "metadata": {},
   "outputs": [
    {
     "name": "stdout",
     "output_type": "stream",
     "text": [
      "2.0.1\n"
     ]
    }
   ],
   "source": [
    "import pandapower as pp\n",
    "import pandapower.networks as pn\n",
    "from pandapower.estimation import estimate, remove_bad_data, chi2_analysis\n",
    "import pandas as pd\n",
    "import numpy as np\n",
    "\n",
    "print(pp.__version__)\n"
   ]
  },
  {
   "cell_type": "markdown",
   "metadata": {},
   "source": [
    "Types of Measurements\n",
    "\n",
    "* “v” for voltage measurements (in per-unit)\n",
    "* “p” for active power measurements (in MW)\n",
    "* “q” for reactive power measurements (in kVar)\n",
    "* “i” for electrical current measurements at a line (in A)"
   ]
  },
  {
   "cell_type": "code",
   "execution_count": 16,
   "metadata": {},
   "outputs": [
    {
     "name": "stdout",
     "output_type": "stream",
     "text": [
      "This pandapower network includes the following parameter tables:\n",
      "   - bus (4 elements)\n",
      "   - load (2 elements)\n",
      "   - sgen (2 elements)\n",
      "   - ext_grid (1 element)\n",
      "   - line (2 elements)\n",
      "   - trafo (1 element)\n",
      "   - bus_geodata (4 elements)\n",
      " and the following results tables:\n",
      "   - res_bus (4 elements)\n",
      "   - res_line (2 elements)\n",
      "   - res_trafo (1 element)\n",
      "   - res_ext_grid (1 element)\n",
      "   - res_load (2 elements)\n",
      "   - res_sgen (2 elements)\n"
     ]
    }
   ],
   "source": [
    "net = pn.simple_four_bus_system()\n",
    "pp.runpp(net)\n",
    "V, delta=net.res_bus.vm_pu, net.res_bus.va_degree\n",
    "print(net)"
   ]
  },
  {
   "cell_type": "code",
   "execution_count": 17,
   "metadata": {},
   "outputs": [
    {
     "name": "stdout",
     "output_type": "stream",
     "text": [
      "    p_hv_mw  q_hv_mvar   p_lv_mw  q_lv_mvar     pl_mw   ql_mvar   i_hv_ka  \\\n",
      "0  0.028256   0.013475 -0.027611  -0.013328  0.000644  0.000147  0.001807   \n",
      "\n",
      "    i_lv_ka  vm_hv_pu  va_hv_degree  vm_lv_pu  va_lv_degree  loading_percent  \n",
      "0  0.044405       1.0           0.0  0.996608     -0.208127        12.521762  \n"
     ]
    }
   ],
   "source": [
    "print(net.res_trafo)"
   ]
  },
  {
   "cell_type": "code",
   "execution_count": 18,
   "metadata": {},
   "outputs": [
    {
     "name": "stdout",
     "output_type": "stream",
     "text": [
      "      vm_pu  va_degree      p_mw    q_mvar\n",
      "0  1.000000   0.000000 -0.028256 -0.013475\n",
      "1  0.996608  -0.208127  0.000000  0.000000\n",
      "2  0.937760   0.992541  0.010000  0.005000\n",
      "3  0.902000   1.815913  0.015000  0.008000\n"
     ]
    }
   ],
   "source": [
    "print(net.res_bus)"
   ]
  },
  {
   "cell_type": "code",
   "execution_count": 19,
   "metadata": {},
   "outputs": [],
   "source": [
    "# mu, sigma = 0, 0.1 # mean and standard deviation\n",
    "# s = np.random.normal(mu, sigma, 1000)"
   ]
  },
  {
   "cell_type": "code",
   "execution_count": 23,
   "metadata": {},
   "outputs": [],
   "source": [
    "df_measurement=pd.DataFrame()\n",
    "df_measurement['meas_type']=['v','v','p','q','p','p','q','q']\n",
    "df_measurement['element_type']=['bus','trafo','trafo','trafo','line','line','line','line']\n",
    "df_measurement['element']=[0,0,0,0,0,1,0,1]\n",
    "df_measurement['side']=['None','to','to','to','from','from','from','from']"
   ]
  },
  {
   "cell_type": "code",
   "execution_count": 37,
   "metadata": {},
   "outputs": [
    {
     "name": "stdout",
     "output_type": "stream",
     "text": [
      "  meas_type element_type  element  side\n",
      "0         v          bus        0  None\n",
      "1         v        trafo        0    to\n",
      "2         p        trafo        0    to\n",
      "3         q        trafo        0    to\n",
      "4         p         line        0  from\n",
      "5         p         line        1  from\n",
      "6         q         line        0  from\n",
      "7         q         line        1  from\n",
      "Mean: 1.0 standard deviation: 0.015000000000000013\n",
      "Random value: 0.9914611656804496\n",
      "Mean: 0.9966080336471893 standard deviation: 0.024915200841179763\n",
      "Random value: 1.0187108113957377\n",
      "Mean: -0.02761149910240031 standard deviation: 0.0006902874775600084\n",
      "Random value: -0.028346261995855764\n",
      "Mean: -0.013328214214028923 standard deviation: 0.0003332053553507233\n",
      "Random value: -0.012415436504575503\n",
      "Mean: 0.027611499170688492 standard deviation: 0.0006902874792672122\n",
      "Random value: 0.028134504519637553\n",
      "Mean: 0.01571255188525956 standard deviation: 0.0003928137971314894\n",
      "Random value: 0.015570054952486789\n",
      "Mean: 0.013328213987426037 standard deviation: 0.0003332053496856516\n",
      "Random value: 0.012835150806769424\n",
      "Mean: 0.00808765085802636 standard deviation: 0.00020219127145065905\n",
      "Random value: 0.00836023199131991\n",
      "  meas_type element_type  element  side     value   std_dev\n",
      "0         v          bus        0  None  0.991461  0.015000\n",
      "1         v        trafo        0    to  1.018711  0.024915\n",
      "2         p        trafo        0    to -0.028346  0.000690\n",
      "3         q        trafo        0    to -0.012415  0.000333\n",
      "4         p         line        0  from  0.028135  0.000690\n",
      "5         p         line        1  from  0.015570  0.000393\n",
      "6         q         line        0  from  0.012835  0.000333\n",
      "7         q         line        1  from  0.008360  0.000202\n"
     ]
    }
   ],
   "source": [
    "df_measurement=pd.DataFrame()\n",
    "df_measurement['meas_type']=['v','v','p','q','p','p','q','q']\n",
    "df_measurement['element_type']=['bus','trafo','trafo','trafo','line','line','line','line']\n",
    "df_measurement['element']=[0,0,0,0,0,1,0,1]\n",
    "df_measurement['side']=['None','to','to','to','from','from','from','from']\n",
    "print(df_measurement)\n",
    "list_value=[]\n",
    "list_std=[]\n",
    "#where bus measurement has 3%error\n",
    "#where line measurement has 5%error\n",
    "#where trafo measurement has 5%error\n",
    "\n",
    "for index, row in df_measurement.iterrows():\n",
    "    if row['element_type'] =='bus':\n",
    "        if row['meas_type'] =='v':\n",
    "            mu, sigma= net.res_bus.iloc[row['element'],0]\n",
    "            sigma = (abs(mu)*1.03-abs(mu)*0.97)/4\n",
    "        elif row['meas_type'] =='p':\n",
    "            mu, sigma= net.res_bus.iloc[row['element'],2]\n",
    "            sigma = (abs(mu)*1.03-abs(mu)*0.97)/4\n",
    "        elif row['meas_type'] =='q':\n",
    "            mu, sigma= net.res_bus.iloc[row['element'],3]\n",
    "            sigma = (abs(mu)*1.03-abs(mu)*0.97)/4\n",
    "\n",
    "\n",
    "\n",
    "    elif row['element_type'] =='line':\n",
    "        \n",
    "        if row['side']=='from':\n",
    "            if row['meas_type'] =='p':\n",
    "                mu= net.res_line.iloc[row['element'],0]\n",
    "                sigma = (abs(mu)*1.05-abs(mu)*0.95)/4\n",
    "            elif row['meas_type'] =='q':\n",
    "                mu, = net.res_line.iloc[row['element'],1]\n",
    "                sigma = (abs(mu)*1.05-abs(mu)*0.95)/4\n",
    "        elif row['side']=='to':\n",
    "            pass\n",
    "\n",
    "    elif row['element_type'] =='trafo':\n",
    "        'create trafo measurement'\n",
    "        if row['side']=='from':\n",
    "            pass\n",
    "        elif row['side']=='to':\n",
    "            if row['meas_type'] =='v':\n",
    "                mu =net.res_trafo.iloc[row['element'],10]\n",
    "                sigma = (abs(mu)*1.05-abs(mu)*0.95)/4\n",
    "#                 print(mu)\n",
    "            elif row['meas_type'] =='p':\n",
    "                mu =net.res_trafo.iloc[row['element'],2]\n",
    "                sigma = (abs(mu)*1.05-abs(mu)*0.95)/4\n",
    "            elif row['meas_type'] =='q':\n",
    "                mu =net.res_trafo.iloc[row['element'],3]\n",
    "#                 print(mu)\n",
    "                sigma = (abs(mu)*1.05-abs(mu)*0.95)/4\n",
    "    print('Mean:',mu, 'standard deviation:', sigma)\n",
    "    value = np.random.normal(mu, sigma, 1)\n",
    "    print('Random value:', value[0])\n",
    "\n",
    "\n",
    "    list_value.append(value[0])\n",
    "    list_std.append(sigma)\n",
    "df_measurement['value']=list_value\n",
    "df_measurement['std_dev']=list_std\n",
    "\n",
    "\n",
    "print(df_measurement)"
   ]
  },
  {
   "cell_type": "code",
   "execution_count": 8,
   "metadata": {},
   "outputs": [
    {
     "data": {
      "text/html": [
       "<div>\n",
       "<style scoped>\n",
       "    .dataframe tbody tr th:only-of-type {\n",
       "        vertical-align: middle;\n",
       "    }\n",
       "\n",
       "    .dataframe tbody tr th {\n",
       "        vertical-align: top;\n",
       "    }\n",
       "\n",
       "    .dataframe thead th {\n",
       "        text-align: right;\n",
       "    }\n",
       "</style>\n",
       "<table border=\"1\" class=\"dataframe\">\n",
       "  <thead>\n",
       "    <tr style=\"text-align: right;\">\n",
       "      <th></th>\n",
       "      <th>meas_type</th>\n",
       "      <th>element_type</th>\n",
       "      <th>element</th>\n",
       "      <th>side</th>\n",
       "      <th>value</th>\n",
       "      <th>std_dev</th>\n",
       "    </tr>\n",
       "  </thead>\n",
       "  <tbody>\n",
       "    <tr>\n",
       "      <th>0</th>\n",
       "      <td>v</td>\n",
       "      <td>bus</td>\n",
       "      <td>0</td>\n",
       "      <td>None</td>\n",
       "      <td>0.996879</td>\n",
       "      <td>0.015000</td>\n",
       "    </tr>\n",
       "    <tr>\n",
       "      <th>1</th>\n",
       "      <td>v</td>\n",
       "      <td>bus</td>\n",
       "      <td>1</td>\n",
       "      <td>None</td>\n",
       "      <td>1.005984</td>\n",
       "      <td>0.014949</td>\n",
       "    </tr>\n",
       "    <tr>\n",
       "      <th>2</th>\n",
       "      <td>p</td>\n",
       "      <td>bus</td>\n",
       "      <td>1</td>\n",
       "      <td>None</td>\n",
       "      <td>0.000000</td>\n",
       "      <td>0.000000</td>\n",
       "    </tr>\n",
       "    <tr>\n",
       "      <th>3</th>\n",
       "      <td>q</td>\n",
       "      <td>bus</td>\n",
       "      <td>1</td>\n",
       "      <td>None</td>\n",
       "      <td>0.000000</td>\n",
       "      <td>0.000000</td>\n",
       "    </tr>\n",
       "    <tr>\n",
       "      <th>4</th>\n",
       "      <td>p</td>\n",
       "      <td>line</td>\n",
       "      <td>0</td>\n",
       "      <td>from</td>\n",
       "      <td>0.028062</td>\n",
       "      <td>0.000690</td>\n",
       "    </tr>\n",
       "    <tr>\n",
       "      <th>5</th>\n",
       "      <td>p</td>\n",
       "      <td>line</td>\n",
       "      <td>1</td>\n",
       "      <td>from</td>\n",
       "      <td>0.015985</td>\n",
       "      <td>0.000393</td>\n",
       "    </tr>\n",
       "    <tr>\n",
       "      <th>6</th>\n",
       "      <td>q</td>\n",
       "      <td>line</td>\n",
       "      <td>0</td>\n",
       "      <td>from</td>\n",
       "      <td>0.013231</td>\n",
       "      <td>0.000333</td>\n",
       "    </tr>\n",
       "    <tr>\n",
       "      <th>7</th>\n",
       "      <td>q</td>\n",
       "      <td>line</td>\n",
       "      <td>1</td>\n",
       "      <td>from</td>\n",
       "      <td>0.008107</td>\n",
       "      <td>0.000202</td>\n",
       "    </tr>\n",
       "  </tbody>\n",
       "</table>\n",
       "</div>"
      ],
      "text/plain": [
       "  meas_type element_type  element  side     value   std_dev\n",
       "0         v          bus        0  None  0.996879  0.015000\n",
       "1         v          bus        1  None  1.005984  0.014949\n",
       "2         p          bus        1  None  0.000000  0.000000\n",
       "3         q          bus        1  None  0.000000  0.000000\n",
       "4         p         line        0  from  0.028062  0.000690\n",
       "5         p         line        1  from  0.015985  0.000393\n",
       "6         q         line        0  from  0.013231  0.000333\n",
       "7         q         line        1  from  0.008107  0.000202"
      ]
     },
     "execution_count": 8,
     "metadata": {},
     "output_type": "execute_result"
    }
   ],
   "source": [
    "df_measurement"
   ]
  },
  {
   "cell_type": "code",
   "execution_count": null,
   "metadata": {},
   "outputs": [],
   "source": []
  },
  {
   "cell_type": "code",
   "execution_count": 9,
   "metadata": {},
   "outputs": [],
   "source": [
    "# df_measurement=pd.DataFrame()\n",
    "# df_measurement['meas_type']=['v','v','p','q','p','p','q','q']\n",
    "# df_measurement['element_type']=['bus','bus','bus','bus','line','line','line','line']\n",
    "# df_measurement['element']=[0,1,1,1,0,1,0,1]\n",
    "# df_measurement['side']=['None','None','None','None','from','from','from','from']\n",
    "# df_measurement['value']=[1.006, 0.968,-0.0501, -0.0286,0.0888,0.01173,0.0568,0.0663]\n",
    "# df_measurement['std_dev']=[0.004,0.004, 0.001, 0.001, 0.008, 0.008, 0.008, 0.008]\n"
   ]
  },
  {
   "cell_type": "code",
   "execution_count": 10,
   "metadata": {},
   "outputs": [
    {
     "name": "stdout",
     "output_type": "stream",
     "text": [
      "create bus measurement\n",
      "create bus measurement\n",
      "create bus measurement\n",
      "create bus measurement\n",
      "create line measurement\n",
      "create line measurement\n",
      "create line measurement\n",
      "create line measurement\n"
     ]
    }
   ],
   "source": [
    "for index, row in df_measurement.iterrows():\n",
    "    if row['element_type']=='bus':\n",
    "        print('create bus measurement')\n",
    "        pp.create_measurement(net, row['meas_type'], row['element_type'], value=row['value'], \n",
    "                              std_dev=row['std_dev'], element=row['element'])\n",
    "\n",
    "    elif row['element_type']=='line':\n",
    "        print('create line measurement')\n",
    "        pp.create_measurement(net, row['meas_type'], row['element_type'], value=row['value'], \n",
    "                              std_dev=row['std_dev'], element=row['element'], side=row['side'])"
   ]
  },
  {
   "cell_type": "code",
   "execution_count": 13,
   "metadata": {},
   "outputs": [
    {
     "name": "stdout",
     "output_type": "stream",
     "text": [
      "   name measurement_type element_type  element     value   std_dev  side\n",
      "0  None                v          bus        0  0.996879  0.015000  None\n",
      "1  None                v          bus        1  1.005984  0.014949  None\n",
      "2  None                p          bus        1  0.000000  0.000000  None\n",
      "3  None                q          bus        1  0.000000  0.000000  None\n",
      "4  None                p         line        0  0.028062  0.000690  from\n",
      "5  None                p         line        1  0.015985  0.000393  from\n",
      "6  None                q         line        0  0.013231  0.000333  from\n",
      "7  None                q         line        1  0.008107  0.000202  from\n"
     ]
    }
   ],
   "source": [
    "print(net.measurement)"
   ]
  },
  {
   "cell_type": "code",
   "execution_count": 11,
   "metadata": {},
   "outputs": [
    {
     "ename": "LinAlgError",
     "evalue": "Singular matrix",
     "output_type": "error",
     "traceback": [
      "\u001b[0;31m---------------------------------------------------------------------------\u001b[0m",
      "\u001b[0;31mLinAlgError\u001b[0m                               Traceback (most recent call last)",
      "\u001b[0;32m<ipython-input-11-cb3a276977c4>\u001b[0m in \u001b[0;36m<module>\u001b[0;34m()\u001b[0m\n\u001b[0;32m----> 1\u001b[0;31m \u001b[0msuccess\u001b[0m \u001b[0;34m=\u001b[0m \u001b[0mestimate\u001b[0m\u001b[0;34m(\u001b[0m\u001b[0mnet\u001b[0m\u001b[0;34m,\u001b[0m \u001b[0minit\u001b[0m\u001b[0;34m=\u001b[0m\u001b[0;34m\"flat\"\u001b[0m\u001b[0;34m)\u001b[0m\u001b[0;34m\u001b[0m\u001b[0;34m\u001b[0m\u001b[0m\n\u001b[0m\u001b[1;32m      2\u001b[0m \u001b[0;31m# V, delta = net.res_bus_est.vm_pu, net.res_bus_est.va_degree\u001b[0m\u001b[0;34m\u001b[0m\u001b[0;34m\u001b[0m\u001b[0;34m\u001b[0m\u001b[0m\n\u001b[1;32m      3\u001b[0m \u001b[0mV_est\u001b[0m\u001b[0;34m,\u001b[0m \u001b[0mdelta_est\u001b[0m \u001b[0;34m=\u001b[0m \u001b[0mnet\u001b[0m\u001b[0;34m.\u001b[0m\u001b[0mres_bus_est\u001b[0m\u001b[0;34m.\u001b[0m\u001b[0mvm_pu\u001b[0m\u001b[0;34m,\u001b[0m \u001b[0mnet\u001b[0m\u001b[0;34m.\u001b[0m\u001b[0mres_bus_est\u001b[0m\u001b[0;34m.\u001b[0m\u001b[0mva_degree\u001b[0m\u001b[0;34m\u001b[0m\u001b[0;34m\u001b[0m\u001b[0m\n\u001b[1;32m      4\u001b[0m \u001b[0mprint\u001b[0m\u001b[0;34m(\u001b[0m\u001b[0mnet\u001b[0m\u001b[0;34m)\u001b[0m\u001b[0;34m\u001b[0m\u001b[0;34m\u001b[0m\u001b[0m\n\u001b[1;32m      5\u001b[0m \u001b[0;34m\u001b[0m\u001b[0m\n",
      "\u001b[0;32m~/anaconda3/envs/Powersystem/lib/python3.6/site-packages/pandapower/estimation/state_estimation.py\u001b[0m in \u001b[0;36mestimate\u001b[0;34m(net, algorithm, init, tolerance, maximum_iterations, calculate_voltage_angles, zero_injection, fuse_buses_with_bb_switch)\u001b[0m\n\u001b[1;32m     94\u001b[0m         \u001b[0;32mraise\u001b[0m \u001b[0mUserWarning\u001b[0m\u001b[0;34m(\u001b[0m\u001b[0;34m\"Unsupported init value. Using flat initialization.\"\u001b[0m\u001b[0;34m)\u001b[0m\u001b[0;34m\u001b[0m\u001b[0;34m\u001b[0m\u001b[0m\n\u001b[1;32m     95\u001b[0m     return wls.estimate(v_start, delta_start, calculate_voltage_angles, zero_injection=zero_injection,\n\u001b[0;32m---> 96\u001b[0;31m                         fuse_buses_with_bb_switch=fuse_buses_with_bb_switch)\n\u001b[0m\u001b[1;32m     97\u001b[0m \u001b[0;34m\u001b[0m\u001b[0m\n\u001b[1;32m     98\u001b[0m \u001b[0;34m\u001b[0m\u001b[0m\n",
      "\u001b[0;32m~/anaconda3/envs/Powersystem/lib/python3.6/site-packages/pandapower/estimation/state_estimation.py\u001b[0m in \u001b[0;36mestimate\u001b[0;34m(self, v_start, delta_start, calculate_voltage_angles, zero_injection, fuse_buses_with_bb_switch)\u001b[0m\n\u001b[1;32m    299\u001b[0m         \u001b[0;31m# Finished converting pandapower network to ppci\u001b[0m\u001b[0;34m\u001b[0m\u001b[0;34m\u001b[0m\u001b[0;34m\u001b[0m\u001b[0m\n\u001b[1;32m    300\u001b[0m         \u001b[0;31m# Estimate voltage magnitude and angle with the given estimator\u001b[0m\u001b[0;34m\u001b[0m\u001b[0;34m\u001b[0m\u001b[0;34m\u001b[0m\u001b[0m\n\u001b[0;32m--> 301\u001b[0;31m         \u001b[0mdelta\u001b[0m\u001b[0;34m,\u001b[0m \u001b[0mv_m\u001b[0m \u001b[0;34m=\u001b[0m \u001b[0mself\u001b[0m\u001b[0;34m.\u001b[0m\u001b[0mestimator\u001b[0m\u001b[0;34m.\u001b[0m\u001b[0mestimate\u001b[0m\u001b[0;34m(\u001b[0m\u001b[0mppci\u001b[0m\u001b[0;34m)\u001b[0m\u001b[0;34m\u001b[0m\u001b[0;34m\u001b[0m\u001b[0m\n\u001b[0m\u001b[1;32m    302\u001b[0m \u001b[0;34m\u001b[0m\u001b[0m\n\u001b[1;32m    303\u001b[0m         \u001b[0;31m# store results for all elements\u001b[0m\u001b[0;34m\u001b[0m\u001b[0;34m\u001b[0m\u001b[0;34m\u001b[0m\u001b[0m\n",
      "\u001b[0;32m~/anaconda3/envs/Powersystem/lib/python3.6/site-packages/pandapower/estimation/estimator/wls.py\u001b[0m in \u001b[0;36mestimate\u001b[0;34m(self, ppci)\u001b[0m\n\u001b[1;32m     72\u001b[0m \u001b[0;34m\u001b[0m\u001b[0m\n\u001b[1;32m     73\u001b[0m     \u001b[0;32mdef\u001b[0m \u001b[0mestimate\u001b[0m\u001b[0;34m(\u001b[0m\u001b[0mself\u001b[0m\u001b[0;34m,\u001b[0m \u001b[0mppci\u001b[0m\u001b[0;34m)\u001b[0m\u001b[0;34m:\u001b[0m\u001b[0;34m\u001b[0m\u001b[0;34m\u001b[0m\u001b[0m\n\u001b[0;32m---> 74\u001b[0;31m         \u001b[0mslack_buses\u001b[0m\u001b[0;34m,\u001b[0m \u001b[0mnon_slack_buses\u001b[0m\u001b[0;34m,\u001b[0m \u001b[0mn_active\u001b[0m\u001b[0;34m,\u001b[0m \u001b[0mr_inv\u001b[0m\u001b[0;34m,\u001b[0m \u001b[0mv_m\u001b[0m\u001b[0;34m,\u001b[0m \u001b[0mdelta_masked\u001b[0m\u001b[0;34m,\u001b[0m \u001b[0mdelta\u001b[0m\u001b[0;34m,\u001b[0m \u001b[0mz\u001b[0m \u001b[0;34m=\u001b[0m \u001b[0mself\u001b[0m\u001b[0;34m.\u001b[0m\u001b[0mwls_preprocessing\u001b[0m\u001b[0;34m(\u001b[0m\u001b[0mppci\u001b[0m\u001b[0;34m)\u001b[0m\u001b[0;34m\u001b[0m\u001b[0;34m\u001b[0m\u001b[0m\n\u001b[0m\u001b[1;32m     75\u001b[0m \u001b[0;34m\u001b[0m\u001b[0m\n\u001b[1;32m     76\u001b[0m         \u001b[0;31m# state vector\u001b[0m\u001b[0;34m\u001b[0m\u001b[0;34m\u001b[0m\u001b[0;34m\u001b[0m\u001b[0m\n",
      "\u001b[0;32m~/anaconda3/envs/Powersystem/lib/python3.6/site-packages/pandapower/estimation/estimator/wls.py\u001b[0m in \u001b[0;36mwls_preprocessing\u001b[0;34m(self, ppci)\u001b[0m\n\u001b[1;32m     58\u001b[0m \u001b[0;34m\u001b[0m\u001b[0m\n\u001b[1;32m     59\u001b[0m         \u001b[0;31m# invert covariance matrix\u001b[0m\u001b[0;34m\u001b[0m\u001b[0;34m\u001b[0m\u001b[0;34m\u001b[0m\u001b[0m\n\u001b[0;32m---> 60\u001b[0;31m         \u001b[0mr_inv\u001b[0m \u001b[0;34m=\u001b[0m \u001b[0mcsr_matrix\u001b[0m\u001b[0;34m(\u001b[0m\u001b[0mnp\u001b[0m\u001b[0;34m.\u001b[0m\u001b[0mlinalg\u001b[0m\u001b[0;34m.\u001b[0m\u001b[0minv\u001b[0m\u001b[0;34m(\u001b[0m\u001b[0mnp\u001b[0m\u001b[0;34m.\u001b[0m\u001b[0mdiagflat\u001b[0m\u001b[0;34m(\u001b[0m\u001b[0mr_cov\u001b[0m\u001b[0;34m)\u001b[0m \u001b[0;34m**\u001b[0m \u001b[0;36m2\u001b[0m\u001b[0;34m)\u001b[0m\u001b[0;34m)\u001b[0m\u001b[0;34m\u001b[0m\u001b[0;34m\u001b[0m\u001b[0m\n\u001b[0m\u001b[1;32m     61\u001b[0m         \u001b[0;32mreturn\u001b[0m \u001b[0mslack_buses\u001b[0m\u001b[0;34m,\u001b[0m \u001b[0mnon_slack_buses\u001b[0m\u001b[0;34m,\u001b[0m  \u001b[0mn_active\u001b[0m\u001b[0;34m,\u001b[0m \u001b[0mr_inv\u001b[0m\u001b[0;34m,\u001b[0m \u001b[0mv_m\u001b[0m\u001b[0;34m,\u001b[0m \u001b[0mdelta_masked\u001b[0m\u001b[0;34m,\u001b[0m \u001b[0mdelta\u001b[0m\u001b[0;34m,\u001b[0m \u001b[0mz\u001b[0m\u001b[0;34m\u001b[0m\u001b[0;34m\u001b[0m\u001b[0m\n\u001b[1;32m     62\u001b[0m \u001b[0;34m\u001b[0m\u001b[0m\n",
      "\u001b[0;32m~/anaconda3/envs/Powersystem/lib/python3.6/site-packages/numpy/linalg/linalg.py\u001b[0m in \u001b[0;36minv\u001b[0;34m(a)\u001b[0m\n\u001b[1;32m    549\u001b[0m     \u001b[0msignature\u001b[0m \u001b[0;34m=\u001b[0m \u001b[0;34m'D->D'\u001b[0m \u001b[0;32mif\u001b[0m \u001b[0misComplexType\u001b[0m\u001b[0;34m(\u001b[0m\u001b[0mt\u001b[0m\u001b[0;34m)\u001b[0m \u001b[0;32melse\u001b[0m \u001b[0;34m'd->d'\u001b[0m\u001b[0;34m\u001b[0m\u001b[0;34m\u001b[0m\u001b[0m\n\u001b[1;32m    550\u001b[0m     \u001b[0mextobj\u001b[0m \u001b[0;34m=\u001b[0m \u001b[0mget_linalg_error_extobj\u001b[0m\u001b[0;34m(\u001b[0m\u001b[0m_raise_linalgerror_singular\u001b[0m\u001b[0;34m)\u001b[0m\u001b[0;34m\u001b[0m\u001b[0;34m\u001b[0m\u001b[0m\n\u001b[0;32m--> 551\u001b[0;31m     \u001b[0mainv\u001b[0m \u001b[0;34m=\u001b[0m \u001b[0m_umath_linalg\u001b[0m\u001b[0;34m.\u001b[0m\u001b[0minv\u001b[0m\u001b[0;34m(\u001b[0m\u001b[0ma\u001b[0m\u001b[0;34m,\u001b[0m \u001b[0msignature\u001b[0m\u001b[0;34m=\u001b[0m\u001b[0msignature\u001b[0m\u001b[0;34m,\u001b[0m \u001b[0mextobj\u001b[0m\u001b[0;34m=\u001b[0m\u001b[0mextobj\u001b[0m\u001b[0;34m)\u001b[0m\u001b[0;34m\u001b[0m\u001b[0;34m\u001b[0m\u001b[0m\n\u001b[0m\u001b[1;32m    552\u001b[0m     \u001b[0;32mreturn\u001b[0m \u001b[0mwrap\u001b[0m\u001b[0;34m(\u001b[0m\u001b[0mainv\u001b[0m\u001b[0;34m.\u001b[0m\u001b[0mastype\u001b[0m\u001b[0;34m(\u001b[0m\u001b[0mresult_t\u001b[0m\u001b[0;34m,\u001b[0m \u001b[0mcopy\u001b[0m\u001b[0;34m=\u001b[0m\u001b[0;32mFalse\u001b[0m\u001b[0;34m)\u001b[0m\u001b[0;34m)\u001b[0m\u001b[0;34m\u001b[0m\u001b[0;34m\u001b[0m\u001b[0m\n\u001b[1;32m    553\u001b[0m \u001b[0;34m\u001b[0m\u001b[0m\n",
      "\u001b[0;32m~/anaconda3/envs/Powersystem/lib/python3.6/site-packages/numpy/linalg/linalg.py\u001b[0m in \u001b[0;36m_raise_linalgerror_singular\u001b[0;34m(err, flag)\u001b[0m\n\u001b[1;32m     95\u001b[0m \u001b[0;34m\u001b[0m\u001b[0m\n\u001b[1;32m     96\u001b[0m \u001b[0;32mdef\u001b[0m \u001b[0m_raise_linalgerror_singular\u001b[0m\u001b[0;34m(\u001b[0m\u001b[0merr\u001b[0m\u001b[0;34m,\u001b[0m \u001b[0mflag\u001b[0m\u001b[0;34m)\u001b[0m\u001b[0;34m:\u001b[0m\u001b[0;34m\u001b[0m\u001b[0;34m\u001b[0m\u001b[0m\n\u001b[0;32m---> 97\u001b[0;31m     \u001b[0;32mraise\u001b[0m \u001b[0mLinAlgError\u001b[0m\u001b[0;34m(\u001b[0m\u001b[0;34m\"Singular matrix\"\u001b[0m\u001b[0;34m)\u001b[0m\u001b[0;34m\u001b[0m\u001b[0;34m\u001b[0m\u001b[0m\n\u001b[0m\u001b[1;32m     98\u001b[0m \u001b[0;34m\u001b[0m\u001b[0m\n\u001b[1;32m     99\u001b[0m \u001b[0;32mdef\u001b[0m \u001b[0m_raise_linalgerror_nonposdef\u001b[0m\u001b[0;34m(\u001b[0m\u001b[0merr\u001b[0m\u001b[0;34m,\u001b[0m \u001b[0mflag\u001b[0m\u001b[0;34m)\u001b[0m\u001b[0;34m:\u001b[0m\u001b[0;34m\u001b[0m\u001b[0;34m\u001b[0m\u001b[0m\n",
      "\u001b[0;31mLinAlgError\u001b[0m: Singular matrix"
     ]
    }
   ],
   "source": [
    "success = estimate(net, init=\"flat\")\n",
    "# V, delta = net.res_bus_est.vm_pu, net.res_bus_est.va_degree\n",
    "V_est, delta_est = net.res_bus_est.vm_pu, net.res_bus_est.va_degree\n",
    "print(net)\n",
    "\n"
   ]
  },
  {
   "cell_type": "code",
   "execution_count": null,
   "metadata": {},
   "outputs": [],
   "source": [
    "net.res_line_est"
   ]
  },
  {
   "cell_type": "code",
   "execution_count": null,
   "metadata": {},
   "outputs": [],
   "source": [
    "net.res_line-net.res_line_est"
   ]
  },
  {
   "cell_type": "code",
   "execution_count": null,
   "metadata": {},
   "outputs": [],
   "source": []
  },
  {
   "cell_type": "code",
   "execution_count": null,
   "metadata": {},
   "outputs": [],
   "source": []
  },
  {
   "cell_type": "code",
   "execution_count": null,
   "metadata": {},
   "outputs": [],
   "source": [
    "net.res_bus_power_flow\n"
   ]
  },
  {
   "cell_type": "code",
   "execution_count": null,
   "metadata": {},
   "outputs": [],
   "source": [
    "net.res_bus_est"
   ]
  },
  {
   "cell_type": "code",
   "execution_count": null,
   "metadata": {},
   "outputs": [],
   "source": [
    "pp.create_measurement(net2, \"v\", \"bus\", 1.006, .004, element=0)           # V at bus 1 index 0\n",
    "pp.create_measurement(net2, \"v\", \"bus\", 0.968, .004, element=1)       # V at bus 2 index 1\n",
    "\n",
    "pp.create_measurement(net2, \"p\", \"bus\", -0.0501, 10, element=1)         # P at bus 2 index 1\n",
    "pp.create_measurement(net2, \"q\", \"bus\", -0.0286, 10, element=1)         # Q at bus 2 index 1\n",
    "\n",
    "pp.create_measurement(net2, \"p\", \"line\", 0.0888, 8, element=0, side=\"from\")   # P_line (bus 1 -> bus 2) at bus 1 element=0\n",
    "pp.create_measurement(net2, \"p\", \"line\", 0.01173, 8, element=1, side=\"from\")  # P_line (bus 1 -> bus 3) at bus 1 element=1\n",
    "# you can either define the side with a string (\"from\" / \"to\") or\n",
    "# using the bus index where the line ends and the measurement is located\n",
    "pp.create_measurement(net2, \"q\", \"line\", 0.0568, 8, element=0, side=\"from\")     # Q_line (bus 1 -> bus 2) at bus 1\n",
    "pp.create_measurement(net2, \"q\", \"line\", 0.0663, 8, element=1, side=\"from\")     # Q_line (bus 1 -> bus 3) at bus 1"
   ]
  },
  {
   "cell_type": "code",
   "execution_count": null,
   "metadata": {},
   "outputs": [],
   "source": [
    "success = estimate(net, init=\"flat\")\n",
    "# V, delta = net.res_bus_est.vm_pu, net.res_bus_est.va_degree\n",
    "V_est, delta_est = net.res_bus_est.vm_pu, net.res_bus_est.va_degree"
   ]
  },
  {
   "cell_type": "code",
   "execution_count": null,
   "metadata": {},
   "outputs": [],
   "source": [
    "net.res_bus_est"
   ]
  },
  {
   "cell_type": "code",
   "execution_count": null,
   "metadata": {},
   "outputs": [],
   "source": [
    "net.res_line_est"
   ]
  },
  {
   "cell_type": "code",
   "execution_count": null,
   "metadata": {},
   "outputs": [],
   "source": []
  },
  {
   "cell_type": "code",
   "execution_count": null,
   "metadata": {},
   "outputs": [],
   "source": [
    "pp.runpp(net)"
   ]
  },
  {
   "cell_type": "code",
   "execution_count": null,
   "metadata": {},
   "outputs": [],
   "source": [
    "net"
   ]
  },
  {
   "cell_type": "code",
   "execution_count": null,
   "metadata": {},
   "outputs": [],
   "source": [
    "inp = [{'c1':10, 'c2':100}, {'c1':11,'c2':110}, {'c1':12,'c2':120}]\n",
    "df = pd.DataFrame(inp)\n",
    "print(df)\n",
    "for index, row in df.iterrows():\n",
    "    print(row['c1'], row['c2'])\n"
   ]
  },
  {
   "cell_type": "code",
   "execution_count": null,
   "metadata": {},
   "outputs": [],
   "source": []
  }
 ],
 "metadata": {
  "kernelspec": {
   "display_name": "Python 3",
   "language": "python",
   "name": "python3"
  },
  "language_info": {
   "codemirror_mode": {
    "name": "ipython",
    "version": 3
   },
   "file_extension": ".py",
   "mimetype": "text/x-python",
   "name": "python",
   "nbconvert_exporter": "python",
   "pygments_lexer": "ipython3",
   "version": "3.6.8"
  }
 },
 "nbformat": 4,
 "nbformat_minor": 2
}
