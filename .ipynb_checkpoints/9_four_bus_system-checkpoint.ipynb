{
 "cells": [
  {
   "cell_type": "code",
   "execution_count": 1,
   "metadata": {},
   "outputs": [
    {
     "name": "stdout",
     "output_type": "stream",
     "text": [
      "2.0.1\n"
     ]
    }
   ],
   "source": [
    "import pandapower as pp\n",
    "import pandapower.networks as pn\n",
    "from pandapower.estimation import estimate, remove_bad_data, chi2_analysis\n",
    "import pandas as pd\n",
    "import numpy as np\n",
    "# from tqdm import tqdm\n",
    "\n",
    "from scipy import stats\n",
    "print(pp.__version__)\n",
    "\n",
    "import matplotlib.pyplot as plt\n",
    "import ruptures as rpt\n",
    "\n",
    "from tqdm import tqdm\n",
    "from numpy import diff\n",
    "# from julia.PowerModels import run_ac_opf\n",
    "# from julia.PowerModels import run_ac_opf"
   ]
  },
  {
   "cell_type": "code",
   "execution_count": 2,
   "metadata": {},
   "outputs": [],
   "source": [
    "def create_measurement_unit(df_measurement, net):\n",
    "    list_value=[]\n",
    "    list_std=[]\n",
    "    for index, row in df_measurement.iterrows():\n",
    "        if row['element_type'] =='bus':\n",
    "            if row['meas_type'] =='v':\n",
    "                mu= net.res_bus.iloc[row['element'],0]\n",
    "                sigma = (abs(mu)*upper_bus_accuracy-abs(mu)*lower_bus_accuracy)/4\n",
    "            elif row['meas_type'] =='p':\n",
    "                mu= net.res_bus.iloc[row['element'],2]\n",
    "                sigma = (abs(mu)*upper_bus_accuracy-abs(mu)*lower_bus_accuracy)/4\n",
    "            elif row['meas_type'] =='q':\n",
    "                mu= net.res_bus.iloc[row['element'],3]\n",
    "                sigma = (abs(mu)*upper_bus_accuracy-abs(mu)*lower_bus_accuracy)/4\n",
    "                \n",
    "        elif row['element_type'] =='line':\n",
    "            if row['side']=='from':\n",
    "                if row['meas_type'] =='p':\n",
    "                    mu= net.res_line.iloc[row['element'],0]\n",
    "                    sigma = (abs(mu)*upper_line_accuracy-abs(mu)*lower_line_accuracy)/4\n",
    "                elif row['meas_type'] =='q':\n",
    "                    mu = net.res_line.iloc[row['element'],1]\n",
    "                    sigma = (abs(mu)*upper_line_accuracy-abs(mu)*lower_line_accuracy)/4\n",
    "                elif row['meas_type']=='i':\n",
    "                    mu=net.res_line.iloc[row['element'],6]\n",
    "                    sigma = (abs(mu)*upper_line_accuracy-abs(mu)*lower_line_accuracy)/4\n",
    "            elif row['side']=='to':\n",
    "                if row['meas_type'] =='p':\n",
    "                    mu= net.res_line.iloc[row['element'],2]\n",
    "                    sigma = (abs(mu)*upper_line_accuracy-abs(mu)*lower_line_accuracy)/4\n",
    "                elif row['meas_type'] =='q':\n",
    "                    mu = net.res_line.iloc[row['element'],3]\n",
    "                    sigma = (abs(mu)*upper_line_accuracy-abs(mu)*lower_line_accuracy)/4\n",
    "                elif row['meas_type']=='i':\n",
    "                    mu=net.res_line.iloc[row['element'],7]\n",
    "                    sigma = (abs(mu)*upper_line_accuracy-abs(mu)*lower_line_accuracy)/4\n",
    "                    \n",
    "                    \n",
    "        elif row['element_type'] =='trafo':\n",
    "            if row['side']=='from':\n",
    "                if row['meas_type'] == 'i':\n",
    "                    mu =net.res_trafo.iloc[row['element'],6]\n",
    "                    sigma = (abs(mu)*upper_trafo_accuracy-abs(mu)*lower_trafo_accuracy)/4\n",
    "                elif row['meas_type'] == 'p':\n",
    "                    mu =net.res_trafo.iloc[row['element'],0]\n",
    "                    sigma = (abs(mu)*upper_trafo_accuracy-abs(mu)*lower_trafo_accuracy)/4\n",
    "                elif row['meas_type'] == 'q':\n",
    "                    mu =net.res_trafo.iloc[row['element'],1]\n",
    "                    sigma = (abs(mu)*upper_trafo_accuracy-abs(mu)*lower_trafo_accuracy)/4\n",
    "            elif row['side']=='to':\n",
    "                if row['meas_type'] =='i':\n",
    "                    mu =net.res_trafo.iloc[row['element'],7]\n",
    "                    sigma = (abs(mu)*upper_trafo_accuracy-abs(mu)*lower_trafo_accuracy)/4\n",
    "                elif row['meas_type'] =='p':\n",
    "                    mu =net.res_trafo.iloc[row['element'],2]\n",
    "                    sigma = (abs(mu)*upper_trafo_accuracy-abs(mu)*lower_trafo_accuracy)/4\n",
    "                elif row['meas_type'] =='q':\n",
    "                    mu =net.res_trafo.iloc[row['element'],3]\n",
    "                    sigma = (abs(mu)*upper_trafo_accuracy-abs(mu)*lower_trafo_accuracy)/4\n",
    "#         print(mu)  \n",
    "        value = np.random.normal(mu, sigma, 1)\n",
    "        list_value.append(value[0])\n",
    "        list_std.append(sigma)\n",
    "    df_measurement['value']=list_value\n",
    "    df_measurement['std_dev']=list_std\n",
    "\n",
    "    for index, row in df_measurement.iterrows():\n",
    "        if row['element_type']=='bus':\n",
    "            pp.create_measurement(net, row['meas_type'], row['element_type'], value=row['value'], \n",
    "                                  std_dev=row['std_dev'], element=row['element'])\n",
    "        elif row['element_type']=='line':\n",
    "            pp.create_measurement(net, row['meas_type'], row['element_type'], value=row['value'], \n",
    "                                  std_dev=row['std_dev'], element=row['element'], side=row['side'])\n",
    "        elif row['element_type']=='trafo':\n",
    "            if row['meas_type'] in ['p','q']:\n",
    "                pp.create_measurement(net, row['meas_type'], row['element_type'], value=row['value'], \n",
    "                                      std_dev=row['std_dev'], element=row['element'], side=row['side'])\n",
    "    return df_measurement, net"
   ]
  },
  {
   "cell_type": "code",
   "execution_count": 3,
   "metadata": {},
   "outputs": [],
   "source": [
    "global upper_bus_accuracy, lower_bus_accuracy, upper_line_accuracy, lower_line_accuracy, upper_trafo_accuracy, lower_trafo_accuracy\n",
    "upper_bus_accuracy=1.03\n",
    "lower_bus_accuracy=0.97\n",
    "upper_line_accuracy=1.05\n",
    "lower_line_accuracy=0.95\n",
    "upper_trafo_accuracy=1.05\n",
    "lower_trafo_accuracy=0.95"
   ]
  },
  {
   "cell_type": "code",
   "execution_count": 34,
   "metadata": {},
   "outputs": [],
   "source": [
    "#modelling duck curve pattern for solar PV generation\n",
    "scaling_for_solar=np.array([0,0,0,0,0,0,0.02,0.1,0.3,0.5,0.7,0.8,0.8,1.0,1.0,0.8,0.7,0.4,0.2,0,0,0,0,0,0])\n",
    "# scaling_for_solar=np.array([np.random.normal(item, 0.01, 60) if item !=0 else np.zeros(60) for item in scaling_for_solar])\n",
    "scaling_for_solar=np.array([np.random.normal(item, 0.05, 1)[0] if item !=0 else np.zeros(1)[0] for ind in range(len(scaling_for_solar)-1) for item in np.linspace(scaling_for_solar[ind], scaling_for_solar[ind+1],60)])\n",
    "scaling_for_solar=np.array([value if value >0 else np.zeros(1)[0] for value in scaling_for_solar])\n",
    "scaling_for_solar.shape=(1,24*60)\n",
    "scaling_for_load=np.array([0.3,0.2,0.15,0.15, 0.2,0.25,\n",
    "                          0.4,0.5,0.6,0.7,0.4,0.5,0.6,\n",
    "                          0.7,0.65,0.55,0.55,0.6,0.7,\n",
    "                          0.8,0.86,0.9,0.5,0.3])\n",
    "scaling_for_load=np.array([[np.random.normal(item, 0.1, 15),\n",
    "                            np.random.normal(item, 0.1, 15),\n",
    "                            np.random.normal(item, 0.1, 15),\n",
    "                            np.random.normal(item, 0.1, 15)] for item in scaling_for_load])\n",
    "scaling_for_load.shape=(1,24*60)"
   ]
  },
  {
   "cell_type": "code",
   "execution_count": 35,
   "metadata": {},
   "outputs": [],
   "source": [
    "scaling_for_solar[0][800:805]=0.1\n",
    "scaling_for_solar[0][705:710]=0.1\n",
    "scaling_for_solar[0][677:682]=0.1"
   ]
  },
  {
   "cell_type": "code",
   "execution_count": 36,
   "metadata": {},
   "outputs": [
    {
     "data": {
      "image/png": "[encoded data removed]",
      "text/plain": [
       "<matplotlib.figure.Figure at 0x1205b73c8>"
      ]
     },
     "metadata": {},
     "output_type": "display_data"
    }
   ],
   "source": [
    "fig, ax = plt.subplots()\n",
    "\n",
    "ax.plot(range(len(scaling_for_solar[0])), scaling_for_solar[0])\n",
    "plt.show()"
   ]
  },
  {
   "cell_type": "code",
   "execution_count": null,
   "metadata": {},
   "outputs": [],
   "source": []
  },
  {
   "cell_type": "code",
   "execution_count": 38,
   "metadata": {},
   "outputs": [
    {
     "name": "stdout",
     "output_type": "stream",
     "text": [
      "[1 0]\n"
     ]
    },
    {
     "ename": "KeyboardInterrupt",
     "evalue": "",
     "output_type": "error",
     "traceback": [
      "\u001b[0;31m---------------------------------------------------------------------------\u001b[0m",
      "\u001b[0;31mKeyboardInterrupt\u001b[0m                         Traceback (most recent call last)",
      "\u001b[0;32m<ipython-input-38-93081b4dcc27>\u001b[0m in \u001b[0;36m<module>\u001b[0;34m()\u001b[0m\n\u001b[1;32m     21\u001b[0m         \u001b[0mdf_measurement\u001b[0m\u001b[0;34m[\u001b[0m\u001b[0;34m'side'\u001b[0m\u001b[0;34m]\u001b[0m\u001b[0;34m=\u001b[0m\u001b[0;34m[\u001b[0m\u001b[0;34m'None'\u001b[0m\u001b[0;34m,\u001b[0m\u001b[0;34m'None'\u001b[0m\u001b[0;34m,\u001b[0m\u001b[0;34m'from'\u001b[0m\u001b[0;34m,\u001b[0m\u001b[0;34m'from'\u001b[0m\u001b[0;34m,\u001b[0m\u001b[0;34m'from'\u001b[0m\u001b[0;34m,\u001b[0m\u001b[0;34m'from'\u001b[0m\u001b[0;34m,\u001b[0m\u001b[0;34m'from'\u001b[0m\u001b[0;34m,\u001b[0m\u001b[0;34m'from'\u001b[0m\u001b[0;34m]\u001b[0m\u001b[0;34m\u001b[0m\u001b[0;34m\u001b[0m\u001b[0m\n\u001b[1;32m     22\u001b[0m         \u001b[0mdf_measurement\u001b[0m\u001b[0;34m,\u001b[0m \u001b[0mnet\u001b[0m \u001b[0;34m=\u001b[0m \u001b[0mcreate_measurement_unit\u001b[0m\u001b[0;34m(\u001b[0m\u001b[0mdf_measurement\u001b[0m\u001b[0;34m,\u001b[0m \u001b[0mnet\u001b[0m\u001b[0;34m)\u001b[0m\u001b[0;34m\u001b[0m\u001b[0;34m\u001b[0m\u001b[0m\n\u001b[0;32m---> 23\u001b[0;31m         \u001b[0msuccess\u001b[0m \u001b[0;34m=\u001b[0m \u001b[0mestimate\u001b[0m\u001b[0;34m(\u001b[0m\u001b[0mnet\u001b[0m\u001b[0;34m,\u001b[0m \u001b[0minit\u001b[0m\u001b[0;34m=\u001b[0m\u001b[0;34m\"slack\"\u001b[0m\u001b[0;34m,\u001b[0m \u001b[0mcalculate_voltage_angles\u001b[0m\u001b[0;34m=\u001b[0m\u001b[0;32mTrue\u001b[0m\u001b[0;34m,\u001b[0m \u001b[0mzero_injection\u001b[0m\u001b[0;34m=\u001b[0m\u001b[0;34m[\u001b[0m\u001b[0;36m1\u001b[0m\u001b[0;34m]\u001b[0m\u001b[0;34m)\u001b[0m\u001b[0;34m\u001b[0m\u001b[0;34m\u001b[0m\u001b[0m\n\u001b[0m\u001b[1;32m     24\u001b[0m         \u001b[0mnew_mw\u001b[0m\u001b[0;34m=\u001b[0m\u001b[0mnp\u001b[0m\u001b[0;34m.\u001b[0m\u001b[0marray\u001b[0m\u001b[0;34m(\u001b[0m\u001b[0;34m[\u001b[0m\u001b[0;34m[\u001b[0m\u001b[0mitem\u001b[0m \u001b[0;32mfor\u001b[0m \u001b[0mitem\u001b[0m \u001b[0;32min\u001b[0m \u001b[0mnet\u001b[0m\u001b[0;34m.\u001b[0m\u001b[0mres_bus_est\u001b[0m\u001b[0;34m.\u001b[0m\u001b[0mp_mw\u001b[0m\u001b[0;34m[\u001b[0m\u001b[0;34m:\u001b[0m\u001b[0;34m]\u001b[0m\u001b[0;34m]\u001b[0m\u001b[0;34m]\u001b[0m\u001b[0;34m)\u001b[0m\u001b[0;34m\u001b[0m\u001b[0;34m\u001b[0m\u001b[0m\n\u001b[1;32m     25\u001b[0m         \u001b[0mp_mw\u001b[0m\u001b[0;34m=\u001b[0m\u001b[0mnp\u001b[0m\u001b[0;34m.\u001b[0m\u001b[0mconcatenate\u001b[0m\u001b[0;34m(\u001b[0m\u001b[0;34m(\u001b[0m\u001b[0mp_mw\u001b[0m\u001b[0;34m,\u001b[0m \u001b[0mnew_mw\u001b[0m\u001b[0;34m)\u001b[0m\u001b[0;34m,\u001b[0m \u001b[0maxis\u001b[0m\u001b[0;34m=\u001b[0m\u001b[0;36m0\u001b[0m\u001b[0;34m)\u001b[0m\u001b[0;34m\u001b[0m\u001b[0;34m\u001b[0m\u001b[0m\n",
      "\u001b[0;32m~/anaconda3/envs/Powersystem/lib/python3.6/site-packages/pandapower/estimation/state_estimation.py\u001b[0m in \u001b[0;36mestimate\u001b[0;34m(net, algorithm, init, tolerance, maximum_iterations, calculate_voltage_angles, zero_injection, fuse_buses_with_bb_switch)\u001b[0m\n\u001b[1;32m     94\u001b[0m         \u001b[0;32mraise\u001b[0m \u001b[0mUserWarning\u001b[0m\u001b[0;34m(\u001b[0m\u001b[0;34m\"Unsupported init value. Using flat initialization.\"\u001b[0m\u001b[0;34m)\u001b[0m\u001b[0;34m\u001b[0m\u001b[0;34m\u001b[0m\u001b[0m\n\u001b[1;32m     95\u001b[0m     return wls.estimate(v_start, delta_start, calculate_voltage_angles, zero_injection=zero_injection,\n\u001b[0;32m---> 96\u001b[0;31m                         fuse_buses_with_bb_switch=fuse_buses_with_bb_switch)\n\u001b[0m\u001b[1;32m     97\u001b[0m \u001b[0;34m\u001b[0m\u001b[0m\n\u001b[1;32m     98\u001b[0m \u001b[0;34m\u001b[0m\u001b[0m\n",
      "\u001b[0;32m~/anaconda3/envs/Powersystem/lib/python3.6/site-packages/pandapower/estimation/state_estimation.py\u001b[0m in \u001b[0;36mestimate\u001b[0;34m(self, v_start, delta_start, calculate_voltage_angles, zero_injection, fuse_buses_with_bb_switch)\u001b[0m\n\u001b[1;32m    299\u001b[0m         \u001b[0;31m# Finished converting pandapower network to ppci\u001b[0m\u001b[0;34m\u001b[0m\u001b[0;34m\u001b[0m\u001b[0;34m\u001b[0m\u001b[0m\n\u001b[1;32m    300\u001b[0m         \u001b[0;31m# Estimate voltage magnitude and angle with the given estimator\u001b[0m\u001b[0;34m\u001b[0m\u001b[0;34m\u001b[0m\u001b[0;34m\u001b[0m\u001b[0m\n\u001b[0;32m--> 301\u001b[0;31m         \u001b[0mdelta\u001b[0m\u001b[0;34m,\u001b[0m \u001b[0mv_m\u001b[0m \u001b[0;34m=\u001b[0m \u001b[0mself\u001b[0m\u001b[0;34m.\u001b[0m\u001b[0mestimator\u001b[0m\u001b[0;34m.\u001b[0m\u001b[0mestimate\u001b[0m\u001b[0;34m(\u001b[0m\u001b[0mppci\u001b[0m\u001b[0;34m)\u001b[0m\u001b[0;34m\u001b[0m\u001b[0;34m\u001b[0m\u001b[0m\n\u001b[0m\u001b[1;32m    302\u001b[0m \u001b[0;34m\u001b[0m\u001b[0m\n\u001b[1;32m    303\u001b[0m         \u001b[0;31m# store results for all elements\u001b[0m\u001b[0;34m\u001b[0m\u001b[0;34m\u001b[0m\u001b[0;34m\u001b[0m\u001b[0m\n",
      "\u001b[0;32m~/anaconda3/envs/Powersystem/lib/python3.6/site-packages/pandapower/estimation/estimator/wls.py\u001b[0m in \u001b[0;36mestimate\u001b[0;34m(self, ppci)\u001b[0m\n\u001b[1;32m     93\u001b[0m \u001b[0;34m\u001b[0m\u001b[0m\n\u001b[1;32m     94\u001b[0m                 \u001b[0;31m# jacobian matrix H\u001b[0m\u001b[0;34m\u001b[0m\u001b[0;34m\u001b[0m\u001b[0;34m\u001b[0m\u001b[0m\n\u001b[0;32m---> 95\u001b[0;31m                 \u001b[0mH\u001b[0m \u001b[0;34m=\u001b[0m \u001b[0mcsr_matrix\u001b[0m\u001b[0;34m(\u001b[0m\u001b[0msem\u001b[0m\u001b[0;34m.\u001b[0m\u001b[0mcreate_jacobian\u001b[0m\u001b[0;34m(\u001b[0m\u001b[0mv_m\u001b[0m\u001b[0;34m,\u001b[0m \u001b[0mdelta\u001b[0m\u001b[0;34m)\u001b[0m\u001b[0;34m)\u001b[0m\u001b[0;34m\u001b[0m\u001b[0;34m\u001b[0m\u001b[0m\n\u001b[0m\u001b[1;32m     96\u001b[0m \u001b[0;34m\u001b[0m\u001b[0m\n\u001b[1;32m     97\u001b[0m                 \u001b[0;31m# gain matrix G_m\u001b[0m\u001b[0;34m\u001b[0m\u001b[0;34m\u001b[0m\u001b[0;34m\u001b[0m\u001b[0m\n",
      "\u001b[0;32m~/anaconda3/envs/Powersystem/lib/python3.6/site-packages/pandapower/estimation/estimator/wls_matrix_ops.py\u001b[0m in \u001b[0;36mcreate_jacobian\u001b[0;34m(self, v, delta)\u001b[0m\n\u001b[1;32m    307\u001b[0m                 \u001b[0mh_\u001b[0m\u001b[0;34m[\u001b[0m\u001b[0mnr\u001b[0m\u001b[0;34m,\u001b[0m \u001b[0mnode2\u001b[0m\u001b[0;34m]\u001b[0m \u001b[0;34m=\u001b[0m \u001b[0mH_dIij_dth_j\u001b[0m\u001b[0;34m[\u001b[0m\u001b[0mnode1\u001b[0m\u001b[0;34m,\u001b[0m \u001b[0mnode2\u001b[0m\u001b[0;34m]\u001b[0m\u001b[0;34m\u001b[0m\u001b[0;34m\u001b[0m\u001b[0m\n\u001b[1;32m    308\u001b[0m                 \u001b[0mh_\u001b[0m\u001b[0;34m[\u001b[0m\u001b[0mnr\u001b[0m\u001b[0;34m,\u001b[0m \u001b[0mn\u001b[0m\u001b[0;34m+\u001b[0m\u001b[0mnode1\u001b[0m\u001b[0;34m]\u001b[0m \u001b[0;34m=\u001b[0m \u001b[0mH_dIij_dU_i\u001b[0m\u001b[0;34m[\u001b[0m\u001b[0mnode1\u001b[0m\u001b[0;34m,\u001b[0m \u001b[0mnode2\u001b[0m\u001b[0;34m]\u001b[0m\u001b[0;34m\u001b[0m\u001b[0;34m\u001b[0m\u001b[0m\n\u001b[0;32m--> 309\u001b[0;31m                 \u001b[0mh_\u001b[0m\u001b[0;34m[\u001b[0m\u001b[0mnr\u001b[0m\u001b[0;34m,\u001b[0m \u001b[0mn\u001b[0m\u001b[0;34m+\u001b[0m\u001b[0mnode2\u001b[0m\u001b[0;34m]\u001b[0m \u001b[0;34m=\u001b[0m \u001b[0mH_dIij_dU_j\u001b[0m\u001b[0;34m[\u001b[0m\u001b[0mnode1\u001b[0m\u001b[0;34m,\u001b[0m \u001b[0mnode2\u001b[0m\u001b[0;34m]\u001b[0m\u001b[0;34m\u001b[0m\u001b[0;34m\u001b[0m\u001b[0m\n\u001b[0m\u001b[1;32m    310\u001b[0m             \u001b[0mh_\u001b[0m \u001b[0;34m=\u001b[0m \u001b[0mnp\u001b[0m\u001b[0;34m.\u001b[0m\u001b[0mdelete\u001b[0m\u001b[0;34m(\u001b[0m\u001b[0mh_\u001b[0m\u001b[0;34m,\u001b[0m \u001b[0mself\u001b[0m\u001b[0;34m.\u001b[0m\u001b[0mslack_buses\u001b[0m\u001b[0;34m,\u001b[0m \u001b[0;36m1\u001b[0m\u001b[0;34m)\u001b[0m\u001b[0;34m\u001b[0m\u001b[0;34m\u001b[0m\u001b[0m\n\u001b[1;32m    311\u001b[0m             \u001b[0mh_mat\u001b[0m \u001b[0;34m=\u001b[0m \u001b[0mnp\u001b[0m\u001b[0;34m.\u001b[0m\u001b[0mvstack\u001b[0m\u001b[0;34m(\u001b[0m\u001b[0;34m(\u001b[0m\u001b[0mh_mat\u001b[0m\u001b[0;34m,\u001b[0m \u001b[0mh_\u001b[0m\u001b[0;34m)\u001b[0m\u001b[0;34m)\u001b[0m\u001b[0;34m\u001b[0m\u001b[0;34m\u001b[0m\u001b[0m\n",
      "\u001b[0;31mKeyboardInterrupt\u001b[0m: "
     ]
    }
   ],
   "source": [
    "list_PV_loc=[]\n",
    "list_PV_value=[]\n",
    "list_PV_detected_loc=[]\n",
    "list_PV_detected_value=[]\n",
    "for round in tqdm(range(2), desc='round: '):\n",
    "    p_mw=np.array([[0,0,0,0]])\n",
    "    pv_location=np.random.randint(2, size=2)\n",
    "    list_PV_loc.append(pv_location)\n",
    "#     print(pv_location)\n",
    "    for scaling_solar, load_scaling in zip(scaling_for_solar[0],scaling_for_load[0]):\n",
    "        net = pn.simple_four_bus_system()\n",
    "        net.sgen.scaling=[scaling_solar*pv_location[0], scaling_solar*pv_location[1]]\n",
    "        net.sgen.q_mvar[:]=0\n",
    "        net.sgen.p_mw=np.random.randint(50, size=2)/1000\n",
    "        net.load.scaling=[load_scaling, load_scaling]\n",
    "        pp.runpp(net)\n",
    "        df_measurement=pd.DataFrame()\n",
    "        df_measurement['meas_type']=['v','v','p','p','q','q','i','i']\n",
    "        df_measurement['element_type']=['bus','bus','line','line','line','line','line','line']\n",
    "        df_measurement['element']=[2,3,0,1,0,1,0,1]\n",
    "        df_measurement['side']=['None','None','from','from','from','from','from','from']\n",
    "        df_measurement, net = create_measurement_unit(df_measurement, net)\n",
    "        success = estimate(net, init=\"slack\", calculate_voltage_angles=True, zero_injection=[1])\n",
    "        new_mw=np.array([[item for item in net.res_bus_est.p_mw[:]]])\n",
    "        p_mw=np.concatenate((p_mw, new_mw), axis=0)\n",
    "\n",
    "    df=pd.DataFrame()\n",
    "    df['solar_irradiation']=scaling_for_solar[0][7*60:-5*60]\n",
    "    bus_has_solar_PV=[]\n",
    "    for bus in range(0,len(p_mw[0])):\n",
    "        df['bus{}'.format(bus)]=p_mw[:,bus][1:][7*60:-5*60]\n",
    "        corr=df['solar_irradiation'].corr(df['bus{}'.format(bus)])\n",
    "        print('correlation at bus {} is: {}'.format(bus, corr))\n",
    "        if corr <-0.2:\n",
    "            bus_has_solar_PV.append(bus)\n",
    "    list_PV_detected_loc.append(bus_has_solar_PV)\n",
    "    #combine solar scaling and p_mw at solar located bus\n",
    "    new_p_mw=p_mw.copy()\n",
    "    new_p_mw=new_p_mw.transpose()\n",
    "    # new_p_mw[2].shape=(1441,1)\n",
    "    my_array=np.array([scaling_for_solar[0]]).T.copy()\n",
    "    for located_bus in bus_has_solar_PV:\n",
    "        my_array=np.concatenate((my_array, np.array([[x] for x in new_p_mw[located_bus][1:]])), axis=1)\n",
    "\n",
    "    algo = rpt.Pelt(model='rbf', min_size=1, jump=1).fit(my_array[:])\n",
    "    my_bkps = algo.predict(pen=1)\n",
    "    for bus in bus_has_solar_PV:\n",
    "        sum_value=np.array([])\n",
    "        size_pv=[]\n",
    "        for period in my_bkps[:-1]:\n",
    "        #     print(period)\n",
    "            value=(p_mw[1:][:,bus][period-1]-p_mw[1:][:,bus][period])/(scaling_for_solar[0][period-1]-scaling_for_solar[0][period])\n",
    "            if scaling_for_solar[0][period-1]-scaling_for_solar[0][period] !=0:\n",
    "        #         print(value)\n",
    "                sum_value = np.append(sum_value, value)\n",
    "            size_pv.append(sum_value.sum()/len(sum_value))\n",
    "        print('bus :', bus, 'has solar PV size: ', sum_value.sum()/len(sum_value)) \n",
    "    list_PV_detected_value.append(size_pv)"
   ]
  },
  {
   "cell_type": "code",
   "execution_count": 26,
   "metadata": {},
   "outputs": [
    {
     "data": {
      "text/plain": [
       "array([0.017, 0.036])"
      ]
     },
     "execution_count": 26,
     "metadata": {},
     "output_type": "execute_result"
    }
   ],
   "source": []
  },
  {
   "cell_type": "code",
   "execution_count": 28,
   "metadata": {},
   "outputs": [],
   "source": []
  },
  {
   "cell_type": "code",
   "execution_count": 32,
   "metadata": {},
   "outputs": [
    {
     "data": {
      "text/plain": [
       "array([0, 0])"
      ]
     },
     "execution_count": 32,
     "metadata": {},
     "output_type": "execute_result"
    }
   ],
   "source": []
  },
  {
   "cell_type": "code",
   "execution_count": 30,
   "metadata": {},
   "outputs": [],
   "source": []
  },
  {
   "cell_type": "code",
   "execution_count": null,
   "metadata": {},
   "outputs": [],
   "source": []
  },
  {
   "cell_type": "code",
   "execution_count": null,
   "metadata": {},
   "outputs": [],
   "source": []
  }
 ],
 "metadata": {
  "kernelspec": {
   "display_name": "Python 3",
   "language": "python",
   "name": "python3"
  },
  "language_info": {
   "codemirror_mode": {
    "name": "ipython",
    "version": 3
   },
   "file_extension": ".py",
   "mimetype": "text/x-python",
   "name": "python",
   "nbconvert_exporter": "python",
   "pygments_lexer": "ipython3",
   "version": "3.6.8"
  }
 },
 "nbformat": 4,
 "nbformat_minor": 2
}
