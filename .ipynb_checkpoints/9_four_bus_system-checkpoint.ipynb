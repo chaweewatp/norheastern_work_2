{
 "cells": [
  {
   "cell_type": "code",
   "execution_count": 3,
   "metadata": {},
   "outputs": [
    {
     "name": "stdout",
     "output_type": "stream",
     "text": [
      "2.0.1\n"
     ]
    }
   ],
   "source": [
    "import pandapower as pp\n",
    "import pandapower.networks as pn\n",
    "from pandapower.estimation import estimate, remove_bad_data, chi2_analysis\n",
    "import pandas as pd\n",
    "import numpy as np\n",
    "# from tqdm import tqdm\n",
    "print(pp.__version__)\n",
    "import matplotlib.pyplot as plt\n",
    "import ruptures as rpt\n",
    "from tqdm import tqdm\n",
    "# from julia.PowerModels import run_ac_opf\n",
    "# from julia.PowerModels import run_ac_opf"
   ]
  },
  {
   "cell_type": "code",
   "execution_count": 4,
   "metadata": {},
   "outputs": [],
   "source": [
    "def create_measurement_unit(df_measurement, net):\n",
    "    list_value=[]\n",
    "    list_std=[]\n",
    "    for index, row in df_measurement.iterrows():\n",
    "        if row['element_type'] =='bus':\n",
    "            if row['meas_type'] =='v':\n",
    "                mu= net.res_bus.iloc[row['element'],0]\n",
    "                sigma = (abs(mu)*upper_bus_accuracy-abs(mu)*lower_bus_accuracy)/4\n",
    "            elif row['meas_type'] =='p':\n",
    "                mu= net.res_bus.iloc[row['element'],2]\n",
    "                sigma = (abs(mu)*upper_bus_accuracy-abs(mu)*lower_bus_accuracy)/4\n",
    "            elif row['meas_type'] =='q':\n",
    "                mu= net.res_bus.iloc[row['element'],3]\n",
    "                sigma = (abs(mu)*upper_bus_accuracy-abs(mu)*lower_bus_accuracy)/4\n",
    "                \n",
    "        elif row['element_type'] =='line':\n",
    "            if row['side']=='from':\n",
    "                if row['meas_type'] =='p':\n",
    "                    mu= net.res_line.iloc[row['element'],0]\n",
    "                    sigma = (abs(mu)*upper_line_accuracy-abs(mu)*lower_line_accuracy)/4\n",
    "                elif row['meas_type'] =='q':\n",
    "                    mu = net.res_line.iloc[row['element'],1]\n",
    "                    sigma = (abs(mu)*upper_line_accuracy-abs(mu)*lower_line_accuracy)/4\n",
    "                elif row['meas_type']=='i':\n",
    "                    mu=net.res_line.iloc[row['element'],6]\n",
    "                    sigma = (abs(mu)*upper_line_accuracy-abs(mu)*lower_line_accuracy)/4\n",
    "            elif row['side']=='to':\n",
    "                if row['meas_type'] =='p':\n",
    "                    mu= net.res_line.iloc[row['element'],2]\n",
    "                    sigma = (abs(mu)*upper_line_accuracy-abs(mu)*lower_line_accuracy)/4\n",
    "                elif row['meas_type'] =='q':\n",
    "                    mu = net.res_line.iloc[row['element'],3]\n",
    "                    sigma = (abs(mu)*upper_line_accuracy-abs(mu)*lower_line_accuracy)/4\n",
    "                elif row['meas_type']=='i':\n",
    "                    mu=net.res_line.iloc[row['element'],7]\n",
    "                    sigma = (abs(mu)*upper_line_accuracy-abs(mu)*lower_line_accuracy)/4\n",
    "                    \n",
    "                    \n",
    "        elif row['element_type'] =='trafo':\n",
    "            if row['side']=='from':\n",
    "                if row['meas_type'] == 'i':\n",
    "                    mu =net.res_trafo.iloc[row['element'],6]\n",
    "                    sigma = (abs(mu)*upper_trafo_accuracy-abs(mu)*lower_trafo_accuracy)/4\n",
    "                elif row['meas_type'] == 'p':\n",
    "                    mu =net.res_trafo.iloc[row['element'],0]\n",
    "                    sigma = (abs(mu)*upper_trafo_accuracy-abs(mu)*lower_trafo_accuracy)/4\n",
    "                elif row['meas_type'] == 'q':\n",
    "                    mu =net.res_trafo.iloc[row['element'],1]\n",
    "                    sigma = (abs(mu)*upper_trafo_accuracy-abs(mu)*lower_trafo_accuracy)/4\n",
    "            elif row['side']=='to':\n",
    "                if row['meas_type'] =='i':\n",
    "                    mu =net.res_trafo.iloc[row['element'],7]\n",
    "                    sigma = (abs(mu)*upper_trafo_accuracy-abs(mu)*lower_trafo_accuracy)/4\n",
    "                elif row['meas_type'] =='p':\n",
    "                    mu =net.res_trafo.iloc[row['element'],2]\n",
    "                    sigma = (abs(mu)*upper_trafo_accuracy-abs(mu)*lower_trafo_accuracy)/4\n",
    "                elif row['meas_type'] =='q':\n",
    "                    mu =net.res_trafo.iloc[row['element'],3]\n",
    "                    sigma = (abs(mu)*upper_trafo_accuracy-abs(mu)*lower_trafo_accuracy)/4\n",
    "#         print(mu)  \n",
    "        value = np.random.normal(mu, sigma, 1)\n",
    "        list_value.append(value[0])\n",
    "        list_std.append(sigma)\n",
    "    df_measurement['value']=list_value\n",
    "    df_measurement['std_dev']=list_std\n",
    "\n",
    "    for index, row in df_measurement.iterrows():\n",
    "        if row['element_type']=='bus':\n",
    "            pp.create_measurement(net, row['meas_type'], row['element_type'], value=row['value'], \n",
    "                                  std_dev=row['std_dev'], element=row['element'])\n",
    "        elif row['element_type']=='line':\n",
    "            pp.create_measurement(net, row['meas_type'], row['element_type'], value=row['value'], \n",
    "                                  std_dev=row['std_dev'], element=row['element'], side=row['side'])\n",
    "        elif row['element_type']=='trafo':\n",
    "            if row['meas_type'] in ['p','q']:\n",
    "                pp.create_measurement(net, row['meas_type'], row['element_type'], value=row['value'], \n",
    "                                      std_dev=row['std_dev'], element=row['element'], side=row['side'])\n",
    "    return df_measurement, net"
   ]
  },
  {
   "cell_type": "code",
   "execution_count": 5,
   "metadata": {},
   "outputs": [],
   "source": [
    "global upper_bus_accuracy, lower_bus_accuracy, upper_line_accuracy, lower_line_accuracy, upper_trafo_accuracy, lower_trafo_accuracy\n",
    "upper_bus_accuracy=1.03\n",
    "lower_bus_accuracy=0.97\n",
    "upper_line_accuracy=1.05\n",
    "lower_line_accuracy=0.95\n",
    "upper_trafo_accuracy=1.05\n",
    "lower_trafo_accuracy=0.95"
   ]
  },
  {
   "cell_type": "code",
   "execution_count": 6,
   "metadata": {},
   "outputs": [],
   "source": [
    "#modelling duck curve pattern for solar PV generation\n",
    "scaling_for_solar=np.array([0,0,0,0,0,0,0.02,0.1,0.3,0.5,0.7,0.8,0.8,1.0,1.0,0.8,0.7,0.4,0.2,0,0,0,0,0,0])\n",
    "# scaling_for_solar=np.array([np.random.normal(item, 0.01, 60) if item !=0 else np.zeros(60) for item in scaling_for_solar])\n",
    "scaling_for_solar=np.array([np.random.normal(item, 0.05, 1)[0] if item !=0 else np.zeros(1)[0] for ind in range(len(scaling_for_solar)-1) for item in np.linspace(scaling_for_solar[ind], scaling_for_solar[ind+1],60)])\n",
    "scaling_for_solar=np.array([value if value >0 else np.zeros(1)[0] for value in scaling_for_solar])\n",
    "scaling_for_solar.shape=(1,24*60)\n",
    "scaling_for_load=np.array([0.3,0.2,0.15,0.15, 0.2,0.25,\n",
    "                          0.4,0.5,0.6,0.7,0.4,0.5,0.6,\n",
    "                          0.7,0.65,0.55,0.55,0.6,0.7,\n",
    "                          0.8,0.86,0.9,0.5,0.3])\n",
    "scaling_for_load=np.array([[np.random.normal(item, 0.1, 15),\n",
    "                            np.random.normal(item, 0.1, 15),\n",
    "                            np.random.normal(item, 0.1, 15),\n",
    "                            np.random.normal(item, 0.1, 15)] for item in scaling_for_load])\n",
    "scaling_for_load.shape=(1,24*60)"
   ]
  },
  {
   "cell_type": "code",
   "execution_count": 7,
   "metadata": {},
   "outputs": [],
   "source": [
    "scaling_for_solar[0][800:805]=0.1\n",
    "scaling_for_solar[0][705:710]=0.1\n",
    "scaling_for_solar[0][677:682]=0.1"
   ]
  },
  {
   "cell_type": "code",
   "execution_count": 8,
   "metadata": {},
   "outputs": [
    {
     "data": {
      "image/png": "[encoded data removed]",
      "text/plain": [
       "<matplotlib.figure.Figure at 0x104fe42b0>"
      ]
     },
     "metadata": {},
     "output_type": "display_data"
    }
   ],
   "source": [
    "fig, ax = plt.subplots()\n",
    "\n",
    "ax.plot(range(len(scaling_for_solar[0])), scaling_for_solar[0])\n",
    "plt.show()"
   ]
  },
  {
   "cell_type": "code",
   "execution_count": null,
   "metadata": {},
   "outputs": [],
   "source": []
  },
  {
   "cell_type": "code",
   "execution_count": 11,
   "metadata": {},
   "outputs": [
    {
     "name": "stderr",
     "output_type": "stream",
     "text": [
      "\r",
      "round:   0%|          | 0/1 [00:00<?, ?it/s]"
     ]
    },
    {
     "name": "stdout",
     "output_type": "stream",
     "text": [
      "[1 0]\n",
      "0    0.027\n",
      "1    0.035\n",
      "Name: p_mw, dtype: float64\n"
     ]
    },
    {
     "data": {
      "image/png": "[encoded data removed]",
      "text/plain": [
       "<matplotlib.figure.Figure at 0x11ad47128>"
      ]
     },
     "metadata": {},
     "output_type": "display_data"
    },
    {
     "name": "stderr",
     "output_type": "stream",
     "text": [
      "\r",
      "round: 100%|██████████| 1/1 [03:00<00:00, 180.52s/it]"
     ]
    },
    {
     "name": "stdout",
     "output_type": "stream",
     "text": [
      "[-0.24992089]\n",
      "[-0.24992089 -0.17597179]\n",
      "[-0.24992089 -0.17597179  0.00156535]\n",
      "[-0.24992089 -0.17597179  0.00156535 -0.07086854]\n",
      "[-0.24992089 -0.17597179  0.00156535 -0.07086854 -0.00438914]\n",
      "[-0.24992089 -0.17597179  0.00156535 -0.07086854 -0.00438914 -0.04564087]\n",
      "[-0.24992089 -0.17597179  0.00156535 -0.07086854 -0.00438914 -0.04564087\n",
      "  0.00389767]\n",
      "[-0.24992089 -0.17597179  0.00156535 -0.07086854 -0.00438914 -0.04564087\n",
      "  0.00389767 -0.01470585]\n",
      "[-0.24992089 -0.17597179  0.00156535 -0.07086854 -0.00438914 -0.04564087\n",
      "  0.00389767 -0.01470585 -0.02543871]\n",
      "[-0.24992089 -0.17597179  0.00156535 -0.07086854 -0.00438914 -0.04564087\n",
      "  0.00389767 -0.01470585 -0.02543871 -0.02381894]\n",
      "[-0.24992089 -0.17597179  0.00156535 -0.07086854 -0.00438914 -0.04564087\n",
      "  0.00389767 -0.01470585 -0.02543871 -0.02381894 -0.02517658]\n",
      "[-0.24992089 -0.17597179  0.00156535 -0.07086854 -0.00438914 -0.04564087\n",
      "  0.00389767 -0.01470585 -0.02543871 -0.02381894 -0.02517658 -0.03290028]\n",
      "[-0.24992089 -0.17597179  0.00156535 -0.07086854 -0.00438914 -0.04564087\n",
      "  0.00389767 -0.01470585 -0.02543871 -0.02381894 -0.02517658 -0.03290028\n",
      " -0.04461497]\n",
      "[-0.24992089 -0.17597179  0.00156535 -0.07086854 -0.00438914 -0.04564087\n",
      "  0.00389767 -0.01470585 -0.02543871 -0.02381894 -0.02517658 -0.03290028\n",
      " -0.04461497 -0.04119411]\n",
      "[-0.24992089 -0.17597179  0.00156535 -0.07086854 -0.00438914 -0.04564087\n",
      "  0.00389767 -0.01470585 -0.02543871 -0.02381894 -0.02517658 -0.03290028\n",
      " -0.04461497 -0.04119411 -0.02980479]\n",
      "[-0.24992089 -0.17597179  0.00156535 -0.07086854 -0.00438914 -0.04564087\n",
      "  0.00389767 -0.01470585 -0.02543871 -0.02381894 -0.02517658 -0.03290028\n",
      " -0.04461497 -0.04119411 -0.02980479 -0.02949542]\n",
      "[-0.24992089 -0.17597179  0.00156535 -0.07086854 -0.00438914 -0.04564087\n",
      "  0.00389767 -0.01470585 -0.02543871 -0.02381894 -0.02517658 -0.03290028\n",
      " -0.04461497 -0.04119411 -0.02980479 -0.02949542 -0.10955931]\n",
      "[-0.24992089 -0.17597179  0.00156535 -0.07086854 -0.00438914 -0.04564087\n",
      "  0.00389767 -0.01470585 -0.02543871 -0.02381894 -0.02517658 -0.03290028\n",
      " -0.04461497 -0.04119411 -0.02980479 -0.02949542 -0.10955931 -0.04099527]\n",
      "[-0.24992089 -0.17597179  0.00156535 -0.07086854 -0.00438914 -0.04564087\n",
      "  0.00389767 -0.01470585 -0.02543871 -0.02381894 -0.02517658 -0.03290028\n",
      " -0.04461497 -0.04119411 -0.02980479 -0.02949542 -0.10955931 -0.04099527\n",
      "  0.07205151]\n",
      "[-0.24992089 -0.17597179  0.00156535 -0.07086854 -0.00438914 -0.04564087\n",
      "  0.00389767 -0.01470585 -0.02543871 -0.02381894 -0.02517658 -0.03290028\n",
      " -0.04461497 -0.04119411 -0.02980479 -0.02949542 -0.10955931 -0.04099527\n",
      "  0.07205151 -0.06238861]\n",
      "[-0.24992089 -0.17597179  0.00156535 -0.07086854 -0.00438914 -0.04564087\n",
      "  0.00389767 -0.01470585 -0.02543871 -0.02381894 -0.02517658 -0.03290028\n",
      " -0.04461497 -0.04119411 -0.02980479 -0.02949542 -0.10955931 -0.04099527\n",
      "  0.07205151 -0.06238861 -0.25679153]\n",
      "[-0.24992089 -0.17597179  0.00156535 -0.07086854 -0.00438914 -0.04564087\n",
      "  0.00389767 -0.01470585 -0.02543871 -0.02381894 -0.02517658 -0.03290028\n",
      " -0.04461497 -0.04119411 -0.02980479 -0.02949542 -0.10955931 -0.04099527\n",
      "  0.07205151 -0.06238861 -0.25679153 -0.01949243]\n",
      "[-0.24992089 -0.17597179  0.00156535 -0.07086854 -0.00438914 -0.04564087\n",
      "  0.00389767 -0.01470585 -0.02543871 -0.02381894 -0.02517658 -0.03290028\n",
      " -0.04461497 -0.04119411 -0.02980479 -0.02949542 -0.10955931 -0.04099527\n",
      "  0.07205151 -0.06238861 -0.25679153 -0.01949243  0.03081724]\n",
      "[-0.24992089 -0.17597179  0.00156535 -0.07086854 -0.00438914 -0.04564087\n",
      "  0.00389767 -0.01470585 -0.02543871 -0.02381894 -0.02517658 -0.03290028\n",
      " -0.04461497 -0.04119411 -0.02980479 -0.02949542 -0.10955931 -0.04099527\n",
      "  0.07205151 -0.06238861 -0.25679153 -0.01949243  0.03081724 -0.0010782 ]\n",
      "[-0.24992089 -0.17597179  0.00156535 -0.07086854 -0.00438914 -0.04564087\n",
      "  0.00389767 -0.01470585 -0.02543871 -0.02381894 -0.02517658 -0.03290028\n",
      " -0.04461497 -0.04119411 -0.02980479 -0.02949542 -0.10955931 -0.04099527\n",
      "  0.07205151 -0.06238861 -0.25679153 -0.01949243  0.03081724 -0.0010782\n",
      "  0.01954901]\n",
      "[-0.24992089 -0.17597179  0.00156535 -0.07086854 -0.00438914 -0.04564087\n",
      "  0.00389767 -0.01470585 -0.02543871 -0.02381894 -0.02517658 -0.03290028\n",
      " -0.04461497 -0.04119411 -0.02980479 -0.02949542 -0.10955931 -0.04099527\n",
      "  0.07205151 -0.06238861 -0.25679153 -0.01949243  0.03081724 -0.0010782\n",
      "  0.01954901 -0.10968943]\n",
      "bus : 2 has solar PV size:  -0.0494636493260804\n",
      "bus : 2 has solar PV size:  0.043615653230432046\n"
     ]
    },
    {
     "name": "stderr",
     "output_type": "stream",
     "text": [
      "\n"
     ]
    }
   ],
   "source": [
    "list_PV_loc=[]\n",
    "list_PV_value=[]\n",
    "list_PV_detected_loc=[]\n",
    "list_PV_detected_value_1=[]\n",
    "list_PV_detected_value_2=[]\n",
    "for round in tqdm(range(1), desc='round: '):\n",
    "    p_mw=np.array([[0,0,0,0]])\n",
    "    \n",
    "    pv_location=np.zeros(2, dtype='int')\n",
    "    while sum(pv_location) == 0:\n",
    "        pv_location=np.random.randint(2, size=2) \n",
    "    print(pv_location)#     \n",
    "    list_PV_loc.append(pv_location)\n",
    "    net = pn.simple_four_bus_system()\n",
    "    net.sgen.p_mw=np.random.randint(50, size=2)/1000\n",
    "    list_PV_value.append(np.array(net.sgen.p_mw[:]))\n",
    "    print(net.sgen.p_mw)\n",
    "    net.sgen.q_mvar[:]=0\n",
    "    for scaling_solar, load_scaling in zip(scaling_for_solar[0],scaling_for_load[0]):\n",
    "        net.sgen.scaling=[scaling_solar*pv_location[0], scaling_solar*pv_location[1]]\n",
    "        net.load.scaling=[load_scaling, load_scaling]\n",
    "        pp.runpp(net)\n",
    "        df_measurement=pd.DataFrame()\n",
    "        df_measurement['meas_type']=['v','v','p','p','q','q','i','i']\n",
    "        df_measurement['element_type']=['bus','bus','line','line','line','line','line','line']\n",
    "        df_measurement['element']=[2,3,0,1,0,1,0,1]\n",
    "        df_measurement['side']=['None','None','from','from','from','from','from','from']\n",
    "        df_measurement, net = create_measurement_unit(df_measurement, net)\n",
    "        success = estimate(net, init=\"slack\", calculate_voltage_angles=True, zero_injection=[1])\n",
    "        new_mw=np.array([[item for item in net.res_bus_est.p_mw[:]]])\n",
    "        p_mw=np.concatenate((p_mw, new_mw), axis=0)\n",
    "\n",
    "    df=pd.DataFrame()\n",
    "    df['solar_irradiation']=scaling_for_solar[0][7*60:-5*60]\n",
    "    bus_has_solar_PV=[]\n",
    "    list_corr=[]\n",
    "    for bus in range(0,len(p_mw[0])):\n",
    "        df['bus{}'.format(bus)]=p_mw[:,bus][1:][7*60:-5*60]\n",
    "        corr=df['solar_irradiation'].corr(df['bus{}'.format(bus)])\n",
    "        list_corr.append(corr)\n",
    "#         print('correlation at bus {} is: {}'.format(bus, corr))\n",
    "        if corr <-0.2:\n",
    "            bus_has_solar_PV.append(bus)\n",
    "    list_PV_detected_loc.append(bus_has_solar_PV)\n",
    "    #combine solar scaling and p_mw at solar located bus\n",
    "    new_p_mw=p_mw.copy()\n",
    "    new_p_mw=new_p_mw.transpose()\n",
    "    my_array=np.array([scaling_for_solar[0]]).T.copy()\n",
    "    for located_bus in bus_has_solar_PV:\n",
    "        my_array=np.concatenate((my_array, np.array([[x] for x in new_p_mw[located_bus][1:]])), axis=1)\n",
    "\n",
    "    algo = rpt.Pelt(model='rbf', min_size=1, jump=1).fit(my_array[:])\n",
    "    my_bkps = algo.predict(pen=1)\n",
    "    # display\n",
    "    rpt.display(my_array, my_bkps)\n",
    "    plt.show()\n",
    "    size_pv_1=[]\n",
    "    size_pv_2=[]\n",
    "    for bus in bus_has_solar_PV:\n",
    "        sum_value=np.array([])\n",
    "        for period in my_bkps[:-1]:\n",
    "            value=(p_mw[1:][:,bus][period-1]-p_mw[1:][:,bus][period])/(scaling_for_solar[0][period-1]-scaling_for_solar[0][period])\n",
    "            if scaling_for_solar[0][period-1]-scaling_for_solar[0][period] !=0:\n",
    "                sum_value = np.append(sum_value, value)\n",
    "            print(sum_value)\n",
    "        size_pv_1.append(sum_value.sum()/len(sum_value))\n",
    "        print('bus :', bus, 'has solar PV size: ', sum_value.sum()/len(sum_value))\n",
    "        size_pv_2.append(sum_value.sum()/len(sum_value)*list_corr[bus])\n",
    "        print('bus :', bus, 'has solar PV size: ', sum_value.sum()/len(sum_value)*list_corr[bus])\n",
    "    list_PV_detected_value_1.append(size_pv_1)\n",
    "    list_PV_detected_value_2.append(size_pv_2)"
   ]
  },
  {
   "cell_type": "code",
   "execution_count": null,
   "metadata": {},
   "outputs": [],
   "source": [
    "list_PV_loc"
   ]
  },
  {
   "cell_type": "code",
   "execution_count": 71,
   "metadata": {},
   "outputs": [
    {
     "data": {
      "text/plain": [
       "[array([0.001, 0.015]), array([0.046, 0.046])]"
      ]
     },
     "execution_count": 71,
     "metadata": {},
     "output_type": "execute_result"
    }
   ],
   "source": [
    "list_PV_value"
   ]
  },
  {
   "cell_type": "code",
   "execution_count": 72,
   "metadata": {},
   "outputs": [
    {
     "data": {
      "text/plain": [
       "[[3], [2]]"
      ]
     },
     "execution_count": 72,
     "metadata": {},
     "output_type": "execute_result"
    }
   ],
   "source": [
    "list_PV_detected_loc"
   ]
  },
  {
   "cell_type": "code",
   "execution_count": 73,
   "metadata": {},
   "outputs": [
    {
     "data": {
      "text/plain": [
       "[[0.022750091551743932], [0.05681991175887587]]"
      ]
     },
     "execution_count": 73,
     "metadata": {},
     "output_type": "execute_result"
    }
   ],
   "source": [
    "list_PV_detected_value"
   ]
  },
  {
   "cell_type": "code",
   "execution_count": 13,
   "metadata": {},
   "outputs": [
    {
     "data": {
      "text/plain": [
       "array([-0.24992089, -0.17597179,  0.00156535, -0.07086854, -0.00438914,\n",
       "       -0.04564087,  0.00389767, -0.01470585, -0.02543871, -0.02381894,\n",
       "       -0.02517658, -0.03290028, -0.04461497, -0.04119411, -0.02980479,\n",
       "       -0.02949542, -0.10955931, -0.04099527,  0.07205151, -0.06238861,\n",
       "       -0.25679153, -0.01949243,  0.03081724, -0.0010782 ,  0.01954901,\n",
       "       -0.10968943])"
      ]
     },
     "execution_count": 13,
     "metadata": {},
     "output_type": "execute_result"
    }
   ],
   "source": [
    "sum_value"
   ]
  },
  {
   "cell_type": "code",
   "execution_count": null,
   "metadata": {},
   "outputs": [],
   "source": []
  },
  {
   "cell_type": "code",
   "execution_count": null,
   "metadata": {},
   "outputs": [],
   "source": []
  },
  {
   "cell_type": "code",
   "execution_count": null,
   "metadata": {},
   "outputs": [],
   "source": []
  },
  {
   "cell_type": "code",
   "execution_count": 51,
   "metadata": {},
   "outputs": [
    {
     "data": {
      "text/plain": [
       "2"
      ]
     },
     "execution_count": 51,
     "metadata": {},
     "output_type": "execute_result"
    }
   ],
   "source": [
    "\n"
   ]
  },
  {
   "cell_type": "code",
   "execution_count": null,
   "metadata": {},
   "outputs": [],
   "source": []
  },
  {
   "cell_type": "code",
   "execution_count": null,
   "metadata": {},
   "outputs": [],
   "source": []
  }
 ],
 "metadata": {
  "kernelspec": {
   "display_name": "Python 3",
   "language": "python",
   "name": "python3"
  },
  "language_info": {
   "codemirror_mode": {
    "name": "ipython",
    "version": 3
   },
   "file_extension": ".py",
   "mimetype": "text/x-python",
   "name": "python",
   "nbconvert_exporter": "python",
   "pygments_lexer": "ipython3",
   "version": "3.6.8"
  }
 },
 "nbformat": 4,
 "nbformat_minor": 2
}
