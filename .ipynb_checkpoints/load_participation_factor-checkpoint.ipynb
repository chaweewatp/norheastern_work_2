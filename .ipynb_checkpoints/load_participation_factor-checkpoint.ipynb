{
 "cells": [
  {
   "cell_type": "code",
   "execution_count": 103,
   "metadata": {},
   "outputs": [
    {
     "name": "stdout",
     "output_type": "stream",
     "text": [
      "Requirement already satisfied: tqdm in /Users/pornchaichaweewat/anaconda3/lib/python3.6/site-packages\n",
      "\u001b[33mYou are using pip version 9.0.1, however version 19.1.1 is available.\n",
      "You should consider upgrading via the 'pip install --upgrade pip' command.\u001b[0m\n"
     ]
    }
   ],
   "source": [
    "!pip install tqdm"
   ]
  },
  {
   "cell_type": "code",
   "execution_count": 148,
   "metadata": {},
   "outputs": [
    {
     "name": "stdout",
     "output_type": "stream",
     "text": [
      "2.0.1\n"
     ]
    }
   ],
   "source": [
    "import pandapower as pp\n",
    "import pandapower.networks as pn\n",
    "from pandapower.estimation import estimate, remove_bad_data, chi2_analysis\n",
    "import pandas as pd\n",
    "import numpy as np\n",
    "# from tqdm import tqdm\n",
    "\n",
    "from scipy import stats\n",
    "\n",
    "print(pp.__version__)\n",
    "\n"
   ]
  },
  {
   "cell_type": "code",
   "execution_count": 98,
   "metadata": {},
   "outputs": [],
   "source": [
    "def create_measurement_unit(df_measurement, net):\n",
    "    list_value=[]\n",
    "    list_std=[]\n",
    "#     print(net)\n",
    "    for index, row in df_measurement.iterrows():\n",
    "        if row['element_type'] =='bus':\n",
    "            if row['meas_type'] =='v':\n",
    "                mu= net.res_bus.iloc[row['element'],0]\n",
    "                sigma = (abs(mu)*1.03-abs(mu)*0.97)/4\n",
    "            elif row['meas_type'] =='p':\n",
    "                mu= net.res_bus.iloc[row['element'],2]\n",
    "                sigma = (abs(mu)*1.03-abs(mu)*0.97)/4\n",
    "            elif row['meas_type'] =='q':\n",
    "                mu= net.res_bus.iloc[row['element'],3]\n",
    "                sigma = (abs(mu)*1.03-abs(mu)*0.97)/4\n",
    "\n",
    "        elif row['element_type'] =='line':\n",
    "\n",
    "            if row['side']=='from':\n",
    "                if row['meas_type'] =='p':\n",
    "                    mu= net.res_line.iloc[row['element'],0]\n",
    "                    sigma = (abs(mu)*1.05-abs(mu)*0.95)/4\n",
    "                elif row['meas_type'] =='q':\n",
    "                    mu = net.res_line.iloc[row['element'],1]\n",
    "                    sigma = (abs(mu)*1.05-abs(mu)*0.95)/4\n",
    "                elif row['meas_type']=='i':\n",
    "                    mu=net.res_line.iloc[row['element'],6]\n",
    "                    sigma = (abs(mu)*1.05-abs(mu)*0.95)/4\n",
    "            elif row['side']=='to':\n",
    "                pass\n",
    "\n",
    "        elif row['element_type'] =='trafo':\n",
    "            'create trafo measurement'\n",
    "            if row['side']=='from':\n",
    "                pass\n",
    "            elif row['side']=='to':\n",
    "                if row['meas_type'] =='v':\n",
    "                    mu =net.res_trafo.iloc[row['element'],10]\n",
    "                    sigma = (abs(mu)*1.05-abs(mu)*0.95)/4\n",
    "        #                 print(mu)\n",
    "                elif row['meas_type'] =='p':\n",
    "                    mu =net.res_trafo.iloc[row['element'],2]\n",
    "                    sigma = (abs(mu)*1.05-abs(mu)*0.95)/4\n",
    "                elif row['meas_type'] =='q':\n",
    "                    mu =net.res_trafo.iloc[row['element'],3]\n",
    "        #                 print(mu)\n",
    "                    sigma = (abs(mu)*1.05-abs(mu)*0.95)/4\n",
    "        #     print('Mean:',mu, 'standard deviation:', sigma)\n",
    "        value = np.random.normal(mu, sigma, 1)\n",
    "        #     print('Random value:', value[0])\n",
    "        list_value.append(value[0])\n",
    "        list_std.append(sigma)\n",
    "#     print(list_value)\n",
    "    df_measurement['value']=list_value\n",
    "    df_measurement['std_dev']=list_std\n",
    "\n",
    "    for index, row in df_measurement.iterrows():\n",
    "        if row['element_type']=='bus':\n",
    "#             print('create bus measurement')\n",
    "            pp.create_measurement(net, row['meas_type'], row['element_type'], value=row['value'], \n",
    "                                  std_dev=row['std_dev'], element=row['element'])\n",
    "\n",
    "        elif row['element_type']=='line':\n",
    "#             print('create line measurement')\n",
    "            pp.create_measurement(net, row['meas_type'], row['element_type'], value=row['value'], \n",
    "                                  std_dev=row['std_dev'], element=row['element'], side=row['side'])\n",
    "\n",
    "        elif row['element_type']=='trafo':\n",
    "#             print('create trafo measurement')\n",
    "            if row['meas_type'] in ['p','q']:\n",
    "                pp.create_measurement(net, row['meas_type'], row['element_type'], value=row['value'], \n",
    "                                      std_dev=row['std_dev'], element=row['element'], side=row['side'])\n",
    "    return df_measurement, net"
   ]
  },
  {
   "cell_type": "markdown",
   "metadata": {},
   "source": [
    "# NO solar PV"
   ]
  },
  {
   "cell_type": "code",
   "execution_count": 124,
   "metadata": {},
   "outputs": [],
   "source": [
    "net1 = pn.simple_four_bus_system()\n",
    "net1.sgen['p_mw']=[0,0]\n",
    "net1.sgen['q_mvar']=[0,0]\n",
    "net1.sgen['sn_mva']=[0,0]\n",
    "pp.runpp(net1)"
   ]
  },
  {
   "cell_type": "code",
   "execution_count": 125,
   "metadata": {},
   "outputs": [],
   "source": [
    "df_measurement=pd.DataFrame()\n",
    "df_measurement['meas_type']=['v','v','v','v','p','p','q','q','i','i']\n",
    "df_measurement['element_type']=['bus','bus','bus','bus','line','line','line','line','line','line']\n",
    "df_measurement['element']=[0,1,2,3,0,1,0,1,0,1]\n",
    "df_measurement['side']=['None','None','None','None','from','from','from','from','from','from']\n",
    "df_measurement, net1 = create_measurement_unit(df_measurement, net1)\n",
    "success = estimate(net1, init=\"flat\", calculate_voltage_angles=True, zero_injection=[1])\n",
    "V_est, delta_est = net1.res_bus_est.vm_pu, net1.res_bus_est.va_degree"
   ]
  },
  {
   "cell_type": "code",
   "execution_count": 126,
   "metadata": {},
   "outputs": [],
   "source": [
    "list_slack_bus=[0]\n",
    "list_zero_inject_bus=[1]\n",
    "list_known_generation_bus=[0]\n",
    "participation_bus=list(set(list(net1.bus.index))-set(list_slack_bus+list_zero_inject_bus))"
   ]
  },
  {
   "cell_type": "code",
   "execution_count": 128,
   "metadata": {},
   "outputs": [
    {
     "name": "stdout",
     "output_type": "stream",
     "text": [
      "loss is: -20.57699209351439 %\n"
     ]
    }
   ],
   "source": [
    "df_LPF=pd.DataFrame()\n",
    "df_LPF['name']=net1.bus['name'].copy()\n",
    "df_LPF['name']=net1.bus['name'].copy()\n",
    "known_generation=-net1.res_bus_est.iloc[list_slack_bus[0],2]\n",
    "\n",
    "allocate_p_MW=[]\n",
    "allocate_q_MVAR=[]\n",
    "for index, row in df_LPF.iterrows():\n",
    "    if index in list_known_generation_bus+list_zero_inject_bus:\n",
    "        allocate_p_MW.append(0)\n",
    "        allocate_q_MVAR.append(0)\n",
    "    else:\n",
    "        allocate_p_MW.append(net1.res_bus_est.iloc[index,2])\n",
    "        allocate_q_MVAR.append(net1.res_bus_est.iloc[index,3])\n",
    "df_LPF['allocate_p_MW']=allocate_p_MW\n",
    "df_LPF['allocate_1_MVAR']=allocate_q_MVAR\n",
    "\n",
    "          \n",
    "df_LPF['LPF']=net1.res_bus_est['p_mw']/known_generation\n",
    "\n",
    "loss=sum(df_LPF.iloc[list_known_generation_bus,:]['LPF'])+sum(df_LPF.iloc[participation_bus,:]['LPF'])\n",
    "\n",
    "print('loss is:', loss*100, '%')"
   ]
  },
  {
   "cell_type": "code",
   "execution_count": 129,
   "metadata": {},
   "outputs": [
    {
     "data": {
      "text/html": [
       "<div>\n",
       "<style scoped>\n",
       "    .dataframe tbody tr th:only-of-type {\n",
       "        vertical-align: middle;\n",
       "    }\n",
       "\n",
       "    .dataframe tbody tr th {\n",
       "        vertical-align: top;\n",
       "    }\n",
       "\n",
       "    .dataframe thead th {\n",
       "        text-align: right;\n",
       "    }\n",
       "</style>\n",
       "<table border=\"1\" class=\"dataframe\">\n",
       "  <thead>\n",
       "    <tr style=\"text-align: right;\">\n",
       "      <th></th>\n",
       "      <th>name</th>\n",
       "      <th>allocate_p_MW</th>\n",
       "      <th>allocate_1_MVAR</th>\n",
       "      <th>LPF</th>\n",
       "    </tr>\n",
       "  </thead>\n",
       "  <tbody>\n",
       "    <tr>\n",
       "      <th>0</th>\n",
       "      <td>bus1ref</td>\n",
       "      <td>0.000000</td>\n",
       "      <td>0.000000</td>\n",
       "      <td>-1.000000</td>\n",
       "    </tr>\n",
       "    <tr>\n",
       "      <th>1</th>\n",
       "      <td>bus2</td>\n",
       "      <td>0.000000</td>\n",
       "      <td>0.000000</td>\n",
       "      <td>-0.019162</td>\n",
       "    </tr>\n",
       "    <tr>\n",
       "      <th>2</th>\n",
       "      <td>bus3</td>\n",
       "      <td>0.029942</td>\n",
       "      <td>0.009256</td>\n",
       "      <td>0.395571</td>\n",
       "    </tr>\n",
       "    <tr>\n",
       "      <th>3</th>\n",
       "      <td>bus4</td>\n",
       "      <td>0.030175</td>\n",
       "      <td>0.009884</td>\n",
       "      <td>0.398660</td>\n",
       "    </tr>\n",
       "  </tbody>\n",
       "</table>\n",
       "</div>"
      ],
      "text/plain": [
       "      name  allocate_p_MW  allocate_1_MVAR       LPF\n",
       "0  bus1ref       0.000000         0.000000 -1.000000\n",
       "1     bus2       0.000000         0.000000 -0.019162\n",
       "2     bus3       0.029942         0.009256  0.395571\n",
       "3     bus4       0.030175         0.009884  0.398660"
      ]
     },
     "execution_count": 129,
     "metadata": {},
     "output_type": "execute_result"
    }
   ],
   "source": [
    "df_LPF"
   ]
  },
  {
   "cell_type": "code",
   "execution_count": 141,
   "metadata": {
    "scrolled": true
   },
   "outputs": [],
   "source": [
    "list_LPF_zero_injection_bus=[]\n",
    "for round in range(0,100):\n",
    "# for round in tqdm(range(0,100)):\n",
    "#     print(round)\n",
    "    net1 = pn.simple_four_bus_system()\n",
    "    net1.sgen['p_mw']=[0,0]\n",
    "    net1.sgen['q_mvar']=[0,0]\n",
    "    net1.sgen['sn_mva']=[0,0]\n",
    "    pp.runpp(net1)\n",
    "    df_measurement=pd.DataFrame()\n",
    "    df_measurement['meas_type']=['v','v','v','v','p','p','q','q','i','i']\n",
    "    df_measurement['element_type']=['bus','bus','bus','bus','line','line','line','line','line','line']\n",
    "    df_measurement['element']=[0,1,2,3,0,1,0,1,0,1]\n",
    "    df_measurement['side']=['None','None','None','None','from','from','from','from','from','from']\n",
    "    df_measurement, net1 = create_measurement_unit(df_measurement, net1)\n",
    "    success = estimate(net1, init=\"flat\", calculate_voltage_angles=True, zero_injection=[1])\n",
    "#     V_est, delta_est = net1.res_bus_est.vm_pu, net1.res_bus_est.va_degree\n",
    "    list_slack_bus=[0]\n",
    "    list_zero_inject_bus=[1]\n",
    "    list_known_generation_bus=[0]\n",
    "    participation_bus=list(set(list(net1.bus.index))-set(list_slack_bus+list_zero_inject_bus))\n",
    "    df_LPF=pd.DataFrame()\n",
    "    df_LPF['name']=net1.bus['name'].copy()\n",
    "    known_generation=-net1.res_bus_est.iloc[list_slack_bus[0],2]\n",
    "\n",
    "    allocate_p_MW=[]\n",
    "    allocate_q_MVAR=[]\n",
    "    for index, row in df_LPF.iterrows():\n",
    "        if index in list_known_generation_bus+list_zero_inject_bus:\n",
    "            allocate_p_MW.append(0)\n",
    "            allocate_q_MVAR.append(0)\n",
    "        else:\n",
    "            allocate_p_MW.append(net1.res_bus_est.iloc[index,2])\n",
    "            allocate_q_MVAR.append(net1.res_bus_est.iloc[index,3])\n",
    "    df_LPF['allocate_p_MW']=allocate_p_MW\n",
    "    df_LPF['allocate_1_MVAR']=allocate_q_MVAR\n",
    "\n",
    "\n",
    "    df_LPF['LPF']=net1.res_bus_est['p_mw']/known_generation\n",
    "\n",
    "    loss=sum(df_LPF.iloc[list_known_generation_bus,:]['LPF'])+sum(df_LPF.iloc[participation_bus,:]['LPF'])\n",
    "\n",
    "#     print('loss is:', loss*100, '%')\n",
    "    list_LPF_zero_injection_bus.append(df_LPF.LPF[1])"
   ]
  },
  {
   "cell_type": "code",
   "execution_count": 142,
   "metadata": {},
   "outputs": [
    {
     "data": {
      "text/html": [
       "<div>\n",
       "<style scoped>\n",
       "    .dataframe tbody tr th:only-of-type {\n",
       "        vertical-align: middle;\n",
       "    }\n",
       "\n",
       "    .dataframe tbody tr th {\n",
       "        vertical-align: top;\n",
       "    }\n",
       "\n",
       "    .dataframe thead th {\n",
       "        text-align: right;\n",
       "    }\n",
       "</style>\n",
       "<table border=\"1\" class=\"dataframe\">\n",
       "  <thead>\n",
       "    <tr style=\"text-align: right;\">\n",
       "      <th></th>\n",
       "      <th>vm_pu</th>\n",
       "      <th>va_degree</th>\n",
       "      <th>p_mw</th>\n",
       "      <th>q_mvar</th>\n",
       "    </tr>\n",
       "  </thead>\n",
       "  <tbody>\n",
       "    <tr>\n",
       "      <th>0</th>\n",
       "      <td>1.005910</td>\n",
       "      <td>0.000000</td>\n",
       "      <td>-0.091191</td>\n",
       "      <td>-0.062774</td>\n",
       "    </tr>\n",
       "    <tr>\n",
       "      <th>1</th>\n",
       "      <td>0.992106</td>\n",
       "      <td>-150.623458</td>\n",
       "      <td>0.012664</td>\n",
       "      <td>0.038788</td>\n",
       "    </tr>\n",
       "    <tr>\n",
       "      <th>2</th>\n",
       "      <td>0.830262</td>\n",
       "      <td>-148.927971</td>\n",
       "      <td>0.030736</td>\n",
       "      <td>0.009280</td>\n",
       "    </tr>\n",
       "    <tr>\n",
       "      <th>3</th>\n",
       "      <td>0.746203</td>\n",
       "      <td>-147.657892</td>\n",
       "      <td>0.029806</td>\n",
       "      <td>0.010700</td>\n",
       "    </tr>\n",
       "  </tbody>\n",
       "</table>\n",
       "</div>"
      ],
      "text/plain": [
       "      vm_pu   va_degree      p_mw    q_mvar\n",
       "0  1.005910    0.000000 -0.091191 -0.062774\n",
       "1  0.992106 -150.623458  0.012664  0.038788\n",
       "2  0.830262 -148.927971  0.030736  0.009280\n",
       "3  0.746203 -147.657892  0.029806  0.010700"
      ]
     },
     "execution_count": 142,
     "metadata": {},
     "output_type": "execute_result"
    }
   ],
   "source": [
    "net1.res_bus_est"
   ]
  },
  {
   "cell_type": "code",
   "execution_count": 121,
   "metadata": {},
   "outputs": [
    {
     "data": {
      "text/plain": [
       "0.03583201576182541"
      ]
     },
     "execution_count": 121,
     "metadata": {},
     "output_type": "execute_result"
    }
   ],
   "source": [
    "known_generation"
   ]
  },
  {
   "cell_type": "code",
   "execution_count": 146,
   "metadata": {},
   "outputs": [
    {
     "ename": "AttributeError",
     "evalue": "'numpy.ndarray' object has no attribute 'trimmean'",
     "output_type": "error",
     "traceback": [
      "\u001b[0;31m---------------------------------------------------------------------------\u001b[0m",
      "\u001b[0;31mAttributeError\u001b[0m                            Traceback (most recent call last)",
      "\u001b[0;32m<ipython-input-146-3c1b29906552>\u001b[0m in \u001b[0;36m<module>\u001b[0;34m()\u001b[0m\n\u001b[0;32m----> 1\u001b[0;31m \u001b[0mnp\u001b[0m\u001b[0;34m.\u001b[0m\u001b[0marray\u001b[0m\u001b[0;34m(\u001b[0m\u001b[0mlist_LPF_zero_injection_bus\u001b[0m\u001b[0;34m)\u001b[0m\u001b[0;34m.\u001b[0m\u001b[0mtrimmean\u001b[0m\u001b[0;34m(\u001b[0m\u001b[0;34m)\u001b[0m\u001b[0;34m\u001b[0m\u001b[0;34m\u001b[0m\u001b[0m\n\u001b[0m",
      "\u001b[0;31mAttributeError\u001b[0m: 'numpy.ndarray' object has no attribute 'trimmean'"
     ]
    }
   ],
   "source": [
    "np.array(list_LPF_zero_injection_bus).trimmean()"
   ]
  },
  {
   "cell_type": "code",
   "execution_count": 145,
   "metadata": {},
   "outputs": [
    {
     "name": "stdout",
     "output_type": "stream",
     "text": [
      "[-0.7210606480159785, -0.11506286660195061, -0.7068355579568687, -0.06446317853856767, -0.2323586800966183, 0.3828562468664074, -0.10671653519944439, 0.19720136779243005, -0.08087396596555796, 0.2802298044365314, 0.07456539338112626, -0.5808538568000629, -0.9060555318401895, 0.14379946383444706, -2.028905895123906, -0.04453452655126167, -0.1797705286693625, -0.7071931025646369, -0.5439314947629824, 0.16706361245681262, -0.16840014206875126, 0.2444397314496198, -0.08842279907499297, 0.37566780736304795, -0.8591051128042613, -0.5895555059185056, -0.37921204741583914, -0.807180080593296, 0.29814322776899205, 0.2109351345245526, 0.23984422670670272, -0.23873348851650344, 0.4077951045818371, 0.3620173546458658, -0.10815606965171977, -0.2248775186617461, 0.02321094457689746, 0.1604562814864315, 0.34953587576422135, -0.14923464149155294, 0.49027910864732804, -0.28362652001970384, 0.2067693709067792, 0.15495674855667507, 0.09526064812308953, 0.3545234996442196, -0.9679163796203807, -0.06729214177401206, 0.35240435739192116, -0.627100897231498, -0.9295974026554564, -1.0705844528950947, -0.1545228533514325, 0.017856781388067674, -1.3389175976964987, -0.1984706779217109, -0.20604698283438674, -0.7305850232522557, -0.22397903351683737, 0.2310720148563729, -3.430916717763285, 0.36993212813709436, 0.38583249732536173, -4.4678819654136435, -0.15355834448278924, 0.3757660834195825, 0.2198233356352861, 0.31362074200398193, 0.17184280456101925, -0.23508939231069992, -1.2488167876964502, -0.09013985833583411, 0.3204568547835664, -0.2067701288781978, -0.39056891383272485, 0.1912538887240956, -0.15908986009028075, 0.2609612429506704, -0.47226506836628634, -0.49246676735008016, 0.05716428421911932, -0.10295084994115318, -2.671277767218058, -0.2190587155004519, -0.24639220606598408, -0.6143121773777032, 0.0029971177822216044, 0.20670179676358313, 0.1942369472080951, 0.12849253092930418, 0.1817166611557602, -0.16485368616988844, 0.2877461440368847, 0.21219427470823565, 0.10023831542498311, -3.4363853232965864, -3.375722093389673, -0.07005894922217938, -1.087981616836445, 0.13887064324897147]\n"
     ]
    }
   ],
   "source": [
    "print(list_LPF_zero_injection_bus)"
   ]
  },
  {
   "cell_type": "markdown",
   "metadata": {},
   "source": [
    "df_LPF"
   ]
  },
  {
   "cell_type": "markdown",
   "metadata": {},
   "source": [
    "# integration solar PV"
   ]
  },
  {
   "cell_type": "code",
   "execution_count": 131,
   "metadata": {},
   "outputs": [],
   "source": [
    "net2 = pn.simple_four_bus_system()\n",
    "pp.runpp(net2)\n",
    "V, delta=net2.res_bus.vm_pu, net2.res_bus.va_degree\n",
    "# print(net)"
   ]
  },
  {
   "cell_type": "code",
   "execution_count": 132,
   "metadata": {},
   "outputs": [],
   "source": [
    "df_measurement=pd.DataFrame()\n",
    "df_measurement=pd.DataFrame()\n",
    "df_measurement['meas_type']=['v','v','v','v','p','p','q','q','i','i']\n",
    "df_measurement['element_type']=['bus','bus','bus','bus','line','line','line','line','line','line']\n",
    "df_measurement['element']=[0,1,2,3,0,1,0,1,0,1]\n",
    "df_measurement['side']=['None','None','None','None','from','from','from','from','from','from']\n",
    "\n",
    "#where bus measurement has 3%error\n",
    "#where line measurement has 5%error\n",
    "#where trafo measurement has 5%error\n",
    "\n",
    "df_measurement, net2 = create_measurement_unit(df_measurement, net2)\n",
    "\n",
    "success = estimate(net2, init=\"flat\", calculate_voltage_angles=True, zero_injection=[1])\n",
    "V_est, delta_est = net2.res_bus_est.vm_pu, net2.res_bus_est.va_degree\n"
   ]
  },
  {
   "cell_type": "code",
   "execution_count": 133,
   "metadata": {},
   "outputs": [],
   "source": [
    "list_slack_bus=[0]\n",
    "list_zero_inject_bus=[1]\n",
    "list_known_generation_bus=list(set(list_slack_bus))\n",
    "participation_bus=list(set(list(net2.bus.index))-set(list_known_generation_bus+ list_zero_inject_bus))"
   ]
  },
  {
   "cell_type": "code",
   "execution_count": 134,
   "metadata": {},
   "outputs": [
    {
     "name": "stdout",
     "output_type": "stream",
     "text": [
      "loss is: -68.9894104681922 %\n"
     ]
    }
   ],
   "source": [
    "df_LPF=pd.DataFrame()\n",
    "df_LPF['name']=net2.bus['name'].copy()\n",
    "df_LPF['name']=net2.bus['name'].copy()\n",
    "known_generation=-net2.res_bus_est.iloc[list_slack_bus[0],2]\n",
    "\n",
    "allocate_p_MW=[]\n",
    "allocate_q_MVAR=[]\n",
    "for index, row in df_LPF.iterrows():\n",
    "    if index in list_known_generation_bus+list_zero_inject_bus:\n",
    "        allocate_p_MW.append(0)\n",
    "        allocate_q_MVAR.append(0)\n",
    "    else:\n",
    "        allocate_p_MW.append(net2.res_bus_est.iloc[index,2])\n",
    "        allocate_q_MVAR.append(net2.res_bus_est.iloc[index,3])\n",
    "df_LPF['allocate_p_MW']=allocate_p_MW\n",
    "df_LPF['allocate_1_MVAR']=allocate_q_MVAR\n",
    "\n",
    "          \n",
    "df_LPF['LPF']=net2.res_bus_est['p_mw']/known_generation\n",
    "\n",
    "loss=sum(df_LPF.iloc[list_known_generation_bus,:]['LPF'])+sum(df_LPF.iloc[participation_bus,:]['LPF'])\n",
    "\n",
    "print('loss is:', loss*100, '%')"
   ]
  },
  {
   "cell_type": "code",
   "execution_count": 135,
   "metadata": {},
   "outputs": [
    {
     "data": {
      "text/html": [
       "<div>\n",
       "<style scoped>\n",
       "    .dataframe tbody tr th:only-of-type {\n",
       "        vertical-align: middle;\n",
       "    }\n",
       "\n",
       "    .dataframe tbody tr th {\n",
       "        vertical-align: top;\n",
       "    }\n",
       "\n",
       "    .dataframe thead th {\n",
       "        text-align: right;\n",
       "    }\n",
       "</style>\n",
       "<table border=\"1\" class=\"dataframe\">\n",
       "  <thead>\n",
       "    <tr style=\"text-align: right;\">\n",
       "      <th></th>\n",
       "      <th>name</th>\n",
       "      <th>allocate_p_MW</th>\n",
       "      <th>allocate_1_MVAR</th>\n",
       "      <th>LPF</th>\n",
       "    </tr>\n",
       "  </thead>\n",
       "  <tbody>\n",
       "    <tr>\n",
       "      <th>0</th>\n",
       "      <td>bus1ref</td>\n",
       "      <td>0.000000</td>\n",
       "      <td>0.000000</td>\n",
       "      <td>-1.000000</td>\n",
       "    </tr>\n",
       "    <tr>\n",
       "      <th>1</th>\n",
       "      <td>bus2</td>\n",
       "      <td>0.000000</td>\n",
       "      <td>0.000000</td>\n",
       "      <td>0.628727</td>\n",
       "    </tr>\n",
       "    <tr>\n",
       "      <th>2</th>\n",
       "      <td>bus3</td>\n",
       "      <td>0.008949</td>\n",
       "      <td>0.005294</td>\n",
       "      <td>0.115687</td>\n",
       "    </tr>\n",
       "    <tr>\n",
       "      <th>3</th>\n",
       "      <td>bus4</td>\n",
       "      <td>0.015040</td>\n",
       "      <td>0.007926</td>\n",
       "      <td>0.194419</td>\n",
       "    </tr>\n",
       "  </tbody>\n",
       "</table>\n",
       "</div>"
      ],
      "text/plain": [
       "      name  allocate_p_MW  allocate_1_MVAR       LPF\n",
       "0  bus1ref       0.000000         0.000000 -1.000000\n",
       "1     bus2       0.000000         0.000000  0.628727\n",
       "2     bus3       0.008949         0.005294  0.115687\n",
       "3     bus4       0.015040         0.007926  0.194419"
      ]
     },
     "execution_count": 135,
     "metadata": {},
     "output_type": "execute_result"
    }
   ],
   "source": [
    "df_LPF"
   ]
  },
  {
   "cell_type": "code",
   "execution_count": 136,
   "metadata": {},
   "outputs": [
    {
     "name": "stdout",
     "output_type": "stream",
     "text": [
      "0\n",
      "1\n",
      "2\n",
      "3\n",
      "4\n",
      "5\n",
      "6\n",
      "7\n",
      "8\n",
      "9\n",
      "10\n",
      "11\n",
      "12\n",
      "13\n",
      "14\n",
      "15\n",
      "16\n",
      "17\n",
      "18\n",
      "19\n",
      "20\n",
      "21\n",
      "22\n",
      "23\n",
      "24\n",
      "25\n",
      "26\n",
      "27\n",
      "28\n",
      "29\n",
      "30\n",
      "31\n",
      "32\n",
      "33\n",
      "34\n",
      "35\n",
      "36\n",
      "37\n",
      "38\n",
      "39\n",
      "40\n",
      "41\n",
      "42\n",
      "43\n",
      "44\n",
      "45\n",
      "46\n",
      "47\n",
      "48\n",
      "49\n",
      "50\n",
      "51\n",
      "52\n",
      "53\n",
      "54\n",
      "55\n",
      "56\n",
      "57\n",
      "58\n",
      "59\n",
      "60\n",
      "61\n",
      "62\n",
      "63\n",
      "64\n",
      "65\n",
      "66\n",
      "67\n",
      "68\n",
      "69\n",
      "70\n",
      "71\n",
      "72\n",
      "73\n",
      "74\n",
      "75\n",
      "76\n",
      "77\n",
      "78\n",
      "79\n",
      "80\n",
      "81\n",
      "82\n",
      "83\n",
      "84\n",
      "85\n",
      "86\n",
      "87\n",
      "88\n",
      "89\n",
      "90\n",
      "91\n",
      "92\n",
      "93\n",
      "94\n",
      "95\n",
      "96\n",
      "97\n",
      "98\n",
      "99\n"
     ]
    }
   ],
   "source": [
    "list_LPF_zero_injection_bus=[]\n",
    "for round in range(0,100):\n",
    "# for round in tqdm(range(0,100)):\n",
    "    print(round)\n",
    "    net2 = pn.simple_four_bus_system()\n",
    "    pp.runpp(net2)\n",
    "    V, delta=net2.res_bus.vm_pu, net2.res_bus.va_degree\n",
    "    # print(net)\n",
    "    df_measurement=pd.DataFrame()\n",
    "    df_measurement=pd.DataFrame()\n",
    "    df_measurement['meas_type']=['v','v','v','v','p','p','q','q','i','i']\n",
    "    df_measurement['element_type']=['bus','bus','bus','bus','line','line','line','line','line','line']\n",
    "    df_measurement['element']=[0,1,2,3,0,1,0,1,0,1]\n",
    "    df_measurement['side']=['None','None','None','None','from','from','from','from','from','from']\n",
    "\n",
    "    #where bus measurement has 3%error\n",
    "    #where line measurement has 5%error\n",
    "    #where trafo measurement has 5%error\n",
    "\n",
    "    df_measurement, net2 = create_measurement_unit(df_measurement, net2)\n",
    "\n",
    "    success = estimate(net2, init=\"flat\", calculate_voltage_angles=True, zero_injection=[1])\n",
    "    V_est, delta_est = net2.res_bus_est.vm_pu, net2.res_bus_est.va_degree\n",
    "\n",
    "    list_slack_bus=[0]\n",
    "    list_zero_inject_bus=[1]\n",
    "    list_known_generation_bus=list(set(list_slack_bus))\n",
    "    participation_bus=list(set(list(net2.bus.index))-set(list_known_generation_bus+ list_zero_inject_bus))\n",
    "    df_LPF=pd.DataFrame()\n",
    "    df_LPF['name']=net2.bus['name'].copy()\n",
    "    known_generation=-net2.res_bus_est.iloc[list_slack_bus[0],2]\n",
    "\n",
    "    allocate_p_MW=[]\n",
    "    allocate_q_MVAR=[]\n",
    "    for index, row in df_LPF.iterrows():\n",
    "        if index in list_known_generation_bus+list_zero_inject_bus:\n",
    "            allocate_p_MW.append(0)\n",
    "            allocate_q_MVAR.append(0)\n",
    "        else:\n",
    "            allocate_p_MW.append(net2.res_bus_est.iloc[index,2])\n",
    "            allocate_q_MVAR.append(net2.res_bus_est.iloc[index,3])\n",
    "    df_LPF['allocate_p_MW']=allocate_p_MW\n",
    "    df_LPF['allocate_q_MVAR']=allocate_q_MVAR\n",
    "\n",
    "\n",
    "    df_LPF['LPF']=net2.res_bus_est['p_mw']/known_generation\n",
    "\n",
    "    loss=sum(df_LPF.iloc[list_known_generation_bus,:]['LPF'])+sum(df_LPF.iloc[participation_bus,:]['LPF'])\n",
    "\n",
    "    # print('loss is:', loss*100, '%')\n",
    "    list_LPF_zero_injection_bus.append(df_LPF.LPF[1])"
   ]
  },
  {
   "cell_type": "code",
   "execution_count": 137,
   "metadata": {},
   "outputs": [
    {
     "data": {
      "text/plain": [
       "0.4616216299111532"
      ]
     },
     "execution_count": 137,
     "metadata": {},
     "output_type": "execute_result"
    }
   ],
   "source": [
    "np.array(list_LPF_zero_injection_bus).mean()"
   ]
  },
  {
   "cell_type": "code",
   "execution_count": 139,
   "metadata": {},
   "outputs": [
    {
     "data": {
      "text/plain": [
       "4.818572351018006"
      ]
     },
     "execution_count": 139,
     "metadata": {},
     "output_type": "execute_result"
    }
   ],
   "source": [
    "np.array(list_LPF_zero_injection_bus).std()"
   ]
  },
  {
   "cell_type": "code",
   "execution_count": null,
   "metadata": {},
   "outputs": [],
   "source": []
  }
 ],
 "metadata": {
  "kernelspec": {
   "display_name": "Python 3",
   "language": "python",
   "name": "python3"
  },
  "language_info": {
   "codemirror_mode": {
    "name": "ipython",
    "version": 3
   },
   "file_extension": ".py",
   "mimetype": "text/x-python",
   "name": "python",
   "nbconvert_exporter": "python",
   "pygments_lexer": "ipython3",
   "version": "3.6.8"
  }
 },
 "nbformat": 4,
 "nbformat_minor": 2
}
