{
 "cells": [
  {
   "cell_type": "code",
   "execution_count": 29,
   "metadata": {},
   "outputs": [
    {
     "name": "stdout",
     "output_type": "stream",
     "text": [
      "2.0.1\n"
     ]
    }
   ],
   "source": [
    "import pandapower as pp\n",
    "import pandapower.networks as pn\n",
    "from pandapower.estimation import estimate, remove_bad_data, chi2_analysis\n",
    "import pandas as pd\n",
    "import numpy as np\n",
    "# from tqdm import tqdm\n",
    "print(pp.__version__)\n",
    "import matplotlib.pyplot as plt\n",
    "import ruptures as rpt\n",
    "from tqdm import tqdm\n",
    "# from julia.PowerModels import run_ac_opf\n",
    "# from julia.PowerModels import run_ac_opf"
   ]
  },
  {
   "cell_type": "code",
   "execution_count": 30,
   "metadata": {
    "collapsed": true
   },
   "outputs": [],
   "source": [
    "def create_measurement_unit(df_measurement, net):\n",
    "    list_value=[]\n",
    "    list_std=[]\n",
    "    for index, row in df_measurement.iterrows():\n",
    "        if row['element_type'] =='bus':\n",
    "            if row['meas_type'] =='v':\n",
    "                mu= net.res_bus.iloc[row['element'],0]\n",
    "                sigma = (abs(mu)*upper_bus_accuracy-abs(mu)*lower_bus_accuracy)/4\n",
    "            elif row['meas_type'] =='p':\n",
    "                mu= net.res_bus.iloc[row['element'],2]\n",
    "                sigma = (abs(mu)*upper_bus_accuracy-abs(mu)*lower_bus_accuracy)/4\n",
    "            elif row['meas_type'] =='q':\n",
    "                mu= net.res_bus.iloc[row['element'],3]\n",
    "                sigma = (abs(mu)*upper_bus_accuracy-abs(mu)*lower_bus_accuracy)/4\n",
    "                \n",
    "        elif row['element_type'] =='line':\n",
    "            if row['side']=='from':\n",
    "                if row['meas_type'] =='p':\n",
    "                    mu= net.res_line.iloc[row['element'],0]\n",
    "                    sigma = (abs(mu)*upper_line_accuracy-abs(mu)*lower_line_accuracy)/4\n",
    "                elif row['meas_type'] =='q':\n",
    "                    mu = net.res_line.iloc[row['element'],1]\n",
    "                    sigma = (abs(mu)*upper_line_accuracy-abs(mu)*lower_line_accuracy)/4\n",
    "                elif row['meas_type']=='i':\n",
    "                    mu=net.res_line.iloc[row['element'],6]\n",
    "                    sigma = (abs(mu)*upper_line_accuracy-abs(mu)*lower_line_accuracy)/4\n",
    "            elif row['side']=='to':\n",
    "                if row['meas_type'] =='p':\n",
    "                    mu= net.res_line.iloc[row['element'],2]\n",
    "                    sigma = (abs(mu)*upper_line_accuracy-abs(mu)*lower_line_accuracy)/4\n",
    "                elif row['meas_type'] =='q':\n",
    "                    mu = net.res_line.iloc[row['element'],3]\n",
    "                    sigma = (abs(mu)*upper_line_accuracy-abs(mu)*lower_line_accuracy)/4\n",
    "                elif row['meas_type']=='i':\n",
    "                    mu=net.res_line.iloc[row['element'],7]\n",
    "                    sigma = (abs(mu)*upper_line_accuracy-abs(mu)*lower_line_accuracy)/4\n",
    "                    \n",
    "                    \n",
    "        elif row['element_type'] =='trafo':\n",
    "            if row['side']=='from':\n",
    "                if row['meas_type'] == 'i':\n",
    "                    mu =net.res_trafo.iloc[row['element'],6]\n",
    "                    sigma = (abs(mu)*upper_trafo_accuracy-abs(mu)*lower_trafo_accuracy)/4\n",
    "                elif row['meas_type'] == 'p':\n",
    "                    mu =net.res_trafo.iloc[row['element'],0]\n",
    "                    sigma = (abs(mu)*upper_trafo_accuracy-abs(mu)*lower_trafo_accuracy)/4\n",
    "                elif row['meas_type'] == 'q':\n",
    "                    mu =net.res_trafo.iloc[row['element'],1]\n",
    "                    sigma = (abs(mu)*upper_trafo_accuracy-abs(mu)*lower_trafo_accuracy)/4\n",
    "            elif row['side']=='to':\n",
    "                if row['meas_type'] =='i':\n",
    "                    mu =net.res_trafo.iloc[row['element'],7]\n",
    "                    sigma = (abs(mu)*upper_trafo_accuracy-abs(mu)*lower_trafo_accuracy)/4\n",
    "                elif row['meas_type'] =='p':\n",
    "                    mu =net.res_trafo.iloc[row['element'],2]\n",
    "                    sigma = (abs(mu)*upper_trafo_accuracy-abs(mu)*lower_trafo_accuracy)/4\n",
    "                elif row['meas_type'] =='q':\n",
    "                    mu =net.res_trafo.iloc[row['element'],3]\n",
    "                    sigma = (abs(mu)*upper_trafo_accuracy-abs(mu)*lower_trafo_accuracy)/4\n",
    "#         print(mu)  \n",
    "        value = np.random.normal(mu, sigma, 1)\n",
    "        list_value.append(value[0])\n",
    "        list_std.append(sigma)\n",
    "    df_measurement['value']=list_value\n",
    "    df_measurement['std_dev']=list_std\n",
    "\n",
    "    for index, row in df_measurement.iterrows():\n",
    "        if row['element_type']=='bus':\n",
    "            pp.create_measurement(net, row['meas_type'], row['element_type'], value=row['value'], \n",
    "                                  std_dev=row['std_dev'], element=row['element'])\n",
    "        elif row['element_type']=='line':\n",
    "            pp.create_measurement(net, row['meas_type'], row['element_type'], value=row['value'], \n",
    "                                  std_dev=row['std_dev'], element=row['element'], side=row['side'])\n",
    "        elif row['element_type']=='trafo':\n",
    "            if row['meas_type'] in ['p','q']:\n",
    "                pp.create_measurement(net, row['meas_type'], row['element_type'], value=row['value'], \n",
    "                                      std_dev=row['std_dev'], element=row['element'], side=row['side'])\n",
    "    return df_measurement, net"
   ]
  },
  {
   "cell_type": "code",
   "execution_count": 5,
   "metadata": {
    "collapsed": true
   },
   "outputs": [],
   "source": [
    "global upper_bus_accuracy, lower_bus_accuracy, upper_line_accuracy, lower_line_accuracy, upper_trafo_accuracy, lower_trafo_accuracy\n",
    "upper_bus_accuracy=1.01\n",
    "lower_bus_accuracy=0.99\n",
    "upper_line_accuracy=1.03\n",
    "lower_line_accuracy=0.97\n",
    "upper_trafo_accuracy=1.03\n",
    "lower_trafo_accuracy=0.97"
   ]
  },
  {
   "cell_type": "code",
   "execution_count": 9,
   "metadata": {
    "collapsed": true
   },
   "outputs": [],
   "source": [
    "#modelling duck curve pattern for solar PV generation\n",
    "scaling_for_solar=np.array([0,0,0,0,0,0,0.02,0.1,0.3,0.5,0.7,0.8,0.8,1.0,1.0,0.8,0.7,0.4,0.2,0,0,0,0,0,0])\n",
    "# scaling_for_solar=np.array([np.random.normal(item, 0.01, 60) if item !=0 else np.zeros(60) for item in scaling_for_solar])\n",
    "scaling_for_solar=np.array([np.random.normal(item, 0.05, 1)[0] if item !=0 else np.zeros(1)[0] for ind in range(len(scaling_for_solar)-1) for item in np.linspace(scaling_for_solar[ind], scaling_for_solar[ind+1],60)])\n",
    "scaling_for_solar=np.array([value if value >0 else np.zeros(1)[0] for value in scaling_for_solar])\n",
    "scaling_for_solar.shape=(1,24*60)\n",
    "scaling_for_load=np.array([0.3,0.2,0.15,0.15, 0.2,0.25,\n",
    "                          0.4,0.5,0.6,0.7,0.4,0.5,0.6,\n",
    "                          0.7,0.65,0.55,0.55,0.6,0.7,\n",
    "                          0.8,0.86,0.9,0.5,0.3])\n",
    "scaling_for_load=np.array([[np.random.normal(item, 0.1, 15),\n",
    "                            np.random.normal(item, 0.1, 15),\n",
    "                            np.random.normal(item, 0.1, 15),\n",
    "                            np.random.normal(item, 0.1, 15)] for item in scaling_for_load])\n",
    "scaling_for_load.shape=(1,24*60)\n",
    "\n",
    "scaling_for_solar[0][800:805]=0.1\n",
    "scaling_for_solar[0][705:710]=0.1\n",
    "scaling_for_solar[0][677:682]=0.1"
   ]
  },
  {
   "cell_type": "code",
   "execution_count": 10,
   "metadata": {},
   "outputs": [
    {
     "data": {
      "image/png": "[encoded data removed]",
      "text/plain": [
       "<matplotlib.figure.Figure at 0x126c324a8>"
      ]
     },
     "metadata": {},
     "output_type": "display_data"
    }
   ],
   "source": [
    "fig, ax = plt.subplots()\n",
    "\n",
    "ax.plot(range(len(scaling_for_solar[0])), scaling_for_solar[0])\n",
    "plt.show()"
   ]
  },
  {
   "cell_type": "code",
   "execution_count": null,
   "metadata": {
    "scrolled": false
   },
   "outputs": [
    {
     "name": "stderr",
     "output_type": "stream",
     "text": [
      "\n",
      "\n",
      "\n",
      "\n",
      "\n",
      "round:   0%|          | 0/3 [00:00<?, ?it/s]\u001b[A\u001b[A\u001b[A\u001b[A\u001b[A"
     ]
    },
    {
     "name": "stdout",
     "output_type": "stream",
     "text": [
      "[0 0 1 0 0 0 1 1 1]\n",
      "    name  bus   p_mw  q_mvar  sn_mva  scaling  in_service type  current_source\n",
      "0   PV 3    3  0.004     0.0   0.004      1.0       False   PV            True\n",
      "1   PV 4    4  0.027     0.0   0.027      1.0       False   PV            True\n",
      "2   PV 5    5  0.043     0.0   0.043      1.0        True   PV            True\n",
      "3   PV 6    6  0.032     0.0   0.032      1.0       False   PV            True\n",
      "4   PV 8    8  0.042     0.0   0.042      1.0       False   PV            True\n",
      "5   PV 9    9  0.033     0.0   0.033      1.0       False   PV            True\n",
      "6  PV 10   10  0.021     0.0   0.021      1.0        True   PV            True\n",
      "7  PV 11   11  0.019     0.0   0.019      1.0        True   PV            True\n",
      "8  WKA 7    7  0.007     0.0   0.007      1.0        True   WP            True\n",
      "correlation at bus 0 is: -0.003716741397937103\n",
      "correlation at bus 1 is: 0.007146940302052956\n",
      "correlation at bus 2 is: -0.021664858577808106\n",
      "correlation at bus 3 is: 0.006853742919376037\n",
      "correlation at bus 4 is: -0.005390281549155538\n",
      "correlation at bus 5 is: -0.12793982742264687\n",
      "correlation at bus 6 is: 0.0014319419837699153\n",
      "correlation at bus 7 is: -0.19122292789146977\n",
      "correlation at bus 8 is: 0.002789128043965068\n",
      "correlation at bus 9 is: -0.003966223326189563\n",
      "correlation at bus 10 is: -0.0842508852052433\n",
      "correlation at bus 11 is: -0.12457475918309731\n",
      "correlation at bus 12 is: 0.008149017718822812\n",
      "correlation at bus 13 is: -0.042227091469387974\n",
      "correlation at bus 14 is: 0.0028561680972578195\n"
     ]
    },
    {
     "name": "stderr",
     "output_type": "stream",
     "text": [
      "\n",
      "\n",
      "\n",
      "\n",
      "\n",
      "round:  33%|███▎      | 1/3 [15:17<30:34, 917.10s/it]\u001b[A\u001b[A\u001b[A\u001b[A\u001b[A"
     ]
    },
    {
     "name": "stdout",
     "output_type": "stream",
     "text": [
      "[0 0 1 1 1 0 1 1 1]\n",
      "    name  bus   p_mw  q_mvar  sn_mva  scaling  in_service type  current_source\n",
      "0   PV 3    3  0.002     0.0   0.002      1.0       False   PV            True\n",
      "1   PV 4    4  0.010     0.0   0.010      1.0       False   PV            True\n",
      "2   PV 5    5  0.011     0.0   0.011      1.0        True   PV            True\n",
      "3   PV 6    6  0.026     0.0   0.026      1.0        True   PV            True\n",
      "4   PV 8    8  0.028     0.0   0.028      1.0        True   PV            True\n",
      "5   PV 9    9  0.036     0.0   0.036      1.0       False   PV            True\n",
      "6  PV 10   10  0.041     0.0   0.041      1.0        True   PV            True\n",
      "7  PV 11   11  0.004     0.0   0.004      1.0        True   PV            True\n",
      "8  WKA 7    7  0.040     0.0   0.040      1.0        True   WP            True\n",
      "correlation at bus 0 is: -0.00643546418617457\n",
      "correlation at bus 1 is: 0.012422114454455565\n",
      "correlation at bus 2 is: 0.050085611915061314\n",
      "correlation at bus 3 is: -0.006067627872607428\n",
      "correlation at bus 4 is: 0.002225702563093504\n",
      "correlation at bus 5 is: -0.03456344106204818\n",
      "correlation at bus 6 is: -0.10457223729417418\n",
      "correlation at bus 7 is: -0.724327961225721\n",
      "correlation at bus 8 is: -0.11340223111884604\n",
      "correlation at bus 9 is: 0.005642220191345098\n",
      "correlation at bus 10 is: -0.1623695371099879\n",
      "correlation at bus 11 is: -0.02246568201363609\n",
      "correlation at bus 12 is: 0.012493212369448614\n",
      "correlation at bus 13 is: 0.053969774609260925\n",
      "correlation at bus 14 is: 0.0020189249771706027\n"
     ]
    },
    {
     "name": "stderr",
     "output_type": "stream",
     "text": [
      "\n",
      "\n",
      "\n",
      "\n",
      "\n",
      "round:  67%|██████▋   | 2/3 [30:23<15:13, 913.98s/it]\u001b[A\u001b[A\u001b[A\u001b[A\u001b[A"
     ]
    },
    {
     "name": "stdout",
     "output_type": "stream",
     "text": [
      "bus : 7 has solar PV size:  [0.04609786636223105]\n",
      "[1 0 1 1 0 0 0 1 1]\n",
      "    name  bus   p_mw  q_mvar  sn_mva  scaling  in_service type  current_source\n",
      "0   PV 3    3  0.003     0.0   0.003      1.0        True   PV            True\n",
      "1   PV 4    4  0.010     0.0   0.010      1.0       False   PV            True\n",
      "2   PV 5    5  0.020     0.0   0.020      1.0        True   PV            True\n",
      "3   PV 6    6  0.035     0.0   0.035      1.0        True   PV            True\n",
      "4   PV 8    8  0.028     0.0   0.028      1.0       False   PV            True\n",
      "5   PV 9    9  0.047     0.0   0.047      1.0       False   PV            True\n",
      "6  PV 10   10  0.030     0.0   0.030      1.0       False   PV            True\n",
      "7  PV 11   11  0.016     0.0   0.016      1.0        True   PV            True\n",
      "8  WKA 7    7  0.038     0.0   0.038      1.0        True   WP            True\n"
     ]
    }
   ],
   "source": [
    "list_PV_loc=[]\n",
    "list_PV_value=[]\n",
    "list_PV_detected_loc=[]\n",
    "list_PV_detected_value_1=[]\n",
    "list_PV_detected_value_2=[]\n",
    "list_PV_detected_value_3=[]\n",
    "\n",
    "\n",
    "for round in tqdm(range(3), desc='round: '):\n",
    "    net = pn.create_cigre_network_mv(with_der=\"pv_wind\")\n",
    "    net.bus=net.bus.sort_index()\n",
    "    net.line=net.line.sort_index()\n",
    "    net.trafo=net.trafo.sort_index()\n",
    "    net.load=net.load.sort_index()\n",
    "    net.sgen=net.sgen.sort_index()\n",
    "    net.sgen.p_mw=np.random.randint(50, size=len(net.sgen))/1000\n",
    "    net.sgen.sn_mva=net.sgen.p_mw\n",
    "    # net.shunt=net.shunt.sort_index()\n",
    "    net.switch.closed=[True]*2+[True]*2+[True]*2+[True]*2\n",
    "\n",
    "\n",
    "#     net.gen.p_mw=net.gen.max_p_mw\n",
    "\n",
    "    p_mw=np.array([[0 for item in range(len(net.bus))]])\n",
    "\n",
    "    zero_inject_bus= list(set(net.bus.index).difference(set(np.where(net.gen.p_mw!=0)[0]).union(set(net.load.bus)).union(net.ext_grid.bus).union(net.shunt.bus)))\n",
    "    list_bus_meas=list(set(net.bus.index)-set(zero_inject_bus))\n",
    "    list_line_meas=list(set(net.line.index))\n",
    "    list_transfo_meas=list(set(net.trafo.index))\n",
    "    df_measurement=pd.DataFrame()\n",
    "    df_measurement['meas_type']=['v']*len(list_bus_meas)+['p','q','p','q']*len(list_line_meas)+['p','q','p','q']*len(list_transfo_meas)\n",
    "    df_measurement['element_type']=['bus']*len(list_bus_meas)+['line','line','line','line']*len(list_line_meas)+['trafo','trafo','trafo','trafo']*len(list_transfo_meas)\n",
    "    df_measurement['element']=[item for item in list_bus_meas]+[item for item in list_line_meas for x in range(4)]+[item for item in list_transfo_meas for x in range(4)]\n",
    "    df_measurement['side']=['None']*len(list_bus_meas)+['from','from','to','to']*len(list_line_meas)+['from','from','to','to']*len(list_transfo_meas)\n",
    "\n",
    "    p_mw=np.array([np.zeros(len(net.bus))])\n",
    "    pv_location=np.random.randint(2, size=len(net.sgen))\n",
    "    while sum(pv_location) == 0:\n",
    "        pv_location=np.random.randint(2, size=len(net.sgen))\n",
    "    print(pv_location)\n",
    "    \n",
    "    net.sgen.in_service=[True if x == 1 else False for x in pv_location]\n",
    "    print(net.sgen)\n",
    "\n",
    "\n",
    "    for scaling_solar, load_scaling in zip(scaling_for_solar[0],scaling_for_load[0]):\n",
    "        net.sgen.scaling=scaling_solar\n",
    "        net.load.scaling[:]=load_scaling\n",
    "        pp.runpp(net)\n",
    "        net.res_bus=net.res_bus.sort_index()\n",
    "        net.res_line=net.res_line.sort_index()\n",
    "        net.res_trafo=net.res_trafo.sort_index()\n",
    "        df_measurement, net = create_measurement_unit(df_measurement, net)\n",
    "        success = estimate(net, init=\"slack\", zero_injection=zero_inject_bus, calculate_voltage_angles=True)\n",
    "        new_mw=np.array([[item for item in net.res_bus_est.p_mw[:]]])\n",
    "        p_mw=np.concatenate((p_mw, new_mw), axis=0)\n",
    "\n",
    "    df=pd.DataFrame()\n",
    "    # df['solar_irradiation']=scaling_for_solar[0][7*60:-5*60]\n",
    "    df['solar_irradiation']=scaling_for_solar[0][7*60:-5*60]\n",
    "    bus_has_solar_PV=[]\n",
    "    list_corr=[]\n",
    "    for bus in range(0,len(p_mw[0])):\n",
    "    #     df['bus{}'.format(bus)]=p_mw[:,bus][1:][7*60:-5*60]\n",
    "        df['bus{}'.format(bus)]=p_mw[:,bus][1:][7*60:-5*60]\n",
    "        corr=df['solar_irradiation'].corr(df['bus{}'.format(bus)])\n",
    "        print('correlation at bus {} is: {}'.format(bus, corr))\n",
    "        list_corr.append(corr)\n",
    "        if corr < -0.2:\n",
    "            bus_has_solar_PV.append(bus)\n",
    "    bus_has_solar_PV=[item for item in bus_has_solar_PV if item not in [0,2,13,14]]\n",
    "    list_PV_detected_loc.append(bus_has_solar_PV)\n",
    "    #combine solar scaling and p_mw at solar located bus\n",
    "    new_p_mw=p_mw.copy()\n",
    "    new_p_mw=new_p_mw.transpose()\n",
    "    my_array=np.array([scaling_for_solar[0]]).T.copy()\n",
    "    for located_bus in bus_has_solar_PV:\n",
    "        my_array=np.concatenate((my_array, np.array([[x] for x in new_p_mw[located_bus][1:]])), axis=1)\n",
    "\n",
    "    index=list(set(np.argwhere(np.isnan(my_array))[:,0]))\n",
    "    if (len(index)>0):\n",
    "        print('there is NaN in array')\n",
    "        my_array=np.delete(my_array, index, axis=0)\n",
    "\n",
    "    algo = rpt.Pelt(model='rbf', min_size=1, jump=1).fit(my_array[:])\n",
    "    my_bkps = algo.predict(pen=1)\n",
    "    # display\n",
    "#     rpt.display(my_array, my_bkps)\n",
    "#     plt.show()\n",
    "    size_pv_1=[]\n",
    "    size_pv_2=[]\n",
    "    size_pv_3=[]\n",
    "    for bus in bus_has_solar_PV:\n",
    "        sum_value=np.array([])\n",
    "        for period in my_bkps[:-1]:\n",
    "            value=(p_mw[1:][:,bus][period-1]-p_mw[1:][:,bus][period])/(scaling_for_solar[0][period-1]-scaling_for_solar[0][period])\n",
    "            if scaling_for_solar[0][period-1]-scaling_for_solar[0][period] !=0:\n",
    "                sum_value = np.append(sum_value, value)\n",
    "#             print(sum_value)\n",
    "        size_pv_1.append(sum_value.sum()/len(sum_value))\n",
    "#         print('bus :', bus, 'has solar PV size: ', size_pv_1)\n",
    "        size_pv_2.append(sum_value.sum()/len(sum_value)*list_corr[bus])\n",
    "#         print('bus :', bus, 'has solar PV size: ', size_pv_2)\n",
    "        mean = np.mean(sum_value, axis=0)\n",
    "        sd = np.std(sum_value, axis=0)\n",
    "        final_list = [x for x in sum_value if (x > mean - 2 * sd)]\n",
    "        final_list = [x for x in final_list if (x < mean + 2 * sd)]\n",
    "#         print(final_list)\n",
    "        size_pv_3.append(np.array(final_list).mean()*list_corr[bus])\n",
    "        print('bus :', bus, 'has solar PV size: ', size_pv_3)\n",
    "    list_PV_detected_value_1.append(size_pv_1)\n",
    "    list_PV_detected_value_2.append(size_pv_2)\n",
    "    list_PV_detected_value_3.append(size_pv_3)"
   ]
  },
  {
   "cell_type": "code",
   "execution_count": null,
   "metadata": {
    "collapsed": true
   },
   "outputs": [],
   "source": []
  },
  {
   "cell_type": "code",
   "execution_count": null,
   "metadata": {
    "collapsed": true
   },
   "outputs": [],
   "source": []
  },
  {
   "cell_type": "code",
   "execution_count": null,
   "metadata": {
    "collapsed": true
   },
   "outputs": [],
   "source": []
  },
  {
   "cell_type": "code",
   "execution_count": null,
   "metadata": {
    "collapsed": true
   },
   "outputs": [],
   "source": []
  },
  {
   "cell_type": "code",
   "execution_count": 1,
   "metadata": {},
   "outputs": [],
   "source": [
    "import numpy as np"
   ]
  },
  {
   "cell_type": "code",
   "execution_count": 193,
   "metadata": {},
   "outputs": [
    {
     "name": "stdout",
     "output_type": "stream",
     "text": [
      "324\n"
     ]
    }
   ],
   "source": [
    "# samples\n",
    "res_1=np.array([[220,290,480,190,480,110,290,50,420,50, 270,380,410,130,370,70,370,280,240,50,130,\n",
    "                 110,300,360,210,460,60,150,60,\n",
    "                 340,60,480,250,470,480,270,450,210,70,70,440,100,430,390,290,150,     180,80,130,\n",
    "                 270,10,120,80,400,390,460,20,200,140,330,420,  250,60,180,400,140,140, 390,250,20,260,\n",
    "                 360,460,390,450,150,0.1,440,240,90,140,400,230,40,10,140,160,140,0.1,260,450,240,\n",
    "                100,150,160,460,110,30,10,220,390,380,330,430,200,60,460,50,450,410,260,60,470,40,180,330,30,\n",
    "                430, 200, 60,270,150,220,210,170,180,170,420,370,380,170,110,220,420,230,400,80,\n",
    "                350,120,60,200,40,200,240,440,90,430,40,470,150,170,390,100,280,],\n",
    "                [275,352,785,340,859,220,429,104,669,16,203,584,449,157,502,69,437,328,181,13,99,\n",
    "                 70,224,337,154,268,43,37,18,\n",
    "                 379,39,520,280,505,405,201,548,185,166,147,785,222,2683,254,2864,1912,329,140,220,\n",
    "                 380,15,201,134,549,982,838,114,742,317,694,825,548,123,399,736,170,200,392,156,0,207,\n",
    "                 719,770,675,398,241,0.11,588,302,267,396,474,578,865,40,240,263,230,0.01,415,660,363,\n",
    "                103,159,190,314,68,24,13,89,307,101,31,487,201,58,793,14,772,415,242,40,60,32,75,37,39,\n",
    "                487,201,58,496,197,394,330,276,262,239,495,550,555,221,148,505,415,188,355,57,\n",
    "                268,126,19,116,153,186,171,410,45,280,42,68,226,125,448,130,289,]])\n",
    "res_2=np.array([20,20,10,]) #'Actual=Yes & Prediction=No:\n",
    "res_3=np.array([29363,34714,36716,12987,797,2686,510,4862])  #'Actual=No & Prediction=Yes \n",
    "res_4=np.array([60,30, 280, 210, 280, 390, 10,380, 180,270,410,110,220,360,100,330,70,420,220,30,270,\n",
    "                60,20,370,250,280,480,50,10,180,460,160,20,140,400,150,470,260,390,140,\n",
    "                400,170,120,410,470,110,70,460,\n",
    "               50,340,110,290,180,360,30,130,320,170,480,430,70,430,280,390,220,140,420,490,460,150,\n",
    "               460,220,80,40,200,40,270,80,440,250,60,200,110,200,450,110,20,460,410,330,160,230,80,\n",
    "               130,270,460,250,160,140,230,460,30,440,180,170,370,420,420,440,80,50,270,90,330,430,\n",
    "               50,320,360,230,30,380,270,110,140,280,350,480,35,41,\n",
    "               230,30,380,270,110,140,40,50,120,200,10,200,470,380,90,0,32,19,31,320,130,390,420,220,170,\n",
    "               150,450,320,10,300])  #'Actual=No & Prediction=No:'\n",
    "\n",
    "print(len(res_1[0])+len(res_2)+len(res_3)+len(res_4))\n",
    "\n",
    "TP=len(res_1[1])\n",
    "TN=len(res_4)\n",
    "FP=len(res_3)\n",
    "FN=len(res_2)"
   ]
  },
  {
   "cell_type": "code",
   "execution_count": 194,
   "metadata": {},
   "outputs": [],
   "source": [
    "TP=len(res_1[1])\n",
    "TN=len(res_4)\n",
    "FP=len(res_3)\n",
    "FN=len(res_2)\n",
    "\n",
    "\n",
    "\n",
    "\n",
    "ACC=(TP+TN)/(TP+TN+FP+FN)\n",
    "F_1=(2*TP)/(2*TP+FP+FN)\n",
    "MCC=(TP*TN-FP*FN)/(np.sqrt((TP+FP)*(TP+FN)*(TN+FP)*(TN+FN)))"
   ]
  },
  {
   "cell_type": "code",
   "execution_count": 195,
   "metadata": {},
   "outputs": [
    {
     "name": "stdout",
     "output_type": "stream",
     "text": [
      "ACC:  0.9660493827160493\n",
      "F1:  0.9655172413793104\n",
      "MCC:  0.9325430409005687\n"
     ]
    }
   ],
   "source": [
    "print('ACC: ', ACC)\n",
    "print('F1: ', F_1)\n",
    "print('MCC: ', MCC)"
   ]
  },
  {
   "cell_type": "code",
   "execution_count": 196,
   "metadata": {},
   "outputs": [
    {
     "name": "stdout",
     "output_type": "stream",
     "text": [
      "Total sample is: 324\n",
      "Actual=True & Prediction=True : 154\n",
      "Actual=True & Prediction=False: 3\n",
      "Actual=False & Prediction=True : 8\n",
      "Actual=False & Prediction=False: 159\n"
     ]
    }
   ],
   "source": [
    "total_len=len(res_1[0])+len(res_2)+len(res_3)+len(res_4)\n",
    "print('Total sample is:', total_len)\n",
    "print('Actual=True & Prediction=True :', len(res_1[1]))\n",
    "print('Actual=True & Prediction=False:', len(res_2))\n",
    "print('Actual=False & Prediction=True :', len(res_3))\n",
    "print('Actual=False & Prediction=False:', len(res_4))"
   ]
  },
  {
   "cell_type": "code",
   "execution_count": 197,
   "metadata": {},
   "outputs": [
    {
     "name": "stdout",
     "output_type": "stream",
     "text": [
      "137.7820767195767\n",
      "87.9515381175598\n",
      "73.17251405539935\n",
      "50.16120974136859\n",
      "58.04715596920511\n",
      "60.33611111111111\n",
      "135.86486486486487\n",
      "192.31034482758622\n",
      "185.04347826086956\n",
      "258.7931034482759\n",
      " \n",
      "85.54181770791868\n",
      "159.33181818181816\n",
      "318.69898117077753\n"
     ]
    }
   ],
   "source": [
    "res_1_to_100_kw=np.array([[],[]])\n",
    "res_100_to_200_kw=np.array([[],[]])\n",
    "res_200_to_300_kw=np.array([[],[]])\n",
    "res_300_to_400_kw=np.array([[],[]])\n",
    "res_400_to_500_kw=np.array([[],[]])\n",
    "for ind in range(len(res_1[0])):\n",
    "    if (res_1[0][ind] <=100):\n",
    "        res_1_to_100_kw=np.append(res_1_to_100_kw, np.array([[res_1[0][ind]], [res_1[1][ind]]]), axis=1)\n",
    "    elif (res_1[0][ind] <=200):\n",
    "        res_100_to_200_kw=np.append(res_100_to_200_kw, np.array([[res_1[0][ind]], [res_1[1][ind]]]), axis=1)\n",
    "    elif (res_1[0][ind] <=300):\n",
    "        res_200_to_300_kw=np.append(res_200_to_300_kw, np.array([[res_1[0][ind]], [res_1[1][ind]]]), axis=1)\n",
    "    elif (res_1[0][ind] <=400):\n",
    "        res_300_to_400_kw=np.append(res_300_to_400_kw, np.array([[res_1[0][ind]], [res_1[1][ind]]]), axis=1)\n",
    "    elif (res_1[0][ind] <=500):\n",
    "        res_400_to_500_kw=np.append(res_400_to_500_kw, np.array([[res_1[0][ind]], [res_1[1][ind]]]), axis=1)\n",
    "\n",
    "print(abs((res_1_to_100_kw[0]-res_1_to_100_kw[1])/res_1_to_100_kw[0]).mean()*100)\n",
    "print(abs((res_100_to_200_kw[0]-res_100_to_200_kw[1])/res_100_to_200_kw[0]).mean()*100)\n",
    "print(abs((res_200_to_300_kw[0]-res_200_to_300_kw[1])/res_200_to_300_kw[0]).mean()*100)\n",
    "print(abs((res_300_to_400_kw[0]-res_300_to_400_kw[1])/res_300_to_400_kw[0]).mean()*100)\n",
    "print(abs((res_400_to_500_kw[0]-res_400_to_500_kw[1])/res_400_to_500_kw[0]).mean()*100)\n",
    "print(abs(res_1_to_100_kw[0]-res_1_to_100_kw[1]).mean())\n",
    "print(abs(res_100_to_200_kw[0]-res_100_to_200_kw[1]).mean())\n",
    "print(abs(res_200_to_300_kw[0]-res_200_to_300_kw[1]).mean())\n",
    "print(abs(res_300_to_400_kw[0]-res_300_to_400_kw[1]).mean())\n",
    "print(abs(res_400_to_500_kw[0]-res_400_to_500_kw[1]).mean())\n",
    "print(' ')\n",
    "print(abs((res_1[0]-res_1[1])/res_1[0]).mean()*100)\n",
    "print(abs(res_1[0]-res_1[1]).mean())\n",
    "print(abs(res_1[0]-res_1[1]).std())"
   ]
  },
  {
   "cell_type": "code",
   "execution_count": null,
   "metadata": {},
   "outputs": [],
   "source": []
  }
 ],
 "metadata": {
  "kernelspec": {
   "display_name": "Python 3",
   "language": "python",
   "name": "python3"
  },
  "language_info": {
   "codemirror_mode": {
    "name": "ipython",
    "version": 3
   },
   "file_extension": ".py",
   "mimetype": "text/x-python",
   "name": "python",
   "nbconvert_exporter": "python",
   "pygments_lexer": "ipython3",
   "version": "3.6.8"
  }
 },
 "nbformat": 4,
 "nbformat_minor": 2
}
